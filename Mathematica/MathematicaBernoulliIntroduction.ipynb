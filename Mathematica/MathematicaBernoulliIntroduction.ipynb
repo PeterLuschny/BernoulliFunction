{
 "cells": [
  {
   "cell_type": "markdown",
   "metadata": {},
   "source": [
    "<h1 style=\"background: orange; color: #5E7AFF; text-align: center; line-height: 200%; letter-spacing: 1px; font-weight: bold;\">Introduction to the Bernoulli function<br>Peter Luschny</h1>"
   ]
  },
  {
   "cell_type": "markdown",
   "metadata": {},
   "source": [
    "<p style=\"color:brown;font-size:large\">A companion to <a href=\"https://arxiv.org/abs/2009.06743\">arXiv:2009.06743v2 [math.HO]</a></p> <p style=\"color:brown;font-size:large\">Numbering of formulas as in version 2.</p> \n",
    "<p style=\"color:brown;font-size:large\">Browsable at <a href=\"http://luschny.de/math/zeta/BernoulliFunctionNotebook.html\">BernoulliFunctionNotebook</a>.</p>\n",
    "<p style=\"color:brown;font-size:large\"> Source at <a href=\"https://github.com/PeterLuschny/BernoulliFunction/tree/master/Mathematica/MathematicaBernoulliIntroduction.ipynb\">BernoulliFunctionSource</a>.</p>\n",
    "<p style=\"color:brown;font-size:large\">\n",
    "Needs Wolfram Language kernel for Jupyter. See instructions at <a href=\"https://github.com/WolframResearch/WolframLanguageForJupyter\">GitHub</a>.</p>"
   ]
  },
  {
   "cell_type": "markdown",
   "metadata": {},
   "source": [
    "<h1 style=\"color:#CD5C5C;background:white; line-height: 150%;\n",
    "border-top: thick solid #CD5C5C; float: left; width: 100%; margin-top: 1em;\">\n",
    "Preliminaries\n",
    "</h1>"
   ]
  },
  {
   "cell_type": "code",
   "execution_count": null,
   "metadata": {},
   "outputs": [],
   "source": [
    "(* This is used only for some fancy plot legends. *)\n",
    "(* You will have to do this only once: *)\n",
    "(* ResourceFunction[\"MaTeXInstall\"][] *)\n",
    "(* Thereafter you have to execute only: *)\n",
    "<<MaTeX`\n",
    "(* MaTeX[\"x^2\"] *)\n",
    "(* But you not really need these fancy plot legends. *)\n",
    "(* Comment them out to use this notebbok without MaTex. *)\n",
    "MaTeX@HoldForm[Integrate[Sin[x], {x, 0, Infinity}]]\n",
    "(* http://szhorvat.net/pelican/latex-typesetting-in-mathematica.html *)"
   ]
  },
  {
   "cell_type": "code",
   "execution_count": null,
   "metadata": {},
   "outputs": [],
   "source": [
    "(* Always execute first. *)\n",
    "\n",
    "(* 0^0 = 1 *)\n",
    "Unprotect[Power]; Power[0, 0] = 1; \n",
    "\n",
    "(* tau = 2*Pi*I *)\n",
    "tau := 2*Pi*I;\n",
    "\\[Tau][s_] := tau^(-s) + (-tau)^(-s); \n",
    "\n",
    "(* Macro to get a better format *)\n",
    "Poly[a_] := PolynomialForm[Collect[Expand[Simplify[FunctionExpand[a]]], x], \n",
    "            TraditionalOrder -> True];\n",
    "\n",
    "(* Macro to display a sequence table *)\n",
    "SeqGrid[T_] := With[{y = Length[T]},\n",
    "               Grid[{Table[i, {i, 0, y-1}], T}, Frame -> All]];\n",
    "SeqGrid1[T_] := With[{y = Length[T]},\n",
    "               Grid[{Table[i, {i, y}], T}, Frame -> All]];             \n",
    "SeqGrid2[T_] := With[{y = Length[T] - 1},\n",
    "               Grid[{Table[2 i, {i, 0, y}], T}, Frame -> All]];                            "
   ]
  },
  {
   "cell_type": "markdown",
   "metadata": {},
   "source": [
    "<h1 style=\"color:#CD5C5C;background:white; line-height: 150%;\n",
    "border-top: thick solid #CD5C5C; float: left; width: 100%;margin-top: 1em;\">\n",
    "Stieljes constants and zeta function\n",
    "</h1>"
   ]
  },
  {
   "cell_type": "markdown",
   "metadata": {},
   "source": [
    "<h2 style='color:#5E7AFF;margin-bottom:16px'>Formula <span style='color:orange'>1</span></h2>\n",
    "<p style=\"color:brown;font-size:large\">Laurent series of the Riemann zeta function</p>"
   ]
  },
  {
   "cell_type": "code",
   "execution_count": null,
   "metadata": {},
   "outputs": [],
   "source": [
    "Series[Zeta[s] - 1/(s - 1), {s, 1, 5}] // TeXForm"
   ]
  },
  {
   "cell_type": "markdown",
   "metadata": {},
   "source": [
    "<h2 style='color:#5E7AFF;margin-bottom:16px'>Formula <span style='color:orange'>2</span></h2>\n",
    "<p style=\"color:brown;font-size:large\">Stieltjes constants, defined via integral</p>"
   ]
  },
  {
   "cell_type": "code",
   "execution_count": null,
   "metadata": {},
   "outputs": [],
   "source": [
    "gamma[s0_, prec_] :=  (* parameter 'prec' for setting the precision *)\n",
    "Module[{s, z}, {s} = SetPrecision[{s0}, prec $MachinePrecision];\n",
    "    (-4 Pi /(s + 1)) NIntegrate[Log[1/2 + I z]^(s + 1)/(Exp[-Pi z] + Exp[Pi z])^2,\n",
    "    {z, 0, Infinity},  WorkingPrecision -> prec $MachinePrecision ]];\n",
    "\n",
    "Table[gamma[n, 2], {n, 0, 5}]"
   ]
  },
  {
   "cell_type": "code",
   "execution_count": null,
   "metadata": {},
   "outputs": [],
   "source": [
    "Table[Re[gamma[n, 2]], {n, 0, 5}]  // MatrixForm  \n",
    "Table[StieltjesGamma[k], {k, 0, 5}] // N // SeqGrid"
   ]
  },
  {
   "cell_type": "markdown",
   "metadata": {},
   "source": [
    "<h1 style=\"color:#CD5C5C;background:white; line-height: 150%;\n",
    "border-top: thick solid #CD5C5C; float: left; width: 100%;margin-top: 1em;\">\n",
    "Bernoulli constants and Bernoulli function\n",
    "</h1>"
   ]
  },
  {
   "cell_type": "markdown",
   "metadata": {},
   "source": [
    "<h2 style='color:#5E7AFF;margin-bottom:16px'>Formula <span style='color:orange'>3</span></h2>\n",
    "<p style=\"color:brown;font-size:large\">Bernoulli constants, defined via integral</p>"
   ]
  },
  {
   "cell_type": "code",
   "execution_count": null,
   "metadata": {},
   "outputs": [],
   "source": [
    "HoldForm[2 Pi Integrate[Log[1/2 + I z]^s / (Exp[-Pi z] + Exp[Pi z])^2, \n",
    "     {z, -Infinity, Infinity}]] // TeXForm"
   ]
  },
  {
   "cell_type": "code",
   "execution_count": null,
   "metadata": {},
   "outputs": [],
   "source": [
    "beta[s0_, prec_] :=  (* parameter 'prec' for setting the precision *)\n",
    "Module[{s, z}, {s} = SetPrecision[{s0}, prec $MachinePrecision];\n",
    "    4 Pi NIntegrate[Log[1/2 + I z]^s / (Exp[-Pi z] + Exp[Pi z])^2,\n",
    "    {z, 0, Infinity},  WorkingPrecision -> prec $MachinePrecision ]];\n",
    "\n",
    "Table[beta[n, 2], {n, 0, 5}] // MatrixForm "
   ]
  },
  {
   "cell_type": "code",
   "execution_count": null,
   "metadata": {},
   "outputs": [],
   "source": [
    "Table[Re[beta[n, 2]], {n, 0, 5}] // MatrixForm // TeXForm"
   ]
  },
  {
   "cell_type": "markdown",
   "metadata": {},
   "source": [
    "<p style=\"color:brown;font-size:large\">Memoization of the real part of the Bernoulli constants with single precision. (For quick checking and plotting, for higher precision use the two parameter form.)</p>"
   ]
  },
  {
   "cell_type": "code",
   "execution_count": null,
   "metadata": {},
   "outputs": [],
   "source": [
    "beta[n_] := beta[n] = Re[beta[n, 1]];"
   ]
  },
  {
   "cell_type": "code",
   "execution_count": null,
   "metadata": {},
   "outputs": [],
   "source": [
    "Plot[beta[s], {s, -0.6, 4}, WorkingPrecision -> 30,\n",
    "Epilog -> {PointSize[0.01], Red, Point[Table[{k, beta[k]}, {k, 0, 4}]]},  \n",
    "PlotLegends -> Placed[\"Bernoulli constants\", {Scaled[{0.9, 0.9}], {0.9, 0.9}}]]\n",
    "(* Export[\"Fig2BernoulliConstants.eps\", %] *)"
   ]
  },
  {
   "cell_type": "markdown",
   "metadata": {},
   "source": [
    "<h2 style='color:#5E7AFF;margin-bottom:16px'>Formula <span style='color:orange'>4</span></h2>\n",
    "<p style=\"color:brown;font-size:large\">Bernoulli function, definition.</p>"
   ]
  },
  {
   "cell_type": "code",
   "execution_count": null,
   "metadata": {},
   "outputs": [],
   "source": [
    "Bbeta[s_] := Sum[beta[j] s^j / j!, {j, 0, 50}];\n",
    "\n",
    "Table[Bbeta[n], {n, 0, 10, 2}] // N // SeqGrid2"
   ]
  },
  {
   "cell_type": "code",
   "execution_count": null,
   "metadata": {},
   "outputs": [],
   "source": [
    "Table[BernoulliB[n, 1], {n, 0, 10, 2}] // N // SeqGrid2"
   ]
  },
  {
   "cell_type": "markdown",
   "metadata": {},
   "source": [
    "<h2 style='color:#5E7AFF;margin-bottom:16px'>Formula <span style='color:orange'>5</span></h2>\n",
    "<p style=\"color:brown;font-size:large\">Bernoulli function using the Riemann zeta representation.</p>"
   ]
  },
  {
   "cell_type": "code",
   "execution_count": null,
   "metadata": {},
   "outputs": [],
   "source": [
    "Limit[-n Zeta[1 - n], n -> 0]\n",
    "B[s_] := -s Zeta[1 - s];\n",
    "B[0] := 1;\n",
    "\n",
    "Clear[s]; B[s] // FullSimplify // TeXForm"
   ]
  },
  {
   "cell_type": "markdown",
   "metadata": {},
   "source": [
    "<p style=\"color:blue;font-style:italic\">From now onwards we use Mathematica's efficient implementation of the Zeta function for the Bernoulli function.</p>"
   ]
  },
  {
   "cell_type": "code",
   "execution_count": null,
   "metadata": {},
   "outputs": [],
   "source": [
    "Plot[B[s], {s, 0, 12}, PlotRange -> {-1/3, 1},\n",
    "Epilog -> {PointSize[0.01], Red, Point[Table[{k,BernoulliB[k,1]}, {k, 0, 12}]]}]"
   ]
  },
  {
   "cell_type": "markdown",
   "metadata": {},
   "source": [
    "<p style=\"color:brown;font-size:large\">Bernoulli function on the critical line and the zeta zeros which are the same as the <i>Bernoulli zeros</i>.</p>"
   ]
  },
  {
   "cell_type": "code",
   "execution_count": null,
   "metadata": {},
   "outputs": [],
   "source": [
    "ReImPlot[B[1/2 + I t], {t, 20, 52},\n",
    "Epilog -> {PointSize[0.01], Red, Point[Table[{Im[ZetaZero[k]], 0}, {k, 11}]]}]\n",
    "(* Export[\"Fig10BernoullisZetaZeros.eps\", %] *)"
   ]
  },
  {
   "cell_type": "code",
   "execution_count": null,
   "metadata": {},
   "outputs": [],
   "source": [
    "Table[Im[ZetaZero[n]], {n, 1, 11}] // N // SeqGrid1"
   ]
  },
  {
   "cell_type": "markdown",
   "metadata": {},
   "source": [
    "<p style=\"color:brown;font-size:large\">Bernoulli function rises up at Riemann's critical line.</p>"
   ]
  },
  {
   "cell_type": "code",
   "execution_count": null,
   "metadata": {
    "scrolled": false
   },
   "outputs": [],
   "source": [
    "ComplexPlot3D[B[s], {s, -60 - 40 I, 1/2 + 40 I}, \n",
    "WorkingPrecision -> 40,\n",
    "AxesLabel -> {\"Re(s)\", \"Im(s)\"},\n",
    "ImageSize -> Large,\n",
    "ViewPoint -> {2.6, -0.9, 0.6} ]\n",
    "(* Export[\"Fig27BernoulliTsunami.pdf\", %] *)"
   ]
  },
  {
   "cell_type": "code",
   "execution_count": null,
   "metadata": {},
   "outputs": [],
   "source": [
    "ComplexStreamPlot[B[s], {s, 0 - 8 I, 16 + 8 I}]\n",
    "(* Export[\"Fig11BernoulliPhasePortrait.eps\", %] *)"
   ]
  },
  {
   "cell_type": "code",
   "execution_count": null,
   "metadata": {},
   "outputs": [],
   "source": [
    "ComplexPlot3D [B[s], {s, 0 - 8 I, 16 + 8 I}, \n",
    "ColorFunction -> \"CyclicArg\", ViewProjection -> \"Perspective\"]"
   ]
  },
  {
   "cell_type": "code",
   "execution_count": null,
   "metadata": {},
   "outputs": [],
   "source": [
    "ComplexPlot[B[s], {s, 0 - 8 I, 16 + 8 I}, ColorFunction -> \"CyclicLogAbs\"]"
   ]
  },
  {
   "cell_type": "markdown",
   "metadata": {},
   "source": [
    "<h2 style='color:#5E7AFF;margin-bottom:16px'>Formula <span style='color:orange'>6, 7</span></h2>\n",
    "<p></p>"
   ]
  },
  {
   "cell_type": "code",
   "execution_count": null,
   "metadata": {},
   "outputs": [],
   "source": [
    "Table[B[n], {n, 0, 12}] // SeqGrid"
   ]
  },
  {
   "cell_type": "markdown",
   "metadata": {},
   "source": [
    "<h2 style='color:#5E7AFF;margin-bottom:16px'>Formula <span style='color:orange'>8</span></h2>\n",
    "<p></p>"
   ]
  },
  {
   "cell_type": "code",
   "execution_count": null,
   "metadata": {},
   "outputs": [],
   "source": [
    "Series[-s Zeta[1 - s], {s, 0, 4}] // TeXForm\n",
    "% // Normal // N // Simplify // TeXForm"
   ]
  },
  {
   "cell_type": "markdown",
   "metadata": {},
   "source": [
    "<h2 style='color:#5E7AFF;margin-bottom:16px'>Formula <span style='color:orange'>9</span></h2>\n",
    "<p style=\"color:brown;font-size:large\">Bernoulli function Taylor expansion based on the Bernoulli constants.</p>"
   ]
  },
  {
   "cell_type": "code",
   "execution_count": null,
   "metadata": {},
   "outputs": [],
   "source": [
    "Series[N[Bbeta[z]], {z, 0, 4}] // TeXForm"
   ]
  },
  {
   "cell_type": "markdown",
   "metadata": {},
   "source": [
    "<h2 style='color:#5E7AFF;margin-bottom:16px'>Formula <span style='color:orange'>10</span></h2>\n",
    "<p style=\"color:brown;font-size:large\">Alternative formula for the Bernoulli constants.</p>"
   ]
  },
  {
   "cell_type": "code",
   "execution_count": null,
   "metadata": {},
   "outputs": [],
   "source": [
    "beta2[s0_, prec_] :=  (* parameter 'prec' for setting the precision *)\n",
    "Module[{s, z}, {s} = SetPrecision[{s0}, prec $MachinePrecision];\n",
    "    Pi NIntegrate[Re[Log[1/2 + I z]^s Sech[Pi z]^2],\n",
    "    {z, 0, Infinity},  WorkingPrecision -> prec $MachinePrecision ]];\n",
    "\n",
    "Table[beta2[n, 2], {n, 0, 5}] // MatrixForm // TeXForm"
   ]
  },
  {
   "cell_type": "markdown",
   "metadata": {},
   "source": [
    "<h2 style='color:#5E7AFF;margin-bottom:16px'>Formula <span style='color:orange'>11</span></h2>\n",
    "<p></p>"
   ]
  },
  {
   "cell_type": "code",
   "execution_count": null,
   "metadata": {},
   "outputs": [],
   "source": [
    "sigma[n_, z_] := Re[Log[1/2 + I z]^n];\n",
    "ComplexExpand[sigma[n, z]] // FullSimplify // TeXForm"
   ]
  },
  {
   "cell_type": "markdown",
   "metadata": {},
   "source": [
    "<h2 style='color:#5E7AFF;margin-bottom:16px'>Formula <span style='color:orange'>12</span></h2>\n",
    "<p></p>"
   ]
  },
  {
   "cell_type": "code",
   "execution_count": null,
   "metadata": {},
   "outputs": [],
   "source": [
    "a[z_] := Log[z^2 + 1/4] / 2;\n",
    "b[z_] := ArcTan[2 z];\n",
    "\n",
    "sigmasum[n_, z_] := Sum[(-1)^k Binomial[n, 2 k] a[z]^(n - 2 k) b[z]^(2 k),\n",
    "                    {k, 0, Floor[n / 2]}]\n",
    "                    \n",
    "Table[sigmasum[n, z], {n, 0, 4}] // TableForm // TeXForm"
   ]
  },
  {
   "cell_type": "markdown",
   "metadata": {},
   "source": [
    "<h2 style='color:#5E7AFF;margin-bottom:16px'>Formula <span style='color:orange'>13</span></h2>\n",
    "<p></p>"
   ]
  },
  {
   "cell_type": "code",
   "execution_count": null,
   "metadata": {},
   "outputs": [],
   "source": [
    "beta2[n_] := Pi NIntegrate[sigma[n, z] / Cosh[Pi z]^2, {z, 0, 10}];\n",
    "beta3[n_] := Pi NIntegrate[sigmasum[n, z] / Cosh[Pi z]^2, {z, 0, 10}];"
   ]
  },
  {
   "cell_type": "code",
   "execution_count": null,
   "metadata": {},
   "outputs": [],
   "source": [
    "Table[beta[n],  {n, 0, 5}] // N // Chop\n",
    "Table[beta2[n], {n, 0, 5}] // N // Chop\n",
    "Table[beta3[n], {n, 0, 5}] // N // Chop"
   ]
  },
  {
   "cell_type": "markdown",
   "metadata": {},
   "source": [
    "<h2 style='color:#5E7AFF;margin-bottom:16px'>Formula <span style='color:orange'>14</span></h2>\n",
    "<p></p>"
   ]
  },
  {
   "cell_type": "code",
   "execution_count": null,
   "metadata": {},
   "outputs": [],
   "source": [
    "gamma2[n_] := -(Pi / (n + 1)) NIntegrate[Re[sigma[n + 1, z] / Cosh[Pi z]^2], \n",
    "                              {z, 0, 10}];\n",
    "              \n",
    "Table[gamma2[n],  {n, 0, 5}] // N \n",
    "Table[StieltjesGamma[n], {n, 0, 5}] // N "
   ]
  },
  {
   "cell_type": "markdown",
   "metadata": {},
   "source": [
    "<h1 style=\"color:#CD5C5C;background:white; line-height: 150%;\n",
    "border-top: thick solid #CD5C5C; float: left; width: 100%;margin-top: 1em;\">\n",
    "Some special integral formulas\n",
    "</h1>"
   ]
  },
  {
   "cell_type": "markdown",
   "metadata": {},
   "source": [
    "<h2 style='color:#5E7AFF;margin-bottom:16px'>Formula <span style='color:orange'>15</span></h2>\n",
    "<p style=\"color:brown;font-size:large\">Euler's gamma.</p>"
   ]
  },
  {
   "cell_type": "code",
   "execution_count": null,
   "metadata": {},
   "outputs": [],
   "source": [
    "eulergamma = -(Pi/2) NIntegrate[Log[z^2 + 1/4] / Cosh[Pi z]^2, {z, 0, Infinity}]"
   ]
  },
  {
   "cell_type": "markdown",
   "metadata": {},
   "source": [
    "<h2 style='color:#5E7AFF;margin-bottom:16px'>Formulas \n",
    "<span style='color:orange'>16, 17, 18, 19, 20</span></h2>\n",
    "<p style=\"color:brown;font-size:large\">Some Bernoulli constants.</p>"
   ]
  },
  {
   "cell_type": "code",
   "execution_count": null,
   "metadata": {},
   "outputs": [],
   "source": [
    "With[{a = Log[z^2 + 1/4] / 2, b = ArcTan[2 z], c = Cosh[Pi z]}, {\n",
    "Pi * NIntegrate[a / c^2, {z, 0, Infinity}],\n",
    "Pi * NIntegrate[(a^2 - b^2) / c^2, {z, 0, Infinity}],\n",
    "Pi * NIntegrate[(a^3 - 3 a b^2) / c^2, {z, 0, Infinity}],\n",
    "Pi * NIntegrate[(a^4 - 6 a^2 b^2 + b^4) / c^2, {z, 0, Infinity}],\n",
    "Pi * NIntegrate[(a^5 - 10 a^3 b^2 + 5 a b^4) / c^2, {z, 0, Infinity}]}]"
   ]
  },
  {
   "cell_type": "markdown",
   "metadata": {},
   "source": [
    "<h1 style=\"color:#CD5C5C;background:white; line-height: 150%;\n",
    "border-top: thick solid #CD5C5C; float: left; width: 100%;margin-top: 1em;\">\n",
    "Generalized Bernoulli constants\n",
    "</h1>"
   ]
  },
  {
   "cell_type": "markdown",
   "metadata": {},
   "source": [
    "<h2 style='color:#5E7AFF;margin-bottom:16px'>Formula <span style='color:orange'>21</span></h2>\n",
    "<p style=\"color:brown;font-size:large\">Laurent expansion of the Hurwitz zeta function.</p>"
   ]
  },
  {
   "cell_type": "code",
   "execution_count": null,
   "metadata": {},
   "outputs": [],
   "source": [
    "Series[HurwitzZeta[s, v] - 1/(s - 1), {s, 1, 4}] // TeXForm"
   ]
  },
  {
   "cell_type": "markdown",
   "metadata": {},
   "source": [
    "<h2 style='color:#5E7AFF;margin-bottom:16px'>Formula <span style='color:orange'>22</span></h2>\n",
    "<p style=\"color:brown;font-size:large\">Generalized Stieltjes constants, integral representation.</p>"
   ]
  },
  {
   "cell_type": "code",
   "execution_count": null,
   "metadata": {},
   "outputs": [],
   "source": [
    "IntGamma[n_, v_] := -(Pi / (2 (n + 1))) * \n",
    "     NIntegrate[Log[v - 1/2 + I z]^(n + 1) / Cosh[Pi z]^2, \n",
    "     {z, -Infinity, Infinity}, WorkingPrecision -> 30];"
   ]
  },
  {
   "cell_type": "code",
   "execution_count": null,
   "metadata": {},
   "outputs": [],
   "source": [
    "Table[{Chop[IntGamma[s, 1]], N[StieltjesGamma[s], 30]}, {s, 0, 4}] // TableForm"
   ]
  },
  {
   "cell_type": "markdown",
   "metadata": {},
   "source": [
    "<h2 style='color:#5E7AFF;margin-bottom:16px'>Formula <span style='color:orange'>23</span></h2>\n",
    "<p style=\"color:brown;font-size:large\">Generalized Bernoulli constants, definition via integral.</p>"
   ]
  },
  {
   "cell_type": "code",
   "execution_count": null,
   "metadata": {},
   "outputs": [],
   "source": [
    "IntBeta[s_, v_] := 2 Pi *\n",
    "        NIntegrate[Log[v - 1/2 + I z]^s / (Exp[Pi z] + Exp[-Pi z])^2, \n",
    "        {z, -Infinity, Infinity}, WorkingPrecision -> 30];"
   ]
  },
  {
   "cell_type": "code",
   "execution_count": null,
   "metadata": {},
   "outputs": [],
   "source": [
    "Table[{Chop[IntBeta[s+1, 1]], N[-(s + 1) StieltjesGamma[s], 30]}, {s, 0, 4}] // TableForm"
   ]
  },
  {
   "cell_type": "markdown",
   "metadata": {},
   "source": [
    "<p style=\"color:brown;font-size:large\">Generalized Bernoulli constants, definition via Stieltjes constants.</p>"
   ]
  },
  {
   "cell_type": "code",
   "execution_count": null,
   "metadata": {},
   "outputs": [],
   "source": [
    "BernBeta[s_, v_] := -s StieltjesGamma[s - 1, v];\n",
    "BernBeta[0, _] := 1;\n",
    "\n",
    "Table[BernBeta[s, 1], {s, 0, 4}] // N"
   ]
  },
  {
   "cell_type": "code",
   "execution_count": null,
   "metadata": {},
   "outputs": [],
   "source": [
    "IntBeta[Pi, 1]"
   ]
  },
  {
   "cell_type": "markdown",
   "metadata": {},
   "source": [
    "<p style=\"color:brown;font-size:large\">Mathematica can't do this!</p>"
   ]
  },
  {
   "cell_type": "code",
   "execution_count": null,
   "metadata": {},
   "outputs": [],
   "source": [
    "(* BernBeta[Pi, 1] *)"
   ]
  },
  {
   "cell_type": "markdown",
   "metadata": {},
   "source": [
    "<h1 style=\"color:#CD5C5C;background:white; line-height: 150%;\n",
    "border-top: thick solid #CD5C5C; float: left; width: 100%;margin-top: 1em;\">\n",
    "The generalized Bernoulli function\n",
    "</h1>"
   ]
  },
  {
   "cell_type": "markdown",
   "metadata": {},
   "source": [
    "<h2 style='color:#5E7AFF;margin-bottom:16px'>Formula <span style='color:orange'>24, 25, 26</span></h2>\n",
    "<p style=\"color:brown;font-size:large\">Generalized Bernoulli function. \n",
    "(Closing definition gap with limiting value.)</p>"
   ]
  },
  {
   "cell_type": "code",
   "execution_count": null,
   "metadata": {},
   "outputs": [],
   "source": [
    "Limit[-s HurwitzZeta[1 - s, v], s -> 0]\n",
    " \n",
    "Bg[s_, v_] := If[s == 0, 1, -s*HurwitzZeta[1 - s, v]]; \n",
    "Clear[s, v]; Bg[s, v] // FullSimplify // TeXForm"
   ]
  },
  {
   "cell_type": "code",
   "execution_count": null,
   "metadata": {},
   "outputs": [],
   "source": [
    "atext := MaTeX[\"B(s, 1/4)\"];\n",
    "btext := MaTeX[\"B(s, 1/2)\"];\n",
    "ctext := MaTeX[\"B(s, 3/4)\"];\n",
    "\n",
    "Plot[{Bg[s, 1/4], Bg[s, 1/2], Bg[s, 3/4]}, {s, 1, 9}, Filling -> {1 -> {2}},\n",
    "PlotTheme -> {\"Thin\"}, WorkingPrecision -> 40, ImageSize -> Large,\n",
    "PlotLegends -> Placed[{atext, btext, ctext}, Above],\n",
    "PlotLabel -> \"Generalized Bernoulli function\" ]\n",
    "(* Export[\"FigXXGeneralizedBernoulliFunction.eps\", %] *)"
   ]
  },
  {
   "cell_type": "markdown",
   "metadata": {},
   "source": [
    "<h2 style='color:#5E7AFF;margin-bottom:16px'>Formula <span style='color:orange'>27</span></h2>\n",
    "<p style=\"color:brown;font-size:large\">Bernoulli polynomials, explicit formula</p>"
   ]
  },
  {
   "cell_type": "code",
   "execution_count": null,
   "metadata": {},
   "outputs": [],
   "source": [
    "Bpoly[n_, x_] := Sum[(-1)^j Binomial[n, j] B[j] x^(n-j), {j, 0, n}];\n",
    "Clear[n, x]; Bpoly[n, x] // FullSimplify // TeXForm "
   ]
  },
  {
   "cell_type": "code",
   "execution_count": null,
   "metadata": {},
   "outputs": [],
   "source": [
    "{Table[Expand[Bpoly[n, x]], {n, 0, 5}] // MatrixForm , \n",
    " Table[BernoulliB[n, x],    {n, 0, 5}] // MatrixForm }"
   ]
  },
  {
   "cell_type": "code",
   "execution_count": null,
   "metadata": {},
   "outputs": [],
   "source": [
    "V := Table[FunctionExpand[Bg[n, x]], {n, 1, 6}];\n",
    "W := Table[BernoulliB[n, x], {n, 1, 6}]; \n",
    "Grid[{V, W}, Frame -> All]"
   ]
  },
  {
   "cell_type": "code",
   "execution_count": null,
   "metadata": {},
   "outputs": [],
   "source": [
    "Plot[V, {x, -1/2, 3/2}, PlotRange -> {-0.2, 0.2}]"
   ]
  },
  {
   "cell_type": "markdown",
   "metadata": {},
   "source": [
    "<h1 style=\"color:#CD5C5C;background:white; line-height: 150%;\n",
    "border-top: thick solid #CD5C5C; float: left; width: 100%;margin-top: 1em;\">\n",
    "Integral formulas for the Bernoulli function\n",
    "</h1>"
   ]
  },
  {
   "cell_type": "markdown",
   "metadata": {},
   "source": [
    "<h2 style='color:#5E7AFF;margin-bottom:16px'>Formula <span style='color:orange'>28, 29</span></h2>"
   ]
  },
  {
   "cell_type": "markdown",
   "metadata": {},
   "source": [
    "<p style=\"color:brown;font-size:large\">The Jensen integral of the Bernoulli function.</p>"
   ]
  },
  {
   "cell_type": "code",
   "execution_count": null,
   "metadata": {},
   "outputs": [],
   "source": [
    "HoldForm[2 Pi Integrate[(1/2 +  I z)^s / (Exp[-Pi z] + Exp[Pi z])^2, \n",
    "     {z, -Infinity, Infinity}]] // TeXForm"
   ]
  },
  {
   "cell_type": "markdown",
   "metadata": {},
   "source": [
    "<p style=\"color:brown;font-size:large\">Making the integrand real.</p>"
   ]
  },
  {
   "cell_type": "code",
   "execution_count": null,
   "metadata": {},
   "outputs": [],
   "source": [
    "f[v_, s_, z_] := (v - 1/2 +  I z)^s / (Exp[-Pi z] + Exp[Pi z])^2;\n",
    "Clear[v, s, z]; f[v, s, z]     // FullSimplify // TeXForm\n",
    "ComplexExpand[f[v, s, z]]      // FullSimplify // TeXForm\n",
    "ComplexExpand[Re[f[v, s, z]]]  // FullSimplify // TeXForm"
   ]
  },
  {
   "cell_type": "markdown",
   "metadata": {},
   "source": [
    "<p style=\"color:brown;font-size:large\">The <i>real</i> Bernoulli function, via Jensen integral.</p>"
   ]
  },
  {
   "cell_type": "code",
   "execution_count": null,
   "metadata": {},
   "outputs": [],
   "source": [
    "JFR[s0_, z0_, prec_] := Module[{s, z}, \n",
    "     {s, z} = SetPrecision[{s0, z0}, prec $MachinePrecision];\n",
    "     Block[{$MinPrecision = prec $MachinePrecision, \n",
    "     $MaxPrecision = prec $MachinePrecision},\n",
    "     (z^2 + 1/4)^(s/2) Cos[s Arg[I z + 1/2]] Sech[Pi z]^2 ]];\n",
    "\n",
    "JRIntegral[s0_, prec_] := Module[{s}, \n",
    "     {s} = SetPrecision[{s0}, prec $MachinePrecision];\n",
    "     Pi NIntegrate[JFR[s, z, prec], {z, 0, Infinity}, \n",
    "     WorkingPrecision -> prec $MachinePrecision ]];\n",
    "\n",
    "JRIntegral[2.5, 4]\n",
    "Precision[%]"
   ]
  },
  {
   "cell_type": "markdown",
   "metadata": {},
   "source": [
    "<p style=\"color:brown;font-size:large\">An arbitrary precision version of the Bernoulli function via zeta function.</p>"
   ]
  },
  {
   "cell_type": "code",
   "execution_count": null,
   "metadata": {},
   "outputs": [],
   "source": [
    "BN[s0_, prec_] := Module[{s},{s} = SetPrecision[{s0}, prec $MachinePrecision];\n",
    "       Block[{$MinPrecision = prec $MachinePrecision, \n",
    "       $MaxPrecision = prec $MachinePrecision},\n",
    "       -s Zeta[1 - s] ]];\n",
    "       \n",
    "BN[2.5, 4] \n",
    "Precision[%]       "
   ]
  },
  {
   "cell_type": "markdown",
   "metadata": {},
   "source": [
    "<p style=\"color:brown;font-size:large\">Test cases, even indexed Bernoulli numbers, Jensen integral versus zeta version</p>"
   ]
  },
  {
   "cell_type": "code",
   "execution_count": null,
   "metadata": {},
   "outputs": [],
   "source": [
    "Table[{JRIntegral[n, 2], N[BernoulliB[n], 32]}, {n, 0, 8, 2}] "
   ]
  },
  {
   "cell_type": "code",
   "execution_count": null,
   "metadata": {},
   "outputs": [],
   "source": [
    "Table[{JRIntegral[n + 1/2, 2], BN[n + 1/2, 2]}, {n, 1, 8, 2}] "
   ]
  },
  {
   "cell_type": "markdown",
   "metadata": {},
   "source": [
    "<h1 style=\"color:#CD5C5C;background:white; line-height: 150%;\n",
    "border-top: thick solid #CD5C5C; float: left; width: 100%;margin-top: 1em;\">\n",
    "The complex Bernoulli function, via Jensen integral.\n",
    "</h1>"
   ]
  },
  {
   "cell_type": "markdown",
   "metadata": {},
   "source": [
    "<h2 style='color:#5E7AFF;margin-bottom:16px'>Formula <span style='color:orange'>30</span></h2>\n",
    "<p style=\"color:brown;font-size:large\">The generalized complex Bernoulli function.</p>"
   ]
  },
  {
   "cell_type": "code",
   "execution_count": null,
   "metadata": {},
   "outputs": [],
   "source": [
    "JFC[s0_, z0_, prec_] := Module[{s, z}, \n",
    "     {s, z} = SetPrecision[{s0, z0}, prec $MachinePrecision];\n",
    "     Block[{$MinPrecision = prec $MachinePrecision, \n",
    "     $MaxPrecision = prec $MachinePrecision},\n",
    "     (1/2 + I z)^s / (Exp[-Pi z] + Exp[Pi z])^2 ]];\n",
    "\n",
    "JCIntegral[s0_, prec_] := Module[{s}, \n",
    "     {s} = SetPrecision[{s0}, prec $MachinePrecision];\n",
    "     4 Pi NIntegrate[JFC[s, z, prec], {z, 0, Infinity}, \n",
    "     WorkingPrecision -> prec $MachinePrecision ]];\n",
    "\n",
    "JCIntegral[2.5, 2]\n",
    "Precision[%]"
   ]
  },
  {
   "cell_type": "markdown",
   "metadata": {},
   "source": [
    "<p style=\"color:brown;font-size:large\">Do you know the imaginary part of the Bernoulli numbers?</p>"
   ]
  },
  {
   "cell_type": "code",
   "execution_count": null,
   "metadata": {},
   "outputs": [],
   "source": [
    "Table[JCIntegral[n, 2], {n, 0, 8, 2}] // MatrixForm "
   ]
  },
  {
   "cell_type": "markdown",
   "metadata": {},
   "source": [
    "<p style=\"color:brown;font-size:large\">Can you identify more values?</p>"
   ]
  },
  {
   "cell_type": "code",
   "execution_count": null,
   "metadata": {},
   "outputs": [],
   "source": [
    "Table[Im[JCIntegral[n, 2]], {n, 0, 8, 2}] // MatrixForm // TeXForm\n",
    "{ 0, Log[2]/Pi, 1/42 } // N"
   ]
  },
  {
   "cell_type": "code",
   "execution_count": null,
   "metadata": {},
   "outputs": [],
   "source": [
    "ReImPlot[JCIntegral[x, 1], {x, -1, 8}, PlotRange -> {-0.4, 1}]"
   ]
  },
  {
   "cell_type": "markdown",
   "metadata": {},
   "source": [
    "<h1 style=\"color:#CD5C5C;background:white; line-height: 150%;\n",
    "border-top: thick solid #CD5C5C; float: left; width: 100%;margin-top: 1em;\">\n",
    "The Hurwitz-Bernoulli function\n",
    "</h1>"
   ]
  },
  {
   "cell_type": "markdown",
   "metadata": {},
   "source": [
    "<h2 style='color:#5E7AFF;margin-bottom:16px'>Formula <span style='color:orange'>31</span></h2>\n",
    "<p style=\"color:brown;font-size:large\">The Hurwitz–Bernoulli function.</p>"
   ]
  },
  {
   "cell_type": "code",
   "execution_count": null,
   "metadata": {},
   "outputs": [],
   "source": [
    "PL[s_, v_] := (-s! / (2 Pi)^s) PolyLog[s, Exp[2 Pi I v]];\n",
    "HB[s_, v_] := Exp[-I Pi s / 2] PL[s, v] + Exp[I Pi s / 2] PL[s, 1 - v];\n",
    "\n",
    "Clear[s, v]; HB[s, v] // FullSimplify // TeXForm"
   ]
  },
  {
   "cell_type": "markdown",
   "metadata": {},
   "source": [
    "<h2 style='color:#5E7AFF;margin-bottom:16px'>Formula <span style='color:orange'>32</span></h2>\n",
    "<p style=\"color:brown;font-size:large\">The Hurwitz–Bernoulli function represents the Bernoulli function for 0 &leq; v &leq; 1 and s &gt; 1.</p>"
   ]
  },
  {
   "cell_type": "code",
   "execution_count": null,
   "metadata": {},
   "outputs": [],
   "source": [
    "Plot[{Bg[s, 3/4], HB[s, 3/4]}, {s, 1, 4}, \n",
    "PlotTheme -> {\"Thick\", \"DashedLines\"},\n",
    "PlotLegends -> Placed[\"Expressions\", {Scaled[{0.9, 0.7}], {0.9, 0.7}}]]"
   ]
  },
  {
   "cell_type": "markdown",
   "metadata": {},
   "source": [
    "<p style=\"color:brown;font-size:large\">The Hurwitz–Bernoulli functions with s = 2 + k/6 for 0 &leq; k &leq; 6 deform $B_2(x)$ into $B_3(x)$.</p>"
   ]
  },
  {
   "cell_type": "code",
   "execution_count": null,
   "metadata": {},
   "outputs": [],
   "source": [
    "deform := Table[HB[2 + k/6, x], {k, 0, 6}];\n",
    "Plot[deform, {x, 0, 1}]\n",
    "(* Export[\"Fig4HurwitzBernoulliFunction.eps\", %] *)"
   ]
  },
  {
   "cell_type": "markdown",
   "metadata": {},
   "source": [
    "<h1 style=\"color:#CD5C5C;background:white; line-height: 150%;\n",
    "border-top: thick solid #CD5C5C; float: left; width: 100%;margin-top: 1em;\">\n",
    "The central Bernoulli function\n",
    "</h1>"
   ]
  },
  {
   "cell_type": "markdown",
   "metadata": {},
   "source": [
    "<h2 style='color:#5E7AFF;margin-bottom:16px'>Formula <span style='color:orange'>33</span></h2>\n",
    "<p style=\"color:brown;font-size:large\">The case v = 1 in the Hurwitz–Bernoulli function.</p>"
   ]
  },
  {
   "cell_type": "code",
   "execution_count": null,
   "metadata": {},
   "outputs": [],
   "source": [
    "B1[s_] := -2 s! PolyLog[s, 1] Cos[s Pi/2] / (2 Pi)^s;\n",
    "{Limit[B1[n], n->0], Limit[B1[n], n->1], Table[B1[n], {n, 2, 12}]} // TeXForm"
   ]
  },
  {
   "cell_type": "markdown",
   "metadata": {},
   "source": [
    "<h2 style='color:#5E7AFF;margin-bottom:16px'>Formula <span style='color:orange'>34</span></h2>\n",
    "<p style=\"color:brown;font-size:large\">Representation of the Bernoulli function by the PolyLog.</p>"
   ]
  },
  {
   "cell_type": "code",
   "execution_count": null,
   "metadata": {},
   "outputs": [],
   "source": [
    "Plot[{B[s], B1[s]}, {s, 1, 4}, \n",
    "PlotTheme -> {\"Thick\", \"DashedLines\"},\n",
    "PlotLegends -> Placed[\"Expressions\", {Scaled[{0.9, 0.7}], {0.9, 0.7}}]]"
   ]
  },
  {
   "cell_type": "markdown",
   "metadata": {},
   "source": [
    "<h2 style='color:#5E7AFF;margin-bottom:16px'>Formula <span style='color:orange'>35</span></h2>\n",
    "<p style=\"color:brown;font-size:large\">The case v = 1/2 in the Hurwitz–Bernoulli function: representation of the central Bernoulli function by the PolyLog.</p>"
   ]
  },
  {
   "cell_type": "code",
   "execution_count": null,
   "metadata": {},
   "outputs": [],
   "source": [
    "Bch[s_] := -2 s! PolyLog[s, -1] Cos[s Pi/2] / (2 Pi)^s;\n",
    "\n",
    "Table[Bch[n], {n, 0, 12}] // TeXForm"
   ]
  },
  {
   "cell_type": "code",
   "execution_count": null,
   "metadata": {},
   "outputs": [],
   "source": [
    "Series[Bch[s], {s, 0, 6}] // Normal // N // TeXForm"
   ]
  },
  {
   "cell_type": "markdown",
   "metadata": {},
   "source": [
    "<h2 style='color:#5E7AFF;margin-bottom:16px'>Formula <span style='color:orange'>36</span></h2>\n",
    "<p style=\"color:brown;font-size:large\">The central Bernoulli function, used as definition.</p>"
   ]
  },
  {
   "cell_type": "code",
   "execution_count": null,
   "metadata": {},
   "outputs": [],
   "source": [
    "Bc[s_] := Bg[s, 1/2]; \n",
    "Clear[s]; Bc[s] // TeXForm"
   ]
  },
  {
   "cell_type": "code",
   "execution_count": null,
   "metadata": {},
   "outputs": [],
   "source": [
    "Series[Bc[s], {s, 0, 6}] // Normal // N // TeXForm"
   ]
  },
  {
   "cell_type": "code",
   "execution_count": null,
   "metadata": {},
   "outputs": [],
   "source": [
    "Table[Bc[n], {n, 0, 12, 2}] // TeXForm"
   ]
  },
  {
   "cell_type": "code",
   "execution_count": null,
   "metadata": {
    "scrolled": false
   },
   "outputs": [],
   "source": [
    "Plot[{B[s], Bc[s]}, {s, 0, 11},  PlotRange -> {-0.1, 1}, WorkingPrecision -> 40,\n",
    "PlotTheme -> {\"Thin\"}, Filling -> {1 -> {2}},\n",
    "PlotLegends -> Placed[\"Expressions\", {Scaled[{0.9, 0.7}], {0.9, 0.7}}]]\n",
    "(* Export[\"Fig5CenteredBernoulliFunction.eps\", %] *)"
   ]
  },
  {
   "cell_type": "markdown",
   "metadata": {},
   "source": [
    "<h2 style='color:#5E7AFF;margin-bottom:16px'>Formula <span style='color:orange'>36a</span></h2>\n",
    "<p style=\"color:brown;font-size:large\">The central Bernoulli function, via Bernoulli function.</p>"
   ]
  },
  {
   "cell_type": "code",
   "execution_count": null,
   "metadata": {},
   "outputs": [],
   "source": [
    "BcB[s_] := B[s] (2^(1 - s) - 1);\n",
    "\n",
    "Table[BcB[n], {n, 0, 12, 2}] // TeXForm"
   ]
  },
  {
   "cell_type": "code",
   "execution_count": null,
   "metadata": {},
   "outputs": [],
   "source": [
    "Series[BcB[s], {s, 0, 6}] // Normal // N // TeXForm "
   ]
  },
  {
   "cell_type": "markdown",
   "metadata": {},
   "source": [
    "<h2 style='color:#5E7AFF;margin-bottom:16px'>Formula <span style='color:orange'>37</span></h2>\n",
    "<p style=\"color:brown;font-size:large\">Jensen integral of the central Bernoulli function <span style=\"color: #ff0000\">for even integer n</span>.</p>"
   ]
  },
  {
   "cell_type": "code",
   "execution_count": null,
   "metadata": {},
   "outputs": [],
   "source": [
    "f[n_, z_] := ((I z)^n / (Exp[-Pi z] + Exp[Pi z]))^2;\n",
    "Clear[n, z]; f[n, z] // FullSimplify // TeXForm"
   ]
  },
  {
   "cell_type": "code",
   "execution_count": null,
   "metadata": {},
   "outputs": [],
   "source": [
    "JInt[n_] := 2 Pi NIntegrate[f[n, z], {z, -Infinity, Infinity}, \n",
    "              WorkingPrecision -> 30] \n",
    "Table[JInt[n], {n, 0, 6}] // MatrixForm // TeXForm"
   ]
  },
  {
   "cell_type": "markdown",
   "metadata": {},
   "source": [
    "<p style=\"color:brown;font-size:large\">Computation of the even indexed Bernoulli numbers via the integral representation of the centered Bernoulli function.</p>"
   ]
  },
  {
   "cell_type": "code",
   "execution_count": null,
   "metadata": {},
   "outputs": [],
   "source": [
    "NBInt[n_] := Pi ((-4)^(n + 1) / (4^n - 2)) NIntegrate[\n",
    "            (z^n / (Exp[-Pi z] + Exp[Pi z]))^2, {z, 0, Infinity}, \n",
    "            Method -> {\"GlobalAdaptive\", Method -> \"GaussKronrodRule\"}, \n",
    "            MaxRecursion -> 100, WorkingPrecision -> 30]"
   ]
  },
  {
   "cell_type": "code",
   "execution_count": null,
   "metadata": {},
   "outputs": [],
   "source": [
    "{Table[NBInt[n], {n, 0, 6}] // MatrixForm,\n",
    "Table[BernoulliB[2 n, 1], {n, 0, 6}] // N // MatrixForm } // TeXForm"
   ]
  },
  {
   "cell_type": "code",
   "execution_count": null,
   "metadata": {},
   "outputs": [],
   "source": [
    "n = 500;\n",
    "N[BernoulliB[2 n], 30]\n",
    "NBInt[n]"
   ]
  },
  {
   "cell_type": "markdown",
   "metadata": {},
   "source": [
    "<h2 style='color:#5E7AFF;margin-bottom:16px'>Formula <span style='color:orange'>38</span></h2>"
   ]
  },
  {
   "cell_type": "markdown",
   "metadata": {},
   "source": [
    "<p style=\"color:brown;font-size:large\">The secant decomposition of B(s) and the cosecant numbers A001896.</p>"
   ]
  },
  {
   "cell_type": "code",
   "execution_count": null,
   "metadata": {},
   "outputs": [],
   "source": [
    "CosecInt[n_] := 2 Pi (-1)^n NIntegrate[\n",
    "            (z^n / (Exp[-Pi z] + Exp[Pi z]))^2, {z, -Infinity, Infinity}, \n",
    "            Method -> {\"GlobalAdaptive\", Method -> \"GaussKronrodRule\"}, \n",
    "            MaxRecursion -> 100, WorkingPrecision -> 30]"
   ]
  },
  {
   "cell_type": "code",
   "execution_count": null,
   "metadata": {},
   "outputs": [],
   "source": [
    "Table[Rationalize[CosecInt[n]], {n, 0, 8}] // TeXForm  "
   ]
  },
  {
   "cell_type": "code",
   "execution_count": null,
   "metadata": {},
   "outputs": [],
   "source": [
    "BInt[s_] := Pi (Cos[Pi s / 2] / (2^(1 - s) - 1)) NIntegrate[ \n",
    "            z^s Sech[Pi z]^2, {z, 0, Infinity}, \n",
    "            Method -> {\"GlobalAdaptive\", Method -> \"GaussKronrodRule\"},\n",
    "            WorkingPrecision -> 30, MaxRecursion -> 100]"
   ]
  },
  {
   "cell_type": "code",
   "execution_count": null,
   "metadata": {},
   "outputs": [],
   "source": [
    "Table[{Chop[N[B[n + 1/3], 25]], BInt[n + 1/3]}, {n, 2, 12}] // TeXForm  "
   ]
  },
  {
   "cell_type": "code",
   "execution_count": null,
   "metadata": {},
   "outputs": [],
   "source": [
    "atext := MaTeX[\"\\\\pi \\\\cos(\\\\pi s/2)/(2^{1 - s} - 1)\"];\n",
    "btext := MaTeX@HoldForm[Integrate[z^s Sech[Pi z]^2, {z, 0, Infinity}]]\n",
    "atext\n",
    "btext"
   ]
  },
  {
   "cell_type": "code",
   "execution_count": null,
   "metadata": {},
   "outputs": [],
   "source": [
    "Bosc[s_] := Pi (Cos[Pi s / 2] / (2^(1 - s) - 1)) ;\n",
    "Plot[{Bosc[s], B[s] / Bosc[s]}, {s, -1, 17}, PlotRange -> {-4, 8},\n",
    "PlotLegends -> Placed[{atext, btext}, Above]]\n",
    "(* Export[\"Fig35SecantDecomposition.eps\", %] *)"
   ]
  },
  {
   "cell_type": "markdown",
   "metadata": {},
   "source": [
    "<h1 style=\"color:#CD5C5C;background:white; line-height: 150%;\n",
    "border-top: thick solid #CD5C5C; float: left; width: 100%;margin-top: 1em;\">\n",
    "The central Bernoulli polynomials\n",
    "</h1>"
   ]
  },
  {
   "cell_type": "markdown",
   "metadata": {},
   "source": [
    "<h2 style='color:#5E7AFF;margin-bottom:16px'>Formula <span style='color:orange'>39</span></h2>\n",
    "<p style=\"color:brown;font-size:large\">Central Bernoulli numbers.</p>"
   ]
  },
  {
   "cell_type": "code",
   "execution_count": null,
   "metadata": {
    "scrolled": true
   },
   "outputs": [],
   "source": [
    "BcNum[n_] := 2^n Bg[n, 1/2];\n",
    "Table[BcNum[n], {n, 0, 12}] // TeXForm  "
   ]
  },
  {
   "cell_type": "code",
   "execution_count": null,
   "metadata": {},
   "outputs": [],
   "source": [
    "BcLi[n_] := 2*(-1)^(n+1)*Pi^(-2*n)*(2*n)!*PolyLog[2*n, -1];\n",
    "Table[BcLi[n], {n, 0, 8}] // TeXForm  "
   ]
  },
  {
   "cell_type": "code",
   "execution_count": null,
   "metadata": {},
   "outputs": [],
   "source": [
    "Clausen[0] = 1; \n",
    "Clausen[n_] := Times @@ (Select[Divisors[n+1], PrimeQ[# + 1] &] + 1);\n",
    "Table[Clausen[n], {n, 0, 11}] "
   ]
  },
  {
   "cell_type": "code",
   "execution_count": null,
   "metadata": {},
   "outputs": [],
   "source": [
    "BcL[n_] := (2*n)!*PolyLog[2*n, 1]*Pi^(-2*n)*Clausen[2*n - 1] / 2;\n",
    "Table[BcL[n], {n, 1, 18}] "
   ]
  },
  {
   "cell_type": "code",
   "execution_count": null,
   "metadata": {},
   "outputs": [],
   "source": [
    "Table[Bg[n, 2], {n, 1, 18}] "
   ]
  },
  {
   "cell_type": "code",
   "execution_count": null,
   "metadata": {},
   "outputs": [],
   "source": [
    "BcLi[n_] := n!*PolyLog[n, 1]*Pi^(-n);\n",
    "Table[BcLi[n], {n, 1, 8}] // TeXForm  "
   ]
  },
  {
   "cell_type": "markdown",
   "metadata": {},
   "source": [
    "<h2 style='color:#5E7AFF;margin-bottom:16px'>Formula <span style='color:orange'>40</span></h2>\n",
    "<p style=\"color:brown;font-size:large\">Central Bernoulli polynomials.</p>"
   ]
  },
  {
   "cell_type": "code",
   "execution_count": null,
   "metadata": {},
   "outputs": [],
   "source": [
    "Bcpoly[n_, x_] := Sum[Binomial[n, k] BcNum[k] x^(n - k), {k, 0, n}];\n",
    "(* Clear[n, x]; Bc[n, x] // FullSimplify // TeXForm *)"
   ]
  },
  {
   "cell_type": "code",
   "execution_count": null,
   "metadata": {},
   "outputs": [],
   "source": [
    "Table[Bcpoly[n, x], {n, 0, 6}] // MatrixForm"
   ]
  },
  {
   "cell_type": "code",
   "execution_count": null,
   "metadata": {},
   "outputs": [],
   "source": [
    "Table[Bcpoly[n, -1], {n, 0, 12}] \n",
    "Table[Bcpoly[n, 1], {n, 0, 12}] \n",
    "Table[Bcpoly[n, 0], {n, 0, 12}] "
   ]
  },
  {
   "cell_type": "code",
   "execution_count": null,
   "metadata": {},
   "outputs": [],
   "source": [
    "NormBcpoly := Table[Expand[FullSimplify[Bcpoly[n, x] / n!]], {n, 0, 7}] \n",
    "Plot[NormBcpoly, {x, -2.5, 2.5}, PlotRange -> {-0.2, 0.2}]"
   ]
  },
  {
   "cell_type": "markdown",
   "metadata": {},
   "source": [
    "<h2 style='color:#5E7AFF;margin-bottom:16px'>Formula <span style='color:orange'>41</span></h2>\n",
    "<p style=\"color:brown;font-size:large\">Going halves.</p>"
   ]
  },
  {
   "cell_type": "code",
   "execution_count": null,
   "metadata": {},
   "outputs": [],
   "source": [
    "s[n_] := Sum[Binomial[n, k] 2^k Bg[k, 1/2], {k, 0, n}];\n",
    "Table[s[n], {n, 0, 12}] // TeXForm"
   ]
  },
  {
   "cell_type": "code",
   "execution_count": null,
   "metadata": {},
   "outputs": [],
   "source": [
    "Table[2^n BernoulliB[n, 1], {n, 0, 12}] // TeXForm"
   ]
  },
  {
   "cell_type": "markdown",
   "metadata": {},
   "source": [
    "<p style=\"color:brown;font-size:large\">This is a completely natural result.  \n",
    "However note how absurd in contrast the following is for n = 1!</p>"
   ]
  },
  {
   "cell_type": "code",
   "execution_count": null,
   "metadata": {},
   "outputs": [],
   "source": [
    "Table[2^n BernoulliB[n], {n, 0, 12}] // TeXForm"
   ]
  },
  {
   "cell_type": "markdown",
   "metadata": {},
   "source": [
    "<h1 style=\"color:#CD5C5C;background:white; line-height: 150%;\n",
    "border-top: thick solid #CD5C5C; float: left; width: 100%;margin-top: 1em;\">\n",
    "The Genocchi function\n",
    "</h1>"
   ]
  },
  {
   "cell_type": "markdown",
   "metadata": {},
   "source": [
    "<h2 style='color:#5E7AFF;margin-bottom:16px'>Formula <span style='color:orange'>42</span></h2>\n",
    "<p style=\"color:brown;font-size:large\">The Genocchi function, by definition.</p>"
   ]
  },
  {
   "cell_type": "code",
   "execution_count": null,
   "metadata": {},
   "outputs": [],
   "source": [
    "G[s_] := 2^s (Bg[s, 1/2] - Bg[s, 1]);\n",
    "Clear[s, v]; G[s] // FullSimplify // TeXForm"
   ]
  },
  {
   "cell_type": "markdown",
   "metadata": {},
   "source": [
    "<p style=\"color:brown;font-size:large\">The Genocchi function as the difference between the Bernoulli function and the Bernoulli central function.</p>"
   ]
  },
  {
   "cell_type": "code",
   "execution_count": null,
   "metadata": {},
   "outputs": [],
   "source": [
    "Gbc[s_] := 2^s (Bc[s] - B[s]);\n",
    "Clear[s, v]; Gbc[s] // FullSimplify // TeXForm"
   ]
  },
  {
   "cell_type": "code",
   "execution_count": null,
   "metadata": {},
   "outputs": [],
   "source": [
    "Table[G[n], {n, 0, 14}]"
   ]
  },
  {
   "cell_type": "code",
   "execution_count": null,
   "metadata": {},
   "outputs": [],
   "source": [
    "Plot[G[s], {s, -1, 7},\n",
    "Epilog -> {PointSize[0.01], Red, Point[Table[{k,G[k]}, {k, 0, 7}]]}]"
   ]
  },
  {
   "cell_type": "markdown",
   "metadata": {},
   "source": [
    "<h2 style='color:#5E7AFF;margin-bottom:16px'>Formula <span style='color:orange'>43</span></h2>\n",
    "<p style=\"color:brown;font-size:large\">Genocchi function represented via Bernoulli function.</p>"
   ]
  },
  {
   "cell_type": "code",
   "execution_count": null,
   "metadata": {},
   "outputs": [],
   "source": [
    "Gb[s_] := 2 (1 - 2^s) B[s];\n",
    "Clear[s]; Gb[s] // FullSimplify // TeXForm"
   ]
  },
  {
   "cell_type": "code",
   "execution_count": null,
   "metadata": {},
   "outputs": [],
   "source": [
    "(* Plot[Gb[s], {s, -1, 7}] *)"
   ]
  },
  {
   "cell_type": "markdown",
   "metadata": {},
   "source": [
    "<h2 style='color:#5E7AFF;margin-bottom:16px'>Formula <span style='color:orange'>44</span></h2>\n",
    "<p style=\"color:brown;font-size:large\">Generalized Genocchi function.</p>"
   ]
  },
  {
   "cell_type": "code",
   "execution_count": null,
   "metadata": {},
   "outputs": [],
   "source": [
    "Gg[s_, x_] := 2^s (Bg[s, x/2] - Bg[s, (x + 1)/2]);\n",
    "\n",
    "Clear[s, x]; Expand[Gg[s, x]] // FullSimplify // TeXForm"
   ]
  },
  {
   "cell_type": "code",
   "execution_count": null,
   "metadata": {},
   "outputs": [],
   "source": [
    "Limit[2^s (Bg[s, x/2] - Bg[s, (x + 1)/2]), x -> 1] // TeXForm"
   ]
  },
  {
   "cell_type": "markdown",
   "metadata": {},
   "source": [
    "<p style=\"color:brown;font-size:large\">A226158</p>"
   ]
  },
  {
   "cell_type": "code",
   "execution_count": null,
   "metadata": {},
   "outputs": [],
   "source": [
    "Table[Gg[n, 1], {n, 0, 12}]"
   ]
  },
  {
   "cell_type": "markdown",
   "metadata": {},
   "source": [
    "<h2 style='color:#5E7AFF;margin-bottom:16px'>Formula <span style='color:orange'>45</span></h2>\n",
    "<p style=\"color:brown;font-size:large\">The Genocchi polynomials.</p>"
   ]
  },
  {
   "cell_type": "code",
   "execution_count": null,
   "metadata": {},
   "outputs": [],
   "source": [
    "V := Table[Expand[Simplify[FunctionExpand[\n",
    "2^n (BernoulliB[n, x/2] - BernoulliB[n, (x + 1)/2])]]], {n, 0, 6}];\n",
    "MatrixForm[V] "
   ]
  },
  {
   "cell_type": "code",
   "execution_count": null,
   "metadata": {},
   "outputs": [],
   "source": [
    "Clear[x]; \n",
    "V := Table[Expand[FullSimplify[Gg[n, x]]], {n, 0, 6}]\n",
    "W := Table[Expand[FullSimplify[Gg[n, x]]], {n, 0, 6}]\n",
    "U := CoefficientList[W, x]\n",
    "Grid[{V, W, U}, Frame -> All]"
   ]
  },
  {
   "cell_type": "markdown",
   "metadata": {},
   "source": [
    "<h2 style='color:#5E7AFF;margin-bottom:16px'>Formula <span style='color:orange'>46</span></h2>\n",
    "<p style=\"color:brown;font-size:large\">The Genocchi polynomials as difference between the Bernoulli polynomials and the central polynomials.</p>"
   ]
  },
  {
   "cell_type": "code",
   "execution_count": null,
   "metadata": {},
   "outputs": [],
   "source": [
    "V := Table[Expand[Simplify[FunctionExpand[\n",
    "2 (BernoulliB[n, x] - Bcpoly[n, x])]]], {n, 0, 6}];\n",
    "MatrixForm[V] "
   ]
  },
  {
   "cell_type": "code",
   "execution_count": null,
   "metadata": {},
   "outputs": [],
   "source": [
    "w[n_, x_] := Poly[2^n (Bg[n, x/2] - Bg[n, (x + 1)/2])];\n",
    "W := Table[w[n, x], {n, 0, 6}] \n",
    "u[n_, x_] := Poly[Gg[n, x]];\n",
    "U := Table[u[n, x], {n, 0, 6}] \n",
    "Grid[{V, W, U}, Frame -> All]"
   ]
  },
  {
   "cell_type": "code",
   "execution_count": null,
   "metadata": {},
   "outputs": [],
   "source": [
    "Table[Expand[FullSimplify[Gg[n, 1]]], {n, 0, 14}] "
   ]
  },
  {
   "cell_type": "code",
   "execution_count": null,
   "metadata": {},
   "outputs": [],
   "source": [
    "Table[Expand[FullSimplify[Gg[n, x] / n!]], {n, 3, 7}] \n",
    "Plot[%, {x, 0, 1}]"
   ]
  },
  {
   "cell_type": "markdown",
   "metadata": {},
   "source": [
    "<h1 style=\"color:#CD5C5C;background:white; line-height: 150%;\n",
    "border-top: thick solid #CD5C5C; float: left; width: 100%;margin-top: 1em;\">\n",
    "The alternating Bernoulli function\n",
    "</h1>"
   ]
  },
  {
   "cell_type": "markdown",
   "metadata": {},
   "source": [
    "<h2 style='color:#5E7AFF;margin-bottom:16px'>Formula <span style='color:orange'>47</span></h2>\n",
    "<p style=\"color:brown;font-size:large\">The alternating Riemann zeta function.</p>"
   ]
  },
  {
   "cell_type": "code",
   "execution_count": null,
   "metadata": {},
   "outputs": [],
   "source": [
    "atext := MaTeX[\"\\\\zeta_{\\\\text{alt}}(s)\"];\n",
    "btext := MaTeX[\"\\\\zeta(s)\"];\n",
    "\n",
    "ζalt[s_] := Zeta[s] (1 - 2^(1 - s));\n",
    "\n",
    "Plot[{ζalt[s], Zeta[s]}, {s, -8, 12}, PlotRange -> {-3/2, 2}, WorkingPrecision -> 50,\n",
    "Filling -> {1 -> {2}}, PlotTheme -> {\"Thin\"},\n",
    "PlotLegends -> Placed[{atext, btext}, {0.85, 0.15}]]\n",
    "(* Export[\"Fig25AlternatingZeta.eps\", %] *)"
   ]
  },
  {
   "cell_type": "markdown",
   "metadata": {},
   "source": [
    "<h2 style='color:#5E7AFF;margin-bottom:16px'>Formula <span style='color:orange'>48</span></h2>\n",
    "<p style=\"color:brown;font-size:large\">The alternating Bernoulli function, definition.</p>"
   ]
  },
  {
   "cell_type": "code",
   "execution_count": null,
   "metadata": {},
   "outputs": [],
   "source": [
    "Balt[s_] := -s ζalt[1 - s];\n",
    "Balt[0] := 0;\n",
    "\n",
    "Clear[s]; Balt[s] // FullSimplify // TeXForm"
   ]
  },
  {
   "cell_type": "code",
   "execution_count": null,
   "metadata": {},
   "outputs": [],
   "source": [
    "atext := MaTeX[\"B_{\\\\text{alt}}(s)\"];\n",
    "btext := MaTeX[\"B(s)\"];\n",
    "\n",
    "Plot[{Balt[s], B[s]}, {s, -7, 7}, PlotTheme -> {\"Thin\"},\n",
    "WorkingPrecision -> 50, Filling -> {1 -> {2}}, \n",
    "PlotLegends -> Placed[{atext, btext}, {0.85, 0.7}] ]\n",
    "(* Export[\"Fig26AlternatingBernoulli.eps\", %] *)"
   ]
  },
  {
   "cell_type": "code",
   "execution_count": null,
   "metadata": {},
   "outputs": [],
   "source": [
    "Table[Numerator[Balt[n]], {n, 0, 12}]\n",
    "Table[Denominator[Balt[n]], {n, 0, 12}]"
   ]
  },
  {
   "cell_type": "code",
   "execution_count": null,
   "metadata": {},
   "outputs": [],
   "source": [
    "Series[Balt[s], {s, 0, 4}] // TeXForm\n",
    "% // N // Chop"
   ]
  },
  {
   "cell_type": "code",
   "execution_count": null,
   "metadata": {},
   "outputs": [],
   "source": [
    "Table[(B[n] - Balt[n]) / 2^n, {n, 0, 12}] // TeXForm"
   ]
  },
  {
   "cell_type": "markdown",
   "metadata": {},
   "source": [
    "<h2 style='color:#5E7AFF;margin-bottom:16px'>Formula <span style='color:orange'>49 / 50</span></h2>\n",
    "<p style=\"color:brown;font-size:large\">The alternating Hurwitz zeta function via Hurwitz zeta.</p>"
   ]
  },
  {
   "cell_type": "code",
   "execution_count": null,
   "metadata": {},
   "outputs": [],
   "source": [
    "Limit[2^(-s) (HurwitzZeta[s, x/2] - HurwitzZeta[s, (x + 1)/2]), \n",
    "             s -> 1] // TeXForm"
   ]
  },
  {
   "cell_type": "code",
   "execution_count": null,
   "metadata": {},
   "outputs": [],
   "source": [
    "Hζalt[s_, x_] := 2^(-s) (HurwitzZeta[s, x/2] - HurwitzZeta[s, (x + 1)/2]);\n",
    "Hζalt[1, x_] := (PolyGamma[0, (1 + x)/2] - PolyGamma[0, x/2]) / 2; \n",
    "        \n",
    "Clear[s, x]; Hζalt[s, x] // FullSimplify // TeXForm        "
   ]
  },
  {
   "cell_type": "code",
   "execution_count": null,
   "metadata": {},
   "outputs": [],
   "source": [
    "Table[Hζalt[n, 1], {n, 0, 7}] // N"
   ]
  },
  {
   "cell_type": "code",
   "execution_count": null,
   "metadata": {},
   "outputs": [],
   "source": [
    "Plot[{ζalt[s], Hζalt[s, 1]}, {s, -2, 7}, PlotTheme -> {\"Thick\", \"DashedLines\"},\n",
    "PlotLegends -> Placed[\"Expressions\", {Scaled[{0.9, 0.3}], {0.9, 0.3}}]]"
   ]
  },
  {
   "cell_type": "markdown",
   "metadata": {},
   "source": [
    "<h2 style='color:#5E7AFF;margin-bottom:16px'>Formula <span style='color:orange'>51</span></h2>\n",
    "<p style=\"color:brown;font-size:large\">The alternating Bernoulli polynomials, definition.\n",
    "A333303, A110501, A001469</p>"
   ]
  },
  {
   "cell_type": "code",
   "execution_count": null,
   "metadata": {},
   "outputs": [],
   "source": [
    "BHalt[s_, v_] := -s Hζalt[1 - s, v]; \n",
    "\n",
    "Clear[s, v]; BHalt[s, v] // FullSimplify // TeXForm"
   ]
  },
  {
   "cell_type": "code",
   "execution_count": null,
   "metadata": {},
   "outputs": [],
   "source": [
    "Clear[x]; \n",
    "Table[Expand[FullSimplify[BHalt[n, x]]], {n, 0, 6}] // MatrixForm"
   ]
  },
  {
   "cell_type": "markdown",
   "metadata": {},
   "source": [
    "<h2 style='color:#5E7AFF;margin-bottom:16px'>Formula <span style='color:orange'>52</span></h2>\n",
    "<p style=\"color:brown;font-size:large\">The alternating Bernoulli function via the Bernoulli function.</p>"
   ]
  },
  {
   "cell_type": "code",
   "execution_count": null,
   "metadata": {},
   "outputs": [],
   "source": [
    "BBalt[s_] := B[s] (1 - 2^s);\n",
    "Clear[s]; BBalt[s] // FullSimplify // TeXForm"
   ]
  },
  {
   "cell_type": "markdown",
   "metadata": {},
   "source": [
    "<h2 style='color:#5E7AFF;margin-bottom:16px'>Formula <span style='color:orange'>53</span></h2>\n",
    "<p style=\"color:brown;font-size:large\">The alternating Bernoulli numbers.</p>"
   ]
  },
  {
   "cell_type": "code",
   "execution_count": null,
   "metadata": {},
   "outputs": [],
   "source": [
    "Table[Balt[n], {n, 0, 12}] \n",
    "%  // Numerator      (* A036968 *)\n",
    "%% // Denominator "
   ]
  },
  {
   "cell_type": "markdown",
   "metadata": {},
   "source": [
    "<h2 style='color:#5E7AFF;margin-bottom:16px'>Formula <span style='color:orange'>53a</span></h2>\n",
    "<p style=\"color:brown;font-size:large\">The alternating centered Bernoulli numbers. A346464 and A346463</p>"
   ]
  },
  {
   "cell_type": "code",
   "execution_count": null,
   "metadata": {},
   "outputs": [],
   "source": [
    "Bcalt1[s_] := Bc[s] (1 - 2^s) 2^s; \n",
    "Bcalt2[s_] := Cos[Pi s / 2] B[s] (2^(1 - s) - 1)(2^s - 1) 2^s;\n",
    "Limit[Bcalt1[s], s -> 0]\n",
    "\n",
    "Clear[s]; Bcalt1[s] // FullSimplify // TeXForm\n",
    "Clear[s]; Bcalt2[s] // FullSimplify // TeXForm"
   ]
  },
  {
   "cell_type": "code",
   "execution_count": null,
   "metadata": {},
   "outputs": [],
   "source": [
    "Table[Bcalt1[n], {n, 0, 16, 2}]\n",
    "Table[Bcalt2[n], {n, 0, 16, 2}]"
   ]
  },
  {
   "cell_type": "code",
   "execution_count": null,
   "metadata": {},
   "outputs": [],
   "source": [
    "Table[6 QBinomial[2 n, 2, 2] Bg[2 n, 1], {n, 0, 8}] "
   ]
  },
  {
   "cell_type": "markdown",
   "metadata": {},
   "source": [
    "<p style=\"color:brown;font-size:large\">a(n) = (4^n - 2)*(4^n - 1) /  Clausen(2*n - 1). A346463.</p>"
   ]
  },
  {
   "cell_type": "code",
   "execution_count": null,
   "metadata": {},
   "outputs": [],
   "source": [
    "Clausen[n_] := Times @@ (Select[Divisors[n + 1], PrimeQ[# + 1] &] + 1);"
   ]
  },
  {
   "cell_type": "code",
   "execution_count": null,
   "metadata": {},
   "outputs": [],
   "source": [
    "Table[((4^n - 2)*(4^n - 1)) / Clausen[2 n - 1], {n, 1, 8}] "
   ]
  },
  {
   "cell_type": "code",
   "execution_count": null,
   "metadata": {},
   "outputs": [],
   "source": [
    "Table[6 QBinomial[2 n, 2, 2] / Denominator[B[2 n]], {n, 1, 8}] "
   ]
  },
  {
   "cell_type": "markdown",
   "metadata": {},
   "source": [
    "<h1 style=\"color:#CD5C5C;background:white; line-height: 150%;\n",
    "border-top: thick solid #CD5C5C; float: left; width: 100%;margin-top: 1em;\">\n",
    "Derivatives of the Bernoulli function\n",
    "</h1>"
   ]
  },
  {
   "cell_type": "markdown",
   "metadata": {},
   "source": [
    "<h2 style='color:#5E7AFF;margin-bottom:16px'>Formula <span style='color:orange'>54</span></h2>\n",
    "<p style=\"color:brown;font-size:large\">Derivatives of the Bernoulli function.</p>"
   ]
  },
  {
   "cell_type": "code",
   "execution_count": null,
   "metadata": {},
   "outputs": [],
   "source": [
    "dB[n_, x_] := If[x == 0, Limit[Derivative[n][B][s], s -> 0], \n",
    "               Derivative[n][B][s] /. s -> x]; \n",
    "\n",
    "Clear[s, x, n]; dB[n, s] // FullSimplify // TeXForm"
   ]
  },
  {
   "cell_type": "code",
   "execution_count": null,
   "metadata": {},
   "outputs": [],
   "source": [
    "Table[Print[n, \" -> \", FullSimplify[dB[n, s]]], {n, 0, 4}] ;"
   ]
  },
  {
   "cell_type": "code",
   "execution_count": null,
   "metadata": {},
   "outputs": [],
   "source": [
    "dBz[n_, x_] := If[x == 0, Limit[Derivative[n][B][s], s -> 0], \n",
    "              ((-1)^n (n Derivative[n - 1][Zeta][1-s] \n",
    "                    - s Derivative[n][Zeta][1-s])) /. s -> x];\n",
    "                    \n",
    "Clear[s, x, n]; dBz[n, s] // FullSimplify // TeXForm"
   ]
  },
  {
   "cell_type": "code",
   "execution_count": null,
   "metadata": {},
   "outputs": [],
   "source": [
    "Table[Print[n, \" -> \", FullSimplify[dBz[n, s]]], {n, 0, 4}] ;"
   ]
  },
  {
   "cell_type": "code",
   "execution_count": null,
   "metadata": {},
   "outputs": [],
   "source": [
    "Plot[{dB[1, x], dBz[1, x], dB[2, x], dBz[2, x]}, {x, 0, 6}]"
   ]
  },
  {
   "cell_type": "code",
   "execution_count": null,
   "metadata": {},
   "outputs": [],
   "source": [
    "Plot[{-s Zeta[1 - s], \n",
    "-Zeta[1 - s] + s Zeta'[1 - s],\n",
    "2 Zeta'[1 - s] - s Zeta''[1 - s],\n",
    "-3 Zeta''[1 - s] + s Zeta'''[1 - s]},  \n",
    "{s, 0, 12}, PlotLegends -> \"Expressions\"]\n",
    "\n",
    "(* Export[\"Fig6BernoulliDerivatives.eps\", %] *)"
   ]
  },
  {
   "cell_type": "markdown",
   "metadata": {},
   "source": [
    "<h2 style='color:#5E7AFF;margin-bottom:16px'>Formula <span style='color:orange'>55</span></h2>\n",
    "<p style=\"color:brown;font-size:large\">Bernoulli constants as values of a derivative.</p>"
   ]
  },
  {
   "cell_type": "code",
   "execution_count": null,
   "metadata": {},
   "outputs": [],
   "source": [
    "Table[dB[n, 0], {n, 0, 6}] // TeXForm\n",
    "% // N "
   ]
  },
  {
   "cell_type": "code",
   "execution_count": null,
   "metadata": {},
   "outputs": [],
   "source": [
    "Table[dBz[n, 0], {n, 0, 6}] // TeXForm\n",
    "% // N "
   ]
  },
  {
   "cell_type": "code",
   "execution_count": null,
   "metadata": {},
   "outputs": [],
   "source": [
    "Table[beta[n], {n, 0, 4}] // Chop"
   ]
  },
  {
   "cell_type": "code",
   "execution_count": null,
   "metadata": {},
   "outputs": [],
   "source": [
    "dBz[1, 0] == -EulerGamma // TeXForm"
   ]
  },
  {
   "cell_type": "code",
   "execution_count": null,
   "metadata": {},
   "outputs": [],
   "source": [
    "Table[Expand[(n-1)! D[BernoulliB[n, x], x]] /. x -> 1, {n, 1, 16}] "
   ]
  },
  {
   "cell_type": "markdown",
   "metadata": {},
   "source": [
    "<h1 style=\"color:#CD5C5C;background:white; line-height: 150%;\n",
    "border-top: thick solid #CD5C5C; float: left; width: 100%;margin-top: 1em;\">\n",
    "Logarithmic derivative and Bernoulli cumulants</h1>"
   ]
  },
  {
   "cell_type": "markdown",
   "metadata": {},
   "source": [
    "<p style=\"color:brown;font-size:large\">For odd integer $n = 3, 5, 7, \\ldots $ the value of  $\\mathcal{L}\\!\\operatorname{B}(n) $ is undefined.</p>"
   ]
  },
  {
   "cell_type": "code",
   "execution_count": null,
   "metadata": {},
   "outputs": [],
   "source": [
    "LdB[s_] := B'[s] / B[s];\n",
    "LdB[0] := -EulerGamma;\n",
    "\n",
    "LdG[s_] := Gamma'[s] / Gamma[s];\n",
    "LdZ[s_] := Zeta'[s] / Zeta[s];"
   ]
  },
  {
   "cell_type": "markdown",
   "metadata": {},
   "source": [
    "<p style=\"color:brown;font-size:large\">Compare the logarithmic derivative of the Bernoulli function \n",
    "at the even integers with the logarithm of x/π.</p>"
   ]
  },
  {
   "cell_type": "code",
   "execution_count": null,
   "metadata": {},
   "outputs": [],
   "source": [
    "Show[Plot[Log[x / Pi], {x, 8, 120}, PlotStyle -> Red],\n",
    "DiscretePlot[LdB[2 n], {n, 8, 120}, WorkingPrecision -> 70]]"
   ]
  },
  {
   "cell_type": "markdown",
   "metadata": {},
   "source": [
    "<h2 style='color:#5E7AFF;margin-bottom:16px'>Formula <span style='color:orange'>56</span></h2>\n",
    "<p style=\"color:brown;font-size:large\">The logarithmic derivative of the Bernoulli function.</p>"
   ]
  },
  {
   "cell_type": "code",
   "execution_count": null,
   "metadata": {},
   "outputs": [],
   "source": [
    "LdBz[s_] := 1/s - LdZ[1 - s]; \n",
    "LdBz[0] := -EulerGamma; \n",
    "\n",
    "Clear[s]; LdBz[s] // FullSimplify // TeXForm"
   ]
  },
  {
   "cell_type": "code",
   "execution_count": null,
   "metadata": {},
   "outputs": [],
   "source": [
    "Table[{LdBz[s], N[LdBz[s]]}, {s, 0, 9, 2}] // TableForm"
   ]
  },
  {
   "cell_type": "code",
   "execution_count": null,
   "metadata": {},
   "outputs": [],
   "source": [
    "Plot[{1/s - LdZ[1 - s], LdB[s]}, {s, -1/2, 7}, \n",
    "WorkingPrecision -> 20, PlotTheme -> {\"Thick\", \"DashedLines\"},\n",
    "PlotLegends -> Placed[\"Expressions\", {Scaled[{0.21, 0.89}], {0.21, 0.89}}]]"
   ]
  },
  {
   "cell_type": "markdown",
   "metadata": {},
   "source": [
    "<h2 style='color:#5E7AFF;margin-bottom:16px'>Formula <span style='color:orange'>57</span></h2>\n",
    "<p style=\"color:brown;font-size:large\">Representation of LdB by LdGamma and LdZeta.</p>"
   ]
  },
  {
   "cell_type": "code",
   "execution_count": null,
   "metadata": {},
   "outputs": [],
   "source": [
    "ρ[s_] := (1/s) - (Pi/2) Tan[s Pi/2] - Log[2 Pi];  \n",
    "ρ[s] // TeXForm"
   ]
  },
  {
   "cell_type": "code",
   "execution_count": null,
   "metadata": {},
   "outputs": [],
   "source": [
    "lhs[s_] := LdG[s] + LdZ[s] + ρ[s]; \n",
    "Clear[s]; lhs[s] // FullSimplify // TeXForm"
   ]
  },
  {
   "cell_type": "code",
   "execution_count": null,
   "metadata": {},
   "outputs": [],
   "source": [
    "Plot[{LdZ[s] + LdG[s], LdB[s] - ρ[s]}, {s, -1, 4}, \n",
    "WorkingPrecision -> 20, PlotTheme -> {\"Thick\", \"DashedLines\"},\n",
    "PlotLegends -> Placed[\"Expressions\", {Scaled[{0.9, 0.9}], {0.9, 0.9}}]]"
   ]
  },
  {
   "cell_type": "markdown",
   "metadata": {},
   "source": [
    "<h2 style='color:#5E7AFF;margin-bottom:16px'>Formula <span style='color:orange'>58</span></h2>\n",
    "<p style=\"color:brown;font-size:large\">The coefficients in the series expansion of the logarithmic derivative of the Bernoulli function. The logarithmic polynomials generated by the Bernoulli constants.</p>"
   ]
  },
  {
   "cell_type": "code",
   "execution_count": null,
   "metadata": {},
   "outputs": [],
   "source": [
    "K := 3\n",
    "Series[LdBz[s], {s, 0, K}] \n",
    "% /. Table[StieltjesGamma[n] -> -Subscript[β, n+1]/(n+1), {n, 1, K}]\n",
    "% /. EulerGamma -> -Subscript[β, 1]\n",
    "CoefficientList[Normal[%], s] Range[0, K]! \n",
    "% // Expand // TableForm "
   ]
  },
  {
   "cell_type": "code",
   "execution_count": null,
   "metadata": {},
   "outputs": [],
   "source": [
    "Clear[beta, s];\n",
    "S := Sum[beta[n] s^n / n!, {n, 0, 10}];\n",
    "beta[0] := 1; \n",
    "L := Normal[Series[Log[S], {s, 0, 4}]]; \n",
    "Tc := Table[n! Coefficient[L, s, n] , {n, 1, 4}];\n",
    "Tc // Expand // TableForm // TeXForm"
   ]
  },
  {
   "cell_type": "markdown",
   "metadata": {},
   "source": [
    "<h1 style=\"color:#CD5C5C;background:white; line-height: 150%;\n",
    "border-top: thick solid #CD5C5C; float: left; width: 100%;margin-top: 1em;\">\n",
    "The Hasse-Worpitzky representation\n",
    "</h1>"
   ]
  },
  {
   "cell_type": "markdown",
   "metadata": {},
   "source": [
    "<h2 style='color:#5E7AFF;margin-bottom:16px'>Formula <span style='color:orange'>59</span></h2>\n",
    "<p style=\"color:brown;font-size:large\">Worpitzky numbers and Fubini  polynomials, A163626, A278075.</p>"
   ]
  },
  {
   "cell_type": "code",
   "execution_count": null,
   "metadata": {},
   "outputs": [],
   "source": [
    "w[n_, k_] := (-1)^k k! StirlingS2[n + 1, k + 1];\n",
    "Table[w[n, k], {n, 0, 5}, {k, 0, n}] // MatrixForm"
   ]
  },
  {
   "cell_type": "code",
   "execution_count": null,
   "metadata": {},
   "outputs": [],
   "source": [
    "FubiniPoly[n_] := Sum[(-1)^(n-k) StirlingS2[n, k] k! x^k, {k, 0, n}]\n",
    "Table[FubiniPoly[n], {n, 0, 7}] // MatrixForm"
   ]
  },
  {
   "cell_type": "code",
   "execution_count": null,
   "metadata": {},
   "outputs": [],
   "source": [
    "Table[Integrate[FubiniPoly[n], {x, 0, 1}], {n, 0, 12}]"
   ]
  },
  {
   "cell_type": "code",
   "execution_count": null,
   "metadata": {},
   "outputs": [],
   "source": [
    "F0 := FubiniPoly[0]; F1 := FubiniPoly[1]; F2 := FubiniPoly[2];\n",
    "F3 := FubiniPoly[3]; F4 := FubiniPoly[4]; F5 := FubiniPoly[5];\n",
    "Plot[{F0,F1,F2,F3,F4,F5}, {x, 0, 1}, PlotLegends -> \"Expressions\",\n",
    "PlotRange -> {-0.8, 1}]\n",
    "(* Export[\"Fig30FubiniPolynomials.eps\", %] *)"
   ]
  },
  {
   "cell_type": "code",
   "execution_count": null,
   "metadata": {},
   "outputs": [],
   "source": [
    "WorpitzkyPoly[n_] := Sum[w[n, k] x^k, {k, 0, n}]\n",
    "Table[WorpitzkyPoly[n], {n, 0, 7}] // MatrixForm"
   ]
  },
  {
   "cell_type": "code",
   "execution_count": null,
   "metadata": {},
   "outputs": [],
   "source": [
    "Table[Integrate[WorpitzkyPoly[n], {x, 0, 1}], {n, 0, 12}]"
   ]
  },
  {
   "cell_type": "code",
   "execution_count": null,
   "metadata": {},
   "outputs": [],
   "source": [
    "WorpitzkyPoly2[n_] := Expand[FubiniPoly[n] /. x -> 1-x]\n",
    "Table[WorpitzkyPoly2[n], {n, 0, 7}] // MatrixForm"
   ]
  },
  {
   "cell_type": "markdown",
   "metadata": {},
   "source": [
    "<h2 style='color:#5E7AFF;margin-bottom:16px'>Formula <span style='color:orange'>60</span></h2>\n",
    "<p style=\"color:brown;font-size:large\">Worpitzky transform.</p>"
   ]
  },
  {
   "cell_type": "code",
   "execution_count": null,
   "metadata": {},
   "outputs": [],
   "source": [
    "Wt[n_, a_] := Sum[w[n, k] a[k], {k, 0, n}]"
   ]
  },
  {
   "cell_type": "code",
   "execution_count": null,
   "metadata": {
    "scrolled": true
   },
   "outputs": [],
   "source": [
    "a[n_] := 1 / (n + 1); \n",
    "Table[Wt[n, a], {n, 0, 12}] // TeXForm (* Bernoulli numbers *)"
   ]
  },
  {
   "cell_type": "markdown",
   "metadata": {},
   "source": [
    "<h1 style=\"color:#CD5C5C;background:white; line-height: 150%;\n",
    "border-top: thick solid #CD5C5C; float: left; width: 100%;margin-top: 1em;\">\n",
    "The generalized Worpitzky transform\n",
    "</h1>"
   ]
  },
  {
   "cell_type": "markdown",
   "metadata": {},
   "source": [
    "<h2 style='color:#5E7AFF;margin-bottom:16px'>Formula <span style='color:orange'>61</span></h2>\n",
    "<p style=\"color:brown;font-size:large\">Generalized Worpitzky transform.</p>"
   ]
  },
  {
   "cell_type": "code",
   "execution_count": null,
   "metadata": {},
   "outputs": [],
   "source": [
    "Clear[a]\n",
    "Wtg[m_, a_] := Sum[(-1)^n Binomial[m, n] Wt[n, a] x^(m - n), {n, 0, m}];\n",
    "Clear[m, a]; Wtg[m, a] // FullSimplify // TeXForm"
   ]
  },
  {
   "cell_type": "code",
   "execution_count": null,
   "metadata": {},
   "outputs": [],
   "source": [
    "Table[Poly[Wtg[n, a]], {n, 0, 4}] // MatrixForm // TeXForm"
   ]
  },
  {
   "cell_type": "code",
   "execution_count": null,
   "metadata": {},
   "outputs": [],
   "source": [
    "a[n_] := 1 / (n + 1);\n",
    "Table[Wtg[n, a] /. x -> 1, {n, 0, 12}] // TeXForm"
   ]
  },
  {
   "cell_type": "code",
   "execution_count": null,
   "metadata": {},
   "outputs": [],
   "source": [
    "Table[Wtg[n, HarmonicNumber], {n, 6}] // TeXForm"
   ]
  },
  {
   "cell_type": "markdown",
   "metadata": {},
   "source": [
    "<h2 style='color:#5E7AFF;margin-bottom:16px'>Formula <span style='color:orange'>62</span></h2>\n",
    "<p style=\"color:brown;font-size:large\">Generalized Worpitzky transform, alternative form.</p>"
   ]
  },
  {
   "cell_type": "code",
   "execution_count": null,
   "metadata": {},
   "outputs": [],
   "source": [
    "Wtga[m_, a_] := Sum[a[n] Sum[(-1)^k Binomial[n, k] (x - k -1)^m, \n",
    "                {k, 0, n}], {n, 0, m}];\n",
    "Clear[m, a]; Wtga[m, a] // FullSimplify // TeXForm"
   ]
  },
  {
   "cell_type": "code",
   "execution_count": null,
   "metadata": {},
   "outputs": [],
   "source": [
    "Table[Poly[Wtga[n, a]], {n, 0, 4}] // TableForm // TeXForm "
   ]
  },
  {
   "cell_type": "markdown",
   "metadata": {},
   "source": [
    "<h2 style='color:#5E7AFF;margin-bottom:16px'>Formula <span style='color:orange'>63</span></h2>\n",
    "<p style=\"color:brown;font-size:large\">Bernoulli polynomials and Bernoulli numbers from the generalized Worpitzky transform.</p>"
   ]
  },
  {
   "cell_type": "code",
   "execution_count": null,
   "metadata": {},
   "outputs": [],
   "source": [
    "Bw[m_] := Sum[(n + 1)^(-1) Sum[(-1)^(m - k) Binomial[n, k] k^m, \n",
    "          {k, 0, n}], {n, 0, m}];\n",
    "Table[Poly[Bw[n]], {n, 0, 12}] // TeXForm"
   ]
  },
  {
   "cell_type": "code",
   "execution_count": null,
   "metadata": {},
   "outputs": [],
   "source": [
    "a[n_] := 1 / (n + 1);\n",
    "{Table[Poly[Wtga[n, a]], {n, 0, 5}] // MatrixForm ,\n",
    " Table[BernoulliB[n, x], {n, 0, 5}] // MatrixForm }"
   ]
  },
  {
   "cell_type": "markdown",
   "metadata": {},
   "source": [
    "<p style=\"color:brown;font-size:large\">Examples: a(n) = n + 1 and a(n) = H(n + 1).</p>"
   ]
  },
  {
   "cell_type": "code",
   "execution_count": null,
   "metadata": {},
   "outputs": [],
   "source": [
    "a[n_] := n + 1;\n",
    "Table[Poly[Wtga[n, a]], {n, 0, 5}] // MatrixForm"
   ]
  },
  {
   "cell_type": "code",
   "execution_count": null,
   "metadata": {},
   "outputs": [],
   "source": [
    "a[n_] := HarmonicNumber[n + 1];\n",
    "{Table[Poly[Wtga[n, a]],     {n, 0, 6}] // TableForm, \n",
    "Table[Poly[BernoulliB[n,x]], {n, 0, 6}] // TableForm } "
   ]
  },
  {
   "cell_type": "markdown",
   "metadata": {},
   "source": [
    "<h1 style=\"color:#CD5C5C;background:white; line-height: 150%;\n",
    "border-top: thick solid #CD5C5C; float: left; width: 100%;margin-top: 1em;\">\n",
    "The Hasse representation\n",
    "</h1>"
   ]
  },
  {
   "cell_type": "markdown",
   "metadata": {},
   "source": [
    "<h2 style='color:#5E7AFF;margin-bottom:16px'>Formula <span style='color:orange'>64</span></h2>\n",
    "<p style=\"color:brown;font-size:large\">Hasse's formula.</p>"
   ]
  },
  {
   "cell_type": "code",
   "execution_count": null,
   "metadata": {},
   "outputs": [],
   "source": [
    "Bh[s_, v_] := Sum[(n + 1)^(-1) Sum[(-1)^k Binomial[n, k] (k + v)^s, \n",
    "              {k, 0, n}], {n, 0, Infinity}];\n",
    "\n",
    "Clear[s, v, n]; Bh[s, v] // FullSimplify // TeXForm"
   ]
  },
  {
   "cell_type": "code",
   "execution_count": null,
   "metadata": {},
   "outputs": [],
   "source": [
    "BhNum[s_, v_] := Sum[(n + 1)^(-1) Sum[(-1)^k Binomial[n, k] (k + v)^s, \n",
    "               {k, 0, n}], {n, 0, Ceiling[s]}]; \n",
    "               \n",
    "Table[BhNum[s, 1], {s, 0, 12}] // TeXForm             \n",
    "Table[2^s BhNum[s, 1/2], {s, 0, 12}] // TeXForm             "
   ]
  },
  {
   "cell_type": "code",
   "execution_count": null,
   "metadata": {},
   "outputs": [],
   "source": [
    "Show[Plot[BcNum[n], {n, 0, 12}, PlotStyle -> Brown],\n",
    "DiscretePlot[2^n BhNum[n, 1/2], {n, 0, 12}, WorkingPrecision -> 70]]"
   ]
  },
  {
   "cell_type": "markdown",
   "metadata": {},
   "source": [
    "<h2 style='color:#5E7AFF;margin-bottom:16px'>Formula <span style='color:orange'>65</span></h2>\n",
    "<p style=\"color:brown;font-size:large\">The Hasse representation of the central Bernoulli function.</p>"
   ]
  },
  {
   "cell_type": "code",
   "execution_count": null,
   "metadata": {},
   "outputs": [],
   "source": [
    "Bhc[s_] := Bh[s, 1/2];\n",
    "Clear[s]; Bhc[s] // Poly // FullSimplify // TeXForm"
   ]
  },
  {
   "cell_type": "code",
   "execution_count": null,
   "metadata": {},
   "outputs": [],
   "source": [
    "Table[2^s BhNum[s, 1/2], {s, 0, 12}]\n",
    "%  // Numerator   (* even indexed are A001896 *)\n",
    "%% // Denominator (* A141459, even indexed A001897 *)"
   ]
  },
  {
   "cell_type": "markdown",
   "metadata": {},
   "source": [
    "<h2 style='color:#5E7AFF;margin-bottom:16px'>Formula <span style='color:orange'>66</span></h2>\n",
    "<p style=\"color:brown;font-size:large\">For the central Bernoulli numbers equivalent to:</p>"
   ]
  },
  {
   "cell_type": "code",
   "execution_count": null,
   "metadata": {},
   "outputs": [],
   "source": [
    "Bhcn[N_] := Sum[(n + 1)^(-1) Sum[(-1)^k Binomial[n, k] (2 k + 1)^N, \n",
    "                {k, 0, n}], {n, 0, N}]; "
   ]
  },
  {
   "cell_type": "code",
   "execution_count": null,
   "metadata": {},
   "outputs": [],
   "source": [
    "Table[Bhcn[s], {s, 0, 12}]\n",
    "%  // Numerator   \n",
    "%% // Denominator "
   ]
  },
  {
   "cell_type": "markdown",
   "metadata": {},
   "source": [
    "<h2 style='color:#5E7AFF;margin-bottom:16px'>Formula <span style='color:orange'>67</span></h2>\n",
    "<p style=\"color:brown;font-size:large\">Bernoulli constants via Hasse representation </p>"
   ]
  },
  {
   "cell_type": "code",
   "execution_count": null,
   "metadata": {},
   "outputs": [],
   "source": [
    "(* Not suited for numerical computation! *)\n",
    "betah[s_, v_] := Sum[(n + 1)^(-1) Sum[(-1)^k Binomial[n, k] Log[k + v]^s, \n",
    "                {k, 0, n}], {n, 0, Infinity}];\n",
    "\n",
    "Clear[s, v, n]; betah[s, v] // FullSimplify // TeXForm"
   ]
  },
  {
   "cell_type": "markdown",
   "metadata": {},
   "source": [
    "<h1 style=\"color:#CD5C5C;background:white; line-height: 150%;\n",
    "border-top: thick solid #CD5C5C; float: left; width: 100%;margin-top: 1em;\">\n",
    "The functional equation\n",
    "</h1>"
   ]
  },
  {
   "cell_type": "markdown",
   "metadata": {},
   "source": [
    "<h2 style='color:#5E7AFF;margin-bottom:16px'>Formula <span style='color:orange'>68</span></h2>\n",
    "<p style=\"color:brown;font-size:large\">The tau constant and the tau function.</p>"
   ]
  },
  {
   "cell_type": "code",
   "execution_count": null,
   "metadata": {},
   "outputs": [],
   "source": [
    "tau := 2*Pi*I ;\n",
    "Tau[s_] := tau^(-s) + (-tau)^(-s);\n",
    "Tau[s] // TeXForm"
   ]
  },
  {
   "cell_type": "code",
   "execution_count": null,
   "metadata": {},
   "outputs": [],
   "source": [
    "Plot[Tau[s], {s, -1, 3},  PlotRange -> {-0.1, 3.7}]  "
   ]
  },
  {
   "cell_type": "markdown",
   "metadata": {},
   "source": [
    "<h2 style='color:#5E7AFF;margin-bottom:16px'>Formula <span style='color:orange'>69</span></h2>\n",
    "<p style=\"color:brown;font-size:large\">ZTG, the ZetaTauGamma product is the reflected Zeta function.</p>"
   ]
  },
  {
   "cell_type": "code",
   "execution_count": null,
   "metadata": {},
   "outputs": [],
   "source": [
    "ZTG[s_] := Zeta[s] Tau[s] Gamma[s];\n",
    "Plot[{ZTG[s], Zeta[1 - s]}, {s, -1, 3}, PlotTheme -> {\"Thick\", \"DashedLines\"},\n",
    "PlotLegends -> Placed[\"Expressions\", {Scaled[{0.9, 0.9}], {0.9, 0.9}}]]  "
   ]
  },
  {
   "cell_type": "markdown",
   "metadata": {},
   "source": [
    "<h2 style='color:#5E7AFF;margin-bottom:16px'>Formula <span style='color:orange'>70</span></h2>\n",
    "<p style=\"color:brown;font-size:large\">ZTF, the -ZetaTauFactorial product is (a representation of) the Bernoulli function.</p>"
   ]
  },
  {
   "cell_type": "code",
   "execution_count": null,
   "metadata": {},
   "outputs": [],
   "source": [
    "ZTF[s_] := -Zeta[s] Tau[s] Factorial[s];\n",
    "Plot[{ZTF[s], B[s]}, {s, -1, 3}, PlotTheme -> {\"Thick\", \"DashedLines\"},\n",
    "PlotLegends -> Placed[\"Expressions\", {Scaled[{0.9, 0.8}], {0.9, 0.8}}]]  "
   ]
  },
  {
   "cell_type": "code",
   "execution_count": null,
   "metadata": {
    "scrolled": false
   },
   "outputs": [],
   "source": [
    "Plot[{-Zeta[s], \\[Tau][s], Factorial[s]}, {s, -1/2, 3}, \n",
    "PlotTheme -> {\"Thick\", \"DashedLines\"}, PlotRange -> {-9/2, 13/2},\n",
    "PlotLegends -> Placed[\"Expressions\", {Scaled[{0.25, 0.01}], {0.25, 0.01}}]]  \n",
    "(* Export[\"Fig36RiemannDecomposition.eps\", %] *)"
   ]
  },
  {
   "cell_type": "markdown",
   "metadata": {},
   "source": [
    "<h2 style='color:#5E7AFF;margin-bottom:16px'>Formula <span style='color:orange'>71</span></h2>\n",
    "<p style=\"color:brown;font-size:large\">The functional equation of the Bernoulli function.</p>"
   ]
  },
  {
   "cell_type": "code",
   "execution_count": null,
   "metadata": {},
   "outputs": [],
   "source": [
    "Bfeq[s_] := Tau[s] Factorial[s] B[1 - s] / (1 - s);\n",
    "Plot[{B[s], Bfeq[s]}, {s, -1, 3}, PlotTheme -> {\"Thick\", \"DashedLines\"},\n",
    "PlotLegends -> Placed[\"Expressions\", {Scaled[{0.9, 0.8}], {0.9, 0.8}}]]  "
   ]
  },
  {
   "cell_type": "markdown",
   "metadata": {},
   "source": [
    "<h2 style='color:#5E7AFF;margin-bottom:16px'>Formula <span style='color:orange'>72</span></h2>\n",
    "<p style=\"color:brown;font-size:large\">The symmetric functional equation.</p>"
   ]
  },
  {
   "cell_type": "code",
   "execution_count": null,
   "metadata": {},
   "outputs": [],
   "source": [
    "Bsfl[s_] := B[1 - s] (s/2)! / Pi^(s/2);\n",
    "Bsfr[s_] := B[s] ((1 - s)/2)! / Pi^((1 - s)/2);\n",
    "\n",
    "Clear[s]; Bsfl[s] // FullSimplify // TeXForm\n",
    "Clear[s]; Bsfr[s] // FullSimplify // TeXForm"
   ]
  },
  {
   "cell_type": "code",
   "execution_count": null,
   "metadata": {},
   "outputs": [],
   "source": [
    "ReImPlot[{Bsfr[s] - Bsfl[s]}, {s, -1, 4}, WorkingPrecision -> 30,\n",
    "PlotLegends -> Placed[\"Expressions\", {Scaled[{0.5, 0.2}], {0.5, 0.2}}]] "
   ]
  },
  {
   "cell_type": "markdown",
   "metadata": {},
   "source": [
    "<h1 style=\"color:#CD5C5C;background:white; line-height: 150%;\n",
    "border-top: thick solid #CD5C5C; float: left; width: 100%;margin-top: 1em;\">\n",
    "Representation by the Riemann xi function\n",
    "</h1>"
   ]
  },
  {
   "cell_type": "markdown",
   "metadata": {},
   "source": [
    "<h2 style='color:#5E7AFF;margin-bottom:16px'>Formula <span style='color:orange'>73</span></h2>\n",
    "<p style=\"color:brown;font-size:large\">The Riemann xi (lower case) function, as defined by Landau and, to add to the confusion denoted by Mathematica as RiemannXi, although it is not the Riemann Xi (upper case) function, as defined\n",
    "by Landau with upper case and denoted by Riemann with xi (lower case).</p>"
   ]
  },
  {
   "cell_type": "code",
   "execution_count": null,
   "metadata": {},
   "outputs": [],
   "source": [
    "xi[s_] := (s/2)! Pi^(-s/2) (s - 1) Zeta[s];\n",
    "xi[s]\n",
    "\n",
    "FullSimplify[RiemannXi[u] - xi[u]] // TeXForm"
   ]
  },
  {
   "cell_type": "markdown",
   "metadata": {},
   "source": [
    "<h2 style='color:#5E7AFF;margin-bottom:16px'>Formula <span style='color:orange'>74</span></h2>\n",
    "<p style=\"color:brown;font-size:large\">The Bernoulli function in terms of the Riemann xi function.</p>"
   ]
  },
  {
   "cell_type": "code",
   "execution_count": null,
   "metadata": {},
   "outputs": [],
   "source": [
    "Bxi[s_] := If[n == 1, 1/2, (Pi^((1 - s) / 2) / ((1 - s) / 2)!) xi[s]];\n",
    "Clear[s, v, n]; Bxi[s] // FullSimplify // TeXForm"
   ]
  },
  {
   "cell_type": "code",
   "execution_count": null,
   "metadata": {},
   "outputs": [],
   "source": [
    "Table[Bxi[n], {n, 0, 8}] // N\n",
    "Table[B[n],   {n, 0, 8}] // N"
   ]
  },
  {
   "cell_type": "markdown",
   "metadata": {},
   "source": [
    "<h2 style='color:#5E7AFF;margin-bottom:16px'>Formula <span style='color:orange'>75</span></h2>\n",
    "<p style=\"color:brown;font-size:large\">The Bernoulli function in terms of the Riemann xi function.</p>"
   ]
  },
  {
   "cell_type": "code",
   "execution_count": null,
   "metadata": {},
   "outputs": [],
   "source": [
    "Bxiref[s_] := (Pi^(s/2) / (s/2)!) RiemannXi[s];"
   ]
  },
  {
   "cell_type": "code",
   "execution_count": null,
   "metadata": {},
   "outputs": [],
   "source": [
    "Table[Bxiref[n], {n, 0, 8}] // N\n",
    "Table[B[1 - n], {n, 0, 8}] // N"
   ]
  },
  {
   "cell_type": "markdown",
   "metadata": {},
   "source": [
    "<h2 style='color:#5E7AFF;margin-bottom:16px'>Formula <span style='color:orange'>76</span></h2>\n",
    "<p style=\"color:brown;font-size:large\">The Basel problem. The solution is: The Bernoulli function at s = -1.</p>"
   ]
  },
  {
   "cell_type": "code",
   "execution_count": null,
   "metadata": {},
   "outputs": [],
   "source": [
    "{B[-1], Pi RiemannXi[-1], Pi RiemannXi[2]} // TeXForm"
   ]
  },
  {
   "cell_type": "markdown",
   "metadata": {},
   "source": [
    "<h1 style=\"color:#CD5C5C;background:white; line-height: 150%;\n",
    "border-top: thick solid #CD5C5C; float: left; width: 100%;margin-top: 1em;\">\n",
    "The Hadamar decomposition\n",
    "</h1>"
   ]
  },
  {
   "cell_type": "markdown",
   "metadata": {},
   "source": [
    "<h2 style='color:#5E7AFF;margin-bottom:16px'>Formula <span style='color:orange'>77 & 78</span></h2>\n",
    "<p style=\"color:brown;font-size:large\">Hadamard's infinite product expansion of the zeta function.</p>"
   ]
  },
  {
   "cell_type": "code",
   "execution_count": null,
   "metadata": {},
   "outputs": [],
   "source": [
    "H[s_] := Zeta[s] (s - 1) (s/2)! / Pi^(s/2);\n",
    "H[1] := 1/2;\n",
    "Clear[s]; H[s] // FullSimplify // TeXForm\n",
    "\n",
    "h[s_] := With[{sigma = (1 - s)/2}, Pi^sigma / sigma!];\n",
    "Clear[s]; h[s] // FullSimplify // TeXForm"
   ]
  },
  {
   "cell_type": "markdown",
   "metadata": {},
   "source": [
    "<h2 style='color:#5E7AFF;margin-bottom:16px'>Formula <span style='color:orange'>79</span></h2>\n",
    "<p style=\"color:brown;font-size:large\">Hadamard decomposition of the Bernoulli function. </p>"
   ]
  },
  {
   "cell_type": "code",
   "execution_count": null,
   "metadata": {},
   "outputs": [],
   "source": [
    "Plot[{H[s] h[s], B[s], RiemannXi[s] h[s] }, {s, 0, 8},  \n",
    "PlotLegends -> Placed[\"Expressions\", {Scaled[{0.9, 0.8}], {0.9, 0.8}}]]  "
   ]
  },
  {
   "cell_type": "markdown",
   "metadata": {},
   "source": [
    "<h2 style='color:#5E7AFF;margin-bottom:16px'>Formula <span style='color:orange'>80</span></h2>\n",
    "<p style=\"color:brown;font-size:large\">Jensen's formula for the Hadamard product and the Riemann xi function.</p>"
   ]
  },
  {
   "cell_type": "code",
   "execution_count": null,
   "metadata": {},
   "outputs": [],
   "source": [
    "Clear[a, b]\n",
    "JensenInt[s_, a_, b_] := 2 (s/2)! Pi^(1 - s/2) NIntegrate[Re[(1/2 + I x)^(1 - s) / \n",
    "         (Exp[Pi x] + Exp[-Pi x])^2], {x, a, b}]; \n",
    "         \n",
    "HoldForm[2 (s/2)! Pi^(1 - s/2) Integrate[Re[(1/2 + I x)^(1 - s)\n",
    "         / (Exp[Pi x] + Exp[-Pi x])^2], {x, -Infinity, Infinity}]] // TeXForm       "
   ]
  },
  {
   "cell_type": "code",
   "execution_count": null,
   "metadata": {},
   "outputs": [],
   "source": [
    "(* The splitting helps to evaluate the integral numerically. *)\n",
    "\n",
    "HJ[s_] := JensenInt[s, -Infinity, 1] + JensenInt[s, 1, Infinity];          \n",
    "\n",
    "Table[HJ[s], {s, 1, 4}]\n",
    "Table[H[s], {s, 1, 4}] // N\n",
    "Table[RiemannXi[s], {s, 1, 4}] // N"
   ]
  },
  {
   "cell_type": "code",
   "execution_count": null,
   "metadata": {},
   "outputs": [],
   "source": [
    "ComplexExpand[Re[(1/2 + I z)^(1 - s)/(E^(-(Pi z)) + E^(Pi z))^2]]"
   ]
  },
  {
   "cell_type": "markdown",
   "metadata": {},
   "source": [
    "<h1 style=\"color:#CD5C5C;background:white; line-height: 150%;\n",
    "border-top: thick solid #CD5C5C; float: left; width: 100%;margin-top: 1em;\">\n",
    "The generalized Euler function\n",
    "</h1>"
   ]
  },
  {
   "cell_type": "markdown",
   "metadata": {},
   "source": [
    "<h2 style='color:#5E7AFF;margin-bottom:16px'>Formula <span style='color:orange'>81</span></h2>\n",
    "<p style=\"color:brown;font-size:large\">Generalized Euler function.</p>"
   ]
  },
  {
   "cell_type": "code",
   "execution_count": null,
   "metadata": {},
   "outputs": [],
   "source": [
    "Eg[s_, v_] := -Gg[s + 1, v] / (s + 1); \n",
    "Eg[-1, v_] := Log[4]; \n",
    "\n",
    "Clear[s, v]; Eg[s, v] // FullSimplify // TeXForm"
   ]
  },
  {
   "cell_type": "markdown",
   "metadata": {},
   "source": [
    "<p style=\"color:brown;font-size:large\">Test (see also A002425).</p>"
   ]
  },
  {
   "cell_type": "code",
   "execution_count": null,
   "metadata": {},
   "outputs": [],
   "source": [
    "Table[Eg[n, 1], {n, 0, 13}] // SeqGrid\n",
    "Table[2^n Eg[n, 1], {n, 0, 11}] // SeqGrid"
   ]
  },
  {
   "cell_type": "markdown",
   "metadata": {},
   "source": [
    "<h2 style='color:#5E7AFF;margin-bottom:16px'>Euler polynomials</h2>"
   ]
  },
  {
   "cell_type": "code",
   "execution_count": null,
   "metadata": {},
   "outputs": [],
   "source": [
    "V := Table[Expand[FullSimplify[Eg[n, x]]], {n, 1, 6}]\n",
    "W := Table[EulerE[n, x], {n, 1, 6}]\n",
    "Grid[{V, W}, Frame -> All]"
   ]
  },
  {
   "cell_type": "code",
   "execution_count": null,
   "metadata": {},
   "outputs": [],
   "source": [
    "Plot[V, {x, -1, 3/2}, PlotRange -> {-1, 1/2}]"
   ]
  },
  {
   "cell_type": "markdown",
   "metadata": {},
   "source": [
    "<h1 style=\"color:#CD5C5C;background:white; line-height: 150%;\n",
    "border-top: thick solid #CD5C5C; float: left; width: 100%;margin-top: 1em;\">\n",
    "The Euler tangent function</h1>"
   ]
  },
  {
   "cell_type": "markdown",
   "metadata": {},
   "source": [
    "<h2 style='color:#5E7AFF;margin-bottom:16px'>Formula <span style='color:orange'>82</span></h2>\n",
    "<p style=\"color:brown;font-size:large\">Euler tangent function, definition.</p>"
   ]
  },
  {
   "cell_type": "code",
   "execution_count": null,
   "metadata": {},
   "outputs": [],
   "source": [
    "Et[s_] := 2^s Eg[s, 1];\n",
    "Et[-1] := Log[2];\n",
    "\n",
    "Clear[s]; Et[s] // FullSimplify // TeXForm"
   ]
  },
  {
   "cell_type": "code",
   "execution_count": null,
   "metadata": {},
   "outputs": [],
   "source": [
    "ReImPlot[Et[s], {s, -1, 6}, PlotRange -> {-3, 23}, \n",
    "PlotLegends -> Placed[\"Expressions\", {Scaled[{0.3, 0.8}], {0.3, 0.8}}]] "
   ]
  },
  {
   "cell_type": "markdown",
   "metadata": {},
   "source": [
    "<h2 style='color:#5E7AFF;margin-bottom:16px'>Formula <span style='color:orange'>82a</span></h2>\n",
    "<p style=\"color:brown;font-size:large\">Euler tangent function, via polylogarithm.</p>"
   ]
  },
  {
   "cell_type": "code",
   "execution_count": null,
   "metadata": {},
   "outputs": [],
   "source": [
    "EtLi[s_] := -2 Re[PolyLog[-s, I]];\n",
    "\n",
    "Clear[s]; EtLi[s] // FullSimplify // TeXForm"
   ]
  },
  {
   "cell_type": "markdown",
   "metadata": {},
   "source": [
    "<p style=\"color:brown;font-size:large\">Test (Note that -2 Re[-Log[1 - I]] = Log[2]).</p>"
   ]
  },
  {
   "cell_type": "code",
   "execution_count": null,
   "metadata": {},
   "outputs": [],
   "source": [
    "Table[EtLi[n], {n, 0, 11}] "
   ]
  },
  {
   "cell_type": "code",
   "execution_count": null,
   "metadata": {},
   "outputs": [],
   "source": [
    "(* Plot[EtLi[s], {s, -1, 6}, PlotRange -> {-3, 23}] *)"
   ]
  },
  {
   "cell_type": "markdown",
   "metadata": {},
   "source": [
    "<h2 style='color:#5E7AFF;margin-bottom:16px'>Formula <span style='color:orange'>83</span></h2>\n",
    "<p style=\"color:brown;font-size:large\">A155585</p>"
   ]
  },
  {
   "cell_type": "code",
   "execution_count": null,
   "metadata": {},
   "outputs": [],
   "source": [
    "Table[Et[n], {n, 0, 11}]"
   ]
  },
  {
   "cell_type": "markdown",
   "metadata": {},
   "source": [
    "<h2 style='color:#5E7AFF;margin-bottom:16px'>Formula <span style='color:orange'>84</span></h2>\n",
    "<p style=\"color:brown;font-size:large\">Euler tangent function, via Bernoulli function.</p>"
   ]
  },
  {
   "cell_type": "code",
   "execution_count": null,
   "metadata": {},
   "outputs": [],
   "source": [
    "EtB[s_] := B[s + 1] (4^(s + 1) - 2^(s + 1)) / (s + 1);\n",
    "EtB[-1] := Log[2]; \n",
    "           \n",
    "Clear[s]; EtB[s] // FullSimplify // TeXForm"
   ]
  },
  {
   "cell_type": "code",
   "execution_count": null,
   "metadata": {},
   "outputs": [],
   "source": [
    "Table[2^n Eg[n, 1], {n, 0, 11}]\n",
    "Table[Et[n], {n, 0, 11}]\n",
    "Table[EtB[n], {n, 0, 11}]"
   ]
  },
  {
   "cell_type": "code",
   "execution_count": null,
   "metadata": {},
   "outputs": [],
   "source": [
    "(* Plot[EtB[s], {s, -1, 6}, PlotRange -> {-3, 23}] *)"
   ]
  },
  {
   "cell_type": "markdown",
   "metadata": {},
   "source": [
    "<h2 style='color:#5E7AFF;margin-bottom:16px'>Formula <span style='color:orange'>85</span></h2>\n",
    "<p style=\"color:brown;font-size:large\">Connection to the <i>Eulerian</i> numbers, A173018.</p>"
   ]
  },
  {
   "cell_type": "code",
   "execution_count": null,
   "metadata": {},
   "outputs": [],
   "source": [
    "EulerA[n_ /; n >= 0, 0] = 1; EulerA[n_, k_] /; k < 0 || k > n = 0;\n",
    "EulerA[n_, k_] := EulerA[n, k] = (n-k)*EulerA[n-1, k-1] + (k+1)*EulerA[n-1, k]; \n",
    "Table[EulerA[n, k], {n, 0, 7}, {k, 0, n}] // TableForm"
   ]
  },
  {
   "cell_type": "markdown",
   "metadata": {},
   "source": [
    "<h2 style='color:#5E7AFF;margin-bottom:16px'>Formula <span style='color:orange'>86</span></h2>\n",
    "<p style=\"color:brown;font-size:large\">$ 2^n E_n(1) = A_n(-1)$ </p>"
   ]
  },
  {
   "cell_type": "code",
   "execution_count": null,
   "metadata": {},
   "outputs": [],
   "source": [
    "EulerApoly[n_] := Sum[EulerA[n, k] x^k, {k, 0, n}];\n",
    "Table[EulerApoly[n] /. x -> -1, {n, 0, 9}]"
   ]
  },
  {
   "cell_type": "markdown",
   "metadata": {},
   "source": [
    "<h2 style='color:#5E7AFF;margin-bottom:16px'>Formula <span style='color:orange'>87</span></h2>\n",
    "<p style=\"color:brown;font-size:large\">Stirling-Fubini type polynomials.</p>"
   ]
  },
  {
   "cell_type": "code",
   "execution_count": null,
   "metadata": {},
   "outputs": [],
   "source": [
    "sf[n_] := Sum[(-2)^(n - k) StirlingS2[n, k] k! x^k, {k, 0, n}];"
   ]
  },
  {
   "cell_type": "code",
   "execution_count": null,
   "metadata": {},
   "outputs": [],
   "source": [
    "Table[sf[n] /. x -> 1, {n, 0, 9}]"
   ]
  },
  {
   "cell_type": "markdown",
   "metadata": {},
   "source": [
    "<p style=\"color:brown;font-size:large\">A122704</p>"
   ]
  },
  {
   "cell_type": "code",
   "execution_count": null,
   "metadata": {},
   "outputs": [],
   "source": [
    "Table[(-1)^n sf[n] /. x -> -1, {n, 0, 9}]"
   ]
  },
  {
   "cell_type": "code",
   "execution_count": null,
   "metadata": {},
   "outputs": [],
   "source": [
    "A122704[n_] := (-2)^(n + 1) PolyLog[-n, 3] / 3;\n",
    "Table[A122704[n], {n, 0, 9}]"
   ]
  },
  {
   "cell_type": "markdown",
   "metadata": {},
   "source": [
    "<h1 style=\"color:#CD5C5C;background:white; line-height: 150%;\n",
    "border-top: thick solid #CD5C5C; float: left; width: 100%;margin-top: 1em;\">\n",
    "The Euler secant function</h1>"
   ]
  },
  {
   "cell_type": "markdown",
   "metadata": {},
   "source": [
    "<h2 style='color:#5E7AFF;margin-bottom:16px'>Formula <span style='color:orange'>88</span></h2>\n",
    "<p style=\"color:brown;font-size:large\">Euler secant function, definition.</p>"
   ]
  },
  {
   "cell_type": "code",
   "execution_count": null,
   "metadata": {},
   "outputs": [],
   "source": [
    "Es[s_] := If[1 + s == 0, Pi/2, 2^s Eg[s, 1/2]];\n",
    "\n",
    "Clear[s]; Es[s] // FullSimplify // TeXForm"
   ]
  },
  {
   "cell_type": "markdown",
   "metadata": {},
   "source": [
    "<p style=\"color:brown;font-size:large\">Fake traditional notation since 'E' is protected.</p>"
   ]
  },
  {
   "cell_type": "code",
   "execution_count": null,
   "metadata": {},
   "outputs": [],
   "source": [
    "\\[CapitalEpsilon][s_] := Es[s];"
   ]
  },
  {
   "cell_type": "code",
   "execution_count": null,
   "metadata": {},
   "outputs": [],
   "source": [
    "ReImPlot[Es[s], {s, -1, 6}, PlotRange -> {-3/2, 13/2},\n",
    "PlotLegends -> Placed[\"Expressions\", {Scaled[{0.3, 0.8}], {0.3, 0.8}}]]"
   ]
  },
  {
   "cell_type": "markdown",
   "metadata": {},
   "source": [
    "<h2 style='color:#5E7AFF;margin-bottom:16px'>Formula <span style='color:orange'>89</span></h2>\n",
    "<p style=\"color:brown;font-size:large\">Euler (secant) numbers.</p>"
   ]
  },
  {
   "cell_type": "code",
   "execution_count": null,
   "metadata": {},
   "outputs": [],
   "source": [
    "Table[FullSimplify[Es[n]], {n, 0, 12}] // SeqGrid"
   ]
  },
  {
   "cell_type": "code",
   "execution_count": null,
   "metadata": {},
   "outputs": [],
   "source": [
    "Table[FullSimplify[AbsEs[n]], {n, 0, 12}] // SeqGrid"
   ]
  },
  {
   "cell_type": "markdown",
   "metadata": {},
   "source": [
    "<h2 style='color:#5E7AFF;margin-bottom:16px'>Formula <span style='color:orange'>90</span></h2>\n",
    "<p style=\"color:brown;font-size:large\">Euler secant function, via generalized Bernoulli.</p>"
   ]
  },
  {
   "cell_type": "code",
   "execution_count": null,
   "metadata": {},
   "outputs": [],
   "source": [
    "EsB1[s_] := 2 * 4^s (Bg[s + 1, 3/4] - Bg[s + 1, 1/4]) / (s + 1);\n",
    "EsB1[-1] := Pi / 2; \n",
    "           \n",
    "Clear[s]; EsB1[s] // FullSimplify // TeXForm"
   ]
  },
  {
   "cell_type": "code",
   "execution_count": null,
   "metadata": {},
   "outputs": [],
   "source": [
    "EsB[s_] := (2^(s + 1) Bg[s + 1, 1/2] - 4^(s + 1) Bg[s + 1, 1/4]) / (s + 1);\n",
    "EsB[-1] := Pi / 2; \n",
    "           \n",
    "Clear[s]; EsB[s] // FullSimplify // TeXForm"
   ]
  },
  {
   "cell_type": "code",
   "execution_count": null,
   "metadata": {},
   "outputs": [],
   "source": [
    "Table[FullSimplify[EsB[n]],  {n, 0, 12}] \n",
    "Table[FullSimplify[EsB1[n]], {n, 0, 12}] "
   ]
  },
  {
   "cell_type": "code",
   "execution_count": null,
   "metadata": {},
   "outputs": [],
   "source": [
    "Clear[s]; FullSimplify[EsB[s] - EsB1[s]]"
   ]
  },
  {
   "cell_type": "code",
   "execution_count": null,
   "metadata": {},
   "outputs": [],
   "source": [
    "Plot[{EsB[s], EsB1[s]}, {s, -1, 6}, PlotRange -> {-3/2, 13/2},\n",
    "PlotTheme -> {\"Thick\", \"DashedLines\"},\n",
    "PlotLegends -> Placed[\"Expressions\", {Scaled[{0.3, 0.8}], {0.3, 0.8}}]] "
   ]
  },
  {
   "cell_type": "markdown",
   "metadata": {},
   "source": [
    "<h2 style='color:#5E7AFF;margin-bottom:16px'>Formula <span style='color:orange'>90a</span></h2>\n",
    "<p style=\"color:brown;font-size:large\">Euler secant function, via polylogarithm.</p>"
   ]
  },
  {
   "cell_type": "code",
   "execution_count": null,
   "metadata": {},
   "outputs": [],
   "source": [
    "EsLi[s_] := 2 Im[PolyLog[-s, I]];\n",
    "Clear[s]; EsLi[s] // FullSimplify // TeXForm"
   ]
  },
  {
   "cell_type": "code",
   "execution_count": null,
   "metadata": {},
   "outputs": [],
   "source": [
    "Table[EsLi[n], {n, 0, 10}]   (* 2 Im[-Log[1-I]] = Pi/2 *)"
   ]
  },
  {
   "cell_type": "code",
   "execution_count": null,
   "metadata": {},
   "outputs": [],
   "source": [
    "(* Plot[EsLi[s], {s, -1, 6}, PlotRange -> {-3/2, 13/2}] *)"
   ]
  },
  {
   "cell_type": "code",
   "execution_count": null,
   "metadata": {},
   "outputs": [],
   "source": [
    "atext := MaTeX[\"E_{\\\\tau}(s)\"];\n",
    "btext := MaTeX[\"E_{\\\\sigma}(s)\"];\n",
    "\n",
    "Etan[s_] := Et[s];\n",
    "Esec[s_] := Es[s];\n",
    "Plot[{Etan[s], Esec[s]}, {s, -1, 6}, PlotRange -> {-9, 23}, \n",
    "Filling -> {1 -> {2}}, WorkingPrecision -> 60,\n",
    "PlotLegends -> Placed[{atext, btext}, {0.35, 0.8}]]  \n",
    "(* Export[\"Fig23EulerTanSec.eps\", %] *)"
   ]
  },
  {
   "cell_type": "markdown",
   "metadata": {},
   "source": [
    "<h2 style='color:#5E7AFF;margin-bottom:16px'>Formula <span style='color:orange'>91</span></h2>\n",
    "<p style=\"color:brown;font-size:large\">Even indexed classical Euler numbers  via an Jensen integral.</p>"
   ]
  },
  {
   "cell_type": "code",
   "execution_count": null,
   "metadata": {},
   "outputs": [],
   "source": [
    "EInt[s0_, z0_, prec_] := Module[{s, z}, \n",
    "   {s, z} = SetPrecision[{s0, z0}, prec $MachinePrecision];\n",
    "   Block[{$MinPrecision = prec $MachinePrecision, \n",
    "   $MaxPrecision = prec $MachinePrecision},\n",
    "   ((4 z I + 1)^(s + 1) - (4 z I - 1)^(s + 1))/(Exp[-Pi z] + Exp[Pi z])^2]];\n",
    "       \n",
    "JEInt[s0_, prec_] := Module[{s}, \n",
    "   {s} = SetPrecision[{s0}, prec $MachinePrecision];\n",
    "   ((2 Pi ) / (s + 1)) \n",
    "   NIntegrate[EInt[s, z, prec], {z, 0, Infinity}, \n",
    "   WorkingPrecision -> prec $MachinePrecision ]];"
   ]
  },
  {
   "cell_type": "markdown",
   "metadata": {},
   "source": [
    "<p style=\"color:brown;font-size:large\">A346838</p>"
   ]
  },
  {
   "cell_type": "code",
   "execution_count": null,
   "metadata": {},
   "outputs": [],
   "source": [
    "Table[JEInt[2 n, 2], {n, 0, 6}] // Chop "
   ]
  },
  {
   "cell_type": "markdown",
   "metadata": {},
   "source": [
    "<h1 style=\"color:#CD5C5C;background:white; line-height: 150%;\n",
    "border-top: thick solid #CD5C5C; float: left; width: 100%;margin-top: 1em;\">\n",
    "Euler Zeta numbers</h1>"
   ]
  },
  {
   "cell_type": "markdown",
   "metadata": {},
   "source": [
    "<h2 style='color:#5E7AFF;margin-bottom:16px'>Formula <span style='color:orange'>92</span></h2>\n",
    "<p style=\"color:brown;font-size:large\">Euler Zeta numbers.</p>"
   ]
  },
  {
   "cell_type": "code",
   "execution_count": null,
   "metadata": {},
   "outputs": [],
   "source": [
    "{1, 1, 1/2, 1/3, 5/24, 2/15, 61/720, 17/315, 277/8064, 62/2835} // TeXForm"
   ]
  },
  {
   "cell_type": "markdown",
   "metadata": {},
   "source": [
    "<h1 style=\"color:#CD5C5C;background:white; line-height: 150%;\n",
    "border-top: thick solid #CD5C5C; float: left; width: 100%;margin-top: 1em;\">\n",
    "The Bernoulli secant function</h1>"
   ]
  },
  {
   "cell_type": "markdown",
   "metadata": {},
   "source": [
    "<h2 style='color:#5E7AFF;margin-bottom:16px'>Formula <span style='color:orange'>93</span></h2>\n",
    "<p style=\"color:brown;font-size:large\">The Bernoulli secant function.</p>"
   ]
  },
  {
   "cell_type": "code",
   "execution_count": null,
   "metadata": {},
   "outputs": [],
   "source": [
    "Bsec[s_] := (2^(s - 1) / (2^s - 1))(Bg[s, 3/4] - Bg[s, 1/4]);\n",
    "\n",
    "Clear[s]; Bsec[s] // FullSimplify // TeXForm   "
   ]
  },
  {
   "cell_type": "markdown",
   "metadata": {},
   "source": [
    "<h2 style='color:#5E7AFF;margin-bottom:16px'>Formula <span style='color:orange'>94</span></h2>\n",
    "<p style=\"color:brown;font-size:large\">A160143, A193476</p>"
   ]
  },
  {
   "cell_type": "code",
   "execution_count": null,
   "metadata": {},
   "outputs": [],
   "source": [
    "Table[FullSimplify[Bsec[n]], {n, 1, 10}]\n",
    "%  // Numerator   \n",
    "%% // Denominator "
   ]
  },
  {
   "cell_type": "code",
   "execution_count": null,
   "metadata": {},
   "outputs": [],
   "source": [
    "atext := MaTeX[\"B_{\\\\tau}(s)\"];\n",
    "btext := MaTeX[\"B_{\\\\sigma}(s)\"];\n",
    "Btan[s_] := B[s];\n",
    "Plot[{Btan[s], Bsec[s]}, {s, 1, 8}, \n",
    "PlotRange -> {-0.1, 1/2},  WorkingPrecision -> 50, Filling -> {1 -> {2}},\n",
    "PlotLegends -> Placed[{atext, btext}, {0.8, 0.6}] ]  \n",
    "(* Export[\"Fig24BernoulliTanSec.eps\", %] *)"
   ]
  },
  {
   "cell_type": "markdown",
   "metadata": {},
   "source": [
    "<h2 style='color:#5E7AFF;margin-bottom:16px'>Formula <span style='color:orange'>95</span></h2>\n",
    "<p style=\"color:brown;font-size:large\">The Bernoulli secant numbers represented by the Euler secant numbers.</p>"
   ]
  },
  {
   "cell_type": "code",
   "execution_count": null,
   "metadata": {},
   "outputs": [],
   "source": [
    "BsecE[n_] := (-1)^(n - 1) (n / (4^n - 2^n)) Es[n - 1]; \n",
    "\n",
    "Clear[n]; BsecE[n] // FullSimplify // TeXForm"
   ]
  },
  {
   "cell_type": "code",
   "execution_count": null,
   "metadata": {},
   "outputs": [],
   "source": [
    "Table[FullSimplify[BsecE[n]], {n, 1, 11}] // TeXForm"
   ]
  },
  {
   "cell_type": "markdown",
   "metadata": {},
   "source": [
    "<h2 style='color:#5E7AFF;margin-bottom:16px'>Formula <span style='color:orange'>96</span></h2>\n",
    "<p style=\"color:brown;font-size:large\">The Bernoulli secant function via the polylogarithm.</p>"
   ]
  },
  {
   "cell_type": "code",
   "execution_count": null,
   "metadata": {},
   "outputs": [],
   "source": [
    "BsecP[s_] := ((2 s) / (4^s - 2^s)) Im[PolyLog[1 - s, I]];\n",
    "BsecP[0] := (2 Pi) / Log[16];\n",
    "\n",
    "Clear[n]; BsecP[s] // FullSimplify // TeXForm"
   ]
  },
  {
   "cell_type": "code",
   "execution_count": null,
   "metadata": {},
   "outputs": [],
   "source": [
    "Table[FullSimplify[BsecP[n]], {n, 1, 11}] // TeXForm"
   ]
  },
  {
   "cell_type": "code",
   "execution_count": null,
   "metadata": {},
   "outputs": [],
   "source": [
    "Plot[{BsecP[s], Bsec[s]}, {s, -1, 6}, \n",
    "PlotTheme -> {\"Thick\", \"DashedLines\"}, WorkingPrecision -> 30, \n",
    "PlotLegends -> Placed[\"Expressions\", {Scaled[{0.9, 0.9}], {0.9, 0.9}}]]  "
   ]
  },
  {
   "cell_type": "markdown",
   "metadata": {},
   "source": [
    "<h1 style=\"color:#CD5C5C;background:white; line-height: 150%;\n",
    "border-top: thick solid #CD5C5C; float: left; width: 100%;margin-top: 1em;\">\n",
    "The extended Bernoulli function\n",
    "</h1>"
   ]
  },
  {
   "cell_type": "markdown",
   "metadata": {},
   "source": [
    "<h2 style='color:#5E7AFF;margin-bottom:16px'>Formula <span style='color:orange'>97</span></h2>\n",
    "<p style=\"color:brown;font-size:large\">Extended Zeta function.</p>"
   ]
  },
  {
   "cell_type": "code",
   "execution_count": null,
   "metadata": {},
   "outputs": [],
   "source": [
    "Zext[s_] := Zeta[s] - (Zeta[s, 3/4] - Zeta[s, 1/4]) / (2^s - 2);\n",
    "Zext[s] // TeXForm"
   ]
  },
  {
   "cell_type": "markdown",
   "metadata": {},
   "source": [
    "<h2 style='color:#5E7AFF;margin-bottom:16px'>Formula <span style='color:orange'>98</span></h2>\n",
    "<p style=\"color:brown;font-size:large\">Extended Bernoulli function, definition via generalized Zeta.</p>"
   ]
  },
  {
   "cell_type": "code",
   "execution_count": null,
   "metadata": {},
   "outputs": [],
   "source": [
    "Bext[s_] := -s Zext[1 - s];\n",
    "Bext[0] := 1 + Pi/Log[4];\n",
    "\n",
    "Clear[s]; Bext[s] // FullSimplify // TeXForm"
   ]
  },
  {
   "cell_type": "code",
   "execution_count": null,
   "metadata": {},
   "outputs": [],
   "source": [
    "(* N[Pi + PolyGamma[0, 1/4] - PolyGamma[0, 3/4], 20] *)\n",
    "Series[Bext[s], {s, 0, 7}] // Normal // N"
   ]
  },
  {
   "cell_type": "code",
   "execution_count": null,
   "metadata": {},
   "outputs": [],
   "source": [
    "CoefficientList[%, s] // SeqGrid"
   ]
  },
  {
   "cell_type": "markdown",
   "metadata": {},
   "source": [
    "<h2 style='color:#5E7AFF;margin-bottom:16px'>Formula <span style='color:orange'>99</span></h2>\n",
    "<p style=\"color:brown;font-size:large\">Extended Bernoulli function via generalized Bernoulli, B(s, v).</p>"
   ]
  },
  {
   "cell_type": "code",
   "execution_count": null,
   "metadata": {},
   "outputs": [],
   "source": [
    "BextB[s_] := B[s] + (2^(s - 1) / (2^s - 1))(Bg[s, 3/4] - Bg[s, 1/4]);\n",
    "BextB[0]  := 1 + Pi/Log[4]; \n",
    "\n",
    "Clear[s]; BextB[s] // FullSimplify // TeXForm   "
   ]
  },
  {
   "cell_type": "code",
   "execution_count": null,
   "metadata": {},
   "outputs": [],
   "source": [
    "Plot[{BextB[s], B[s]}, {s, 2, 8}, PlotRange -> {-0.1, 0.2},\n",
    "WorkingPrecision -> 40, Filling -> {1 -> {2}},\n",
    "PlotLegends -> Placed[\"Expressions\", {Scaled[{0.9, 0.9}], {0.9, 0.9}}]]  "
   ]
  },
  {
   "cell_type": "markdown",
   "metadata": {},
   "source": [
    "<h2 style='color:#5E7AFF;margin-bottom:16px'>Formula <span style='color:orange'>100</span></h2>\n",
    "<p style=\"color:brown;font-size:large\">The extended Bernoulli function is\n",
    "the sum of the Bernoulli function and the Bernoulli secant function.</p>"
   ]
  },
  {
   "cell_type": "code",
   "execution_count": null,
   "metadata": {},
   "outputs": [],
   "source": [
    "Clear[s]; Btan[s] + Bsec[s] // FullSimplify // TeXForm "
   ]
  },
  {
   "cell_type": "code",
   "execution_count": null,
   "metadata": {},
   "outputs": [],
   "source": [
    "Plot[{Bext[s], Btan[s], Bsec[s]}, {s, -1, 6}, \n",
    "PlotTheme -> {\"Thick\", \"DashedLines\"}, WorkingPrecision -> 30, \n",
    "PlotLegends -> Placed[\"Expressions\", {Scaled[{0.9, 0.9}], {0.9, 0.9}}]] "
   ]
  },
  {
   "cell_type": "code",
   "execution_count": null,
   "metadata": {},
   "outputs": [],
   "source": [
    "Plot[{Bext[s], Btan[s] + Bsec[s]}, {s, -1, 6}, \n",
    "PlotTheme -> {\"Thick\", \"DashedLines\"}, WorkingPrecision -> 30, \n",
    "PlotLegends -> Placed[\"Expressions\", {Scaled[{0.9, 0.9}], {0.9, 0.9}}]]  "
   ]
  },
  {
   "cell_type": "markdown",
   "metadata": {},
   "source": [
    "<h2 style='color:#5E7AFF;margin-bottom:16px'>Formula <span style='color:orange'>101</span></h2>\n",
    "<p style=\"color:brown;font-size:large\">The extended Bernoulli numbers are the values of the extended Bernoulli function for integers n &ge; 1.</p>"
   ]
  },
  {
   "cell_type": "code",
   "execution_count": null,
   "metadata": {},
   "outputs": [],
   "source": [
    "Bextn[n_] := FullSimplify[BextB[n]];"
   ]
  },
  {
   "cell_type": "code",
   "execution_count": null,
   "metadata": {},
   "outputs": [],
   "source": [
    "Table[Bextn[n], {n, 1, 10}]\n",
    "%  // Numerator   // Print\n",
    "%% // Denominator // Print"
   ]
  },
  {
   "cell_type": "markdown",
   "metadata": {},
   "source": [
    "<h1 style=\"color:#CD5C5C;background:white; line-height: 150%;\n",
    "border-top: thick solid #CD5C5C; float: left; width: 100%;margin-top: 1em;\">\n",
    "The extended Euler Function</h1>"
   ]
  },
  {
   "cell_type": "markdown",
   "metadata": {},
   "source": [
    "<h2 style='color:#5E7AFF;margin-bottom:16px'>Formula <span style='color:orange'>102</span></h2>\n",
    "<p style=\"color:brown;font-size:large\">Extended Euler function via extended Bernoulli.</p>"
   ]
  },
  {
   "cell_type": "code",
   "execution_count": null,
   "metadata": {},
   "outputs": [],
   "source": [
    "Eext[s_] := (4^(s + 1) - 2^(s + 1)) (Bext[s + 1] / (s + 1));\n",
    "Eext[-1] := Pi / 2 + Log[2];\n",
    "\n",
    "Clear[s]; Eext[s] // FullSimplify // TeXForm"
   ]
  },
  {
   "cell_type": "code",
   "execution_count": null,
   "metadata": {},
   "outputs": [],
   "source": [
    "Series[Eext[s], {s, 0, 7}] // Normal // N \n",
    "CoefficientList[%, s] // SeqGrid"
   ]
  },
  {
   "cell_type": "code",
   "execution_count": null,
   "metadata": {},
   "outputs": [],
   "source": [
    "Table[FullSimplify[Eext[n]], {n, 0, 12}]"
   ]
  },
  {
   "cell_type": "markdown",
   "metadata": {},
   "source": [
    "<h2 style='color:#5E7AFF;margin-bottom:16px'>Formula <span style='color:orange'>103</span></h2>\n",
    "<p style=\"color:brown;font-size:large\">Extended Euler function via extended Zeta.</p>"
   ]
  },
  {
   "cell_type": "code",
   "execution_count": null,
   "metadata": {},
   "outputs": [],
   "source": [
    "EextZ[s_] := Zext[-s] (2^(1+s) - 4^(1 + s));\n",
    "EextZ[-1] := Pi/2 + Log[2]; \n",
    "    \n",
    "Clear[s]; EextZ[s] // FullSimplify // TeXForm  "
   ]
  },
  {
   "cell_type": "markdown",
   "metadata": {},
   "source": [
    "<h2 style='color:#5E7AFF;margin-bottom:16px'>Formula <span style='color:orange'>104</span></h2>\n",
    "<p style=\"color:brown;font-size:large\">The extended Euler function is the sum\n",
    "of the Euler secant and the Euler tangent function.</p>"
   ]
  },
  {
   "cell_type": "code",
   "execution_count": null,
   "metadata": {},
   "outputs": [],
   "source": [
    "Est[s_] := Es[s] + Et[s];\n",
    "\n",
    "Clear[s]; Est[s] // FullSimplify // TeXForm"
   ]
  },
  {
   "cell_type": "code",
   "execution_count": null,
   "metadata": {},
   "outputs": [],
   "source": [
    "Plot[{Es[s] + Et[s], Eext[s]}, {s, -1, 6}, \n",
    "PlotRange -> {-9, 17}, PlotTheme -> {\"Thick\", \"DashedLines\"},\n",
    "PlotLegends -> Placed[\"Expressions\", {Scaled[{0.3, 0.9}], {0.3, 0.9}}]]  "
   ]
  },
  {
   "cell_type": "markdown",
   "metadata": {},
   "source": [
    "<p style=\"color:brown;font-size:large\">The scaled extended Euler function.</p>"
   ]
  },
  {
   "cell_type": "code",
   "execution_count": null,
   "metadata": {},
   "outputs": [],
   "source": [
    "Plot[Eext[s] / s!, {s, 6, 18}, WorkingPrecision -> 60 ]"
   ]
  },
  {
   "cell_type": "markdown",
   "metadata": {},
   "source": [
    "<h2 style='color:#5E7AFF;margin-bottom:16px'>Formula <span style='color:orange'>105</span></h2>\n",
    "<p style=\"color:brown;font-size:large\">See also OEIS A163982.</p>"
   ]
  },
  {
   "cell_type": "code",
   "execution_count": null,
   "metadata": {},
   "outputs": [],
   "source": [
    "Table[FullSimplify[Eext[n]], {n, 0, 11}]\n",
    "Table[FullSimplify[EextZ[n]], {n, 0, 11}]\n",
    "Table[FullSimplify[Est[n]], {n, 0, 11}] "
   ]
  },
  {
   "cell_type": "markdown",
   "metadata": {},
   "source": [
    "<h2 style='color:#5E7AFF;margin-bottom:16px'>Formula <span style='color:orange'>106</span></h2>\n",
    "<p style=\"color:brown;font-size:large\">Euler extended function via generalized Bernoulli.</p>"
   ]
  },
  {
   "cell_type": "code",
   "execution_count": null,
   "metadata": {},
   "outputs": [],
   "source": [
    "EextBg[-1] := Pi/2 + Log[2];\n",
    "EextBg[s_] := (((4^(s+1) - 2^(s+2) + 2) B[s + 1] \n",
    "               - 4^(s + 1) Bg[s + 1, 1/4]) / (s + 1));\n",
    "    \n",
    "Clear[s]; EextBg[s] // FullSimplify // TeXForm"
   ]
  },
  {
   "cell_type": "code",
   "execution_count": null,
   "metadata": {},
   "outputs": [],
   "source": [
    "Table[FullSimplify[EextBg[n]], {n, 0, 11}]"
   ]
  },
  {
   "cell_type": "code",
   "execution_count": null,
   "metadata": {},
   "outputs": [],
   "source": [
    "Plot[{EextBg[s], Eext[s]},{s, -1, 6}, PlotTheme -> {\"Thick\", \"DashedLines\"},\n",
    "PlotLegends -> Placed[\"Expressions\", {Scaled[{0.3, 0.9}], {0.3, 0.9}}]]  "
   ]
  },
  {
   "cell_type": "code",
   "execution_count": null,
   "metadata": {},
   "outputs": [],
   "source": [
    "Plot[{Esec[s], Etan[s], Eext[s]},{s, -1, 6}, PlotTheme -> {\"Thick\", \"DashedLines\"},\n",
    "WorkingPrecision -> 30, PlotRange -> {-10, 20},\n",
    "PlotLegends -> Placed[\"Expressions\", {Scaled[{0.3, 0.9}], {0.3, 0.9}}]]  "
   ]
  },
  {
   "cell_type": "markdown",
   "metadata": {},
   "source": [
    "<h2 style='color:#5E7AFF;margin-bottom:16px'>Formula <span style='color:orange'>107</span></h2>\n",
    "<p style=\"color:brown;font-size:large\">Jensen integral representation of the extended Euler numbers.<br>The polynomials are the numerators in the integral. See A342317</p>"
   ]
  },
  {
   "cell_type": "code",
   "execution_count": null,
   "metadata": {},
   "outputs": [],
   "source": [
    "Ef[s0_, z0_, prec_] := Module[{s, z}, \n",
    "   {s, z} = SetPrecision[{s0, z0}, prec $MachinePrecision];\n",
    "   Block[{$MinPrecision = prec $MachinePrecision, \n",
    "   $MaxPrecision = prec $MachinePrecision},\n",
    "   (((1 + 4 z I)^(s + 1) + (1 - 2^(-2 s - 1))(2 + 4 z I)^(s + 1))\n",
    "     / (Exp[-Pi z] + Exp[Pi z])^2 )]];\n",
    "\n",
    "JEfIntegral[s0_, prec_] := Module[{s}, \n",
    "     {s} = SetPrecision[{s0}, prec $MachinePrecision];\n",
    "     ((2 Pi) / (s + 1)) NIntegrate[Ef[s, z, prec], {z, -Infinity, Infinity},\n",
    "     WorkingPrecision -> prec $MachinePrecision ]];"
   ]
  },
  {
   "cell_type": "code",
   "execution_count": null,
   "metadata": {
    "scrolled": false
   },
   "outputs": [],
   "source": [
    "Table[Round[JEfIntegral[n, 2]], {n, 0, 12}] "
   ]
  },
  {
   "cell_type": "code",
   "execution_count": null,
   "metadata": {},
   "outputs": [],
   "source": [
    "Plot[{JEfIntegral[s, 1], Eext[s]}, {s, -1, 6}, \n",
    "PlotTheme -> {\"Thick\", \"DashedLines\"},\n",
    "WorkingPrecision -> 30, PlotRange -> {-10, 20},\n",
    "PlotLegends -> Placed[\"Expressions\", {Scaled[{0.3, 0.9}], {0.3, 0.9}}]]  "
   ]
  },
  {
   "cell_type": "markdown",
   "metadata": {},
   "source": [
    "<h1 style=\"color:#CD5C5C;background:white; line-height: 150%;\n",
    "border-top: thick solid #CD5C5C; float: left; width: 100%;margin-top: 1em;\">\n",
    "The Andr&eacute; function\n",
    "</h1>"
   ]
  },
  {
   "cell_type": "markdown",
   "metadata": {},
   "source": [
    "<h2 style='color:#5E7AFF;margin-bottom:16px'>Formula <span style='color:orange'>108, 109</span></h2>\n",
    "<p style=\"color:brown;font-size:large\">The unsigned Euler functions.</p>"
   ]
  },
  {
   "cell_type": "code",
   "execution_count": null,
   "metadata": {},
   "outputs": [],
   "source": [
    "AbsEt[s_] := Sin[Pi s / 2] Et[s]; \n",
    "AbsEt[-1] := -Log[2];\n",
    "Clear[s]; AbsEt[s] // FullSimplify // TeXForm\n",
    "\n",
    "AbsEs[s_] := Cos[Pi s / 2] Es[s]\n",
    "Clear[s]; AbsEs[s] // FullSimplify // TeXForm"
   ]
  },
  {
   "cell_type": "markdown",
   "metadata": {},
   "source": [
    "<p style=\"color:brown;font-size:large\">Euler secant function, unsigned version.</p>"
   ]
  },
  {
   "cell_type": "code",
   "execution_count": null,
   "metadata": {},
   "outputs": [],
   "source": [
    "AbsEs[s_] := Cos[Pi s / 2] Es[s]\n",
    "           \n",
    "Clear[s]; AbsEs[s] // FullSimplify // TeXForm"
   ]
  },
  {
   "cell_type": "code",
   "execution_count": null,
   "metadata": {},
   "outputs": [],
   "source": [
    "Table[FullSimplify[AbsEs[n]], {n, 0, 11}]"
   ]
  },
  {
   "cell_type": "code",
   "execution_count": null,
   "metadata": {},
   "outputs": [],
   "source": [
    "ReImPlot[Cos[Pi s / 2] Es[s], {s, -1, 6}, PlotRange -> {-3/2, 13/2},\n",
    "PlotLegends -> Placed[\"Expressions\", {Scaled[{0.3, 0.8}], {0.3, 0.8}}]]"
   ]
  },
  {
   "cell_type": "markdown",
   "metadata": {},
   "source": [
    "<p style=\"color:brown;font-size:large\">Euler tangent function, unsigned version.</p>"
   ]
  },
  {
   "cell_type": "code",
   "execution_count": null,
   "metadata": {},
   "outputs": [],
   "source": [
    "AbsEt[s_] := Cos[Pi (s - 1) / 2] Et[s]; \n",
    "AbsEt[-1] := -Log[2];\n",
    "           \n",
    "Clear[s]; AbsEt[s] // FullSimplify // TeXForm"
   ]
  },
  {
   "cell_type": "markdown",
   "metadata": {},
   "source": [
    "<p style=\"color:brown;font-size:large\">Test, compare OEIS A009006.</p>"
   ]
  },
  {
   "cell_type": "code",
   "execution_count": null,
   "metadata": {},
   "outputs": [],
   "source": [
    "Table[AbsEt[n], {n, 0, 11}] "
   ]
  },
  {
   "cell_type": "code",
   "execution_count": null,
   "metadata": {
    "scrolled": false
   },
   "outputs": [],
   "source": [
    "ReImPlot[Sin[Pi s / 2] Et[s], {s, -1, 6}, PlotRange -> {-1, 20},\n",
    "PlotLegends -> Placed[\"Expressions\", {Scaled[{0.3, 0.8}], {0.3, 0.8}}]]"
   ]
  },
  {
   "cell_type": "markdown",
   "metadata": {},
   "source": [
    "<h2 style='color:#5E7AFF;margin-bottom:16px'>Formula <span style='color:orange'>110</span></h2>\n",
    "<p style=\"color:brown;font-size:large\">The André function.</p>"
   ]
  },
  {
   "cell_type": "code",
   "execution_count": null,
   "metadata": {},
   "outputs": [],
   "source": [
    "A[s_] := AbsEt[s] + AbsEs[s];\n",
    "Clear[s]; A[s] // FullSimplify // TeXForm"
   ]
  },
  {
   "cell_type": "code",
   "execution_count": null,
   "metadata": {},
   "outputs": [],
   "source": [
    "atext := MaTeX[\"|E|_{\\\\tau}(s)\"];\n",
    "btext := MaTeX[\"|E|_{\\\\sigma}(s)\"];\n",
    "ctext := MaTeX[\"A(s)\\, = \\, |E|_{\\\\tau}(s) + |E|_{\\\\sigma}(s)\"];\n",
    "\n",
    "Plot[{AbsEt[s], AbsEs[s], A[s]}, {s, -1, 6}, PlotRange -> {-1, 25}, \n",
    "Filling -> {1 -> {2}}, WorkingPrecision -> 60,\n",
    "PlotLegends -> Placed[{atext, btext, ctext}, {0.4, 0.7}],\n",
    "Epilog -> {PointSize[0.01], Red, Point[Table[{k, A[k]}, {k, 0, 5}]]}]  \n",
    "(* Export[\"Fig37AndreFunction.eps\", %] *)"
   ]
  },
  {
   "cell_type": "markdown",
   "metadata": {},
   "source": [
    "<h2 style='color:#5E7AFF;margin-bottom:16px'>Formula <span style='color:orange'>111</span></h2>\n",
    "<p style=\"color:brown;font-size:large\">The André function via the polylogarithm.</p>"
   ]
  },
  {
   "cell_type": "code",
   "execution_count": null,
   "metadata": {},
   "outputs": [],
   "source": [
    "Apl[s_] := (-I)^(s+1) PolyLog[-s, I] + I^(s+1) PolyLog[-s, -I];\n",
    "Clear[s]; Apl[s] // FullSimplify // TeXForm"
   ]
  },
  {
   "cell_type": "code",
   "execution_count": null,
   "metadata": {},
   "outputs": [],
   "source": [
    "Plot[{A[s], Apl[s]}, {s, -5, 5},\n",
    "PlotTheme -> {\"Thick\", \"DashedLines\"},\n",
    "WorkingPrecision -> 30, PlotRange -> {-10, 20},\n",
    "PlotLegends -> Placed[\"Expressions\", {Scaled[{0.1, 0.9}], {0.1, 0.9}}]]  "
   ]
  },
  {
   "cell_type": "markdown",
   "metadata": {},
   "source": [
    "<h2 style='color:#5E7AFF;margin-bottom:16px'>Formula <span style='color:orange'>112</span></h2>\n",
    "<p style=\"color:brown;font-size:large\">The André numbers.</p>"
   ]
  },
  {
   "cell_type": "code",
   "execution_count": null,
   "metadata": {},
   "outputs": [],
   "source": [
    "Table[FullSimplify[A[n]], {n, 0, 11}]"
   ]
  },
  {
   "cell_type": "markdown",
   "metadata": {},
   "source": [
    "<h2 style='color:#5E7AFF;margin-bottom:16px'>Formula <span style='color:orange'>113</span></h2>\n",
    "<p style=\"color:brown;font-size:large\">The André numbers for positive integers.</p>"
   ]
  },
  {
   "cell_type": "code",
   "execution_count": null,
   "metadata": {},
   "outputs": [],
   "source": [
    "Prepend[Table[2 (-I)^(s + 1) PolyLog[-s, I], {s, 1, 11}], 1] "
   ]
  },
  {
   "cell_type": "code",
   "execution_count": null,
   "metadata": {},
   "outputs": [],
   "source": [
    "Plot[{A[s], 2 Re[(-I)^(s + 1) PolyLog[-s, I]]}, {s, -5, 5},\n",
    "PlotTheme -> {\"Thick\", \"DashedLines\"},\n",
    "WorkingPrecision -> 30, PlotRange -> {-10, 20},\n",
    "PlotLegends -> Placed[\"Expressions\", {Scaled[{0, 0.9}], {0, 0.9}}]]  "
   ]
  },
  {
   "cell_type": "markdown",
   "metadata": {},
   "source": [
    "<h2 style='color:#5E7AFF;margin-bottom:16px'>Formula <span style='color:orange'>114</span></h2>\n",
    "<p style=\"color:brown;font-size:large\">Euler zeta numbers. A099612 / A099617 </p>"
   ]
  },
  {
   "cell_type": "code",
   "execution_count": null,
   "metadata": {},
   "outputs": [],
   "source": [
    "Table[Apl[n] / n!, {n, 0, 10}] \n",
    "%  // Numerator   // Print \n",
    "%% // Denominator // Print "
   ]
  },
  {
   "cell_type": "markdown",
   "metadata": {},
   "source": [
    "<h2 style='color:#5E7AFF;margin-bottom:16px'>Formula <span style='color:orange'>115</span></h2>\n",
    "<p style=\"color:brown;font-size:large\">The signed André function.</p>"
   ]
  },
  {
   "cell_type": "code",
   "execution_count": null,
   "metadata": {},
   "outputs": [],
   "source": [
    "As[s_] := I (PolyLog[-s, -I] - Exp[I Pi s] PolyLog[-s, I]) / Exp[I Pi s / 2];\n",
    "Clear[s]; As[s] // FullSimplify // TeXForm"
   ]
  },
  {
   "cell_type": "code",
   "execution_count": null,
   "metadata": {},
   "outputs": [],
   "source": [
    "atext := MaTeX[\"A(s)\"];\n",
    "btext := MaTeX[\"A^{\\\\ast}(s)\"];"
   ]
  },
  {
   "cell_type": "code",
   "execution_count": null,
   "metadata": {},
   "outputs": [],
   "source": [
    "Plot[{A[s], As[s]},{s, -1.2, 4.6}, \n",
    "PlotRange -> {-4, 9}, WorkingPrecision -> 30,\n",
    "Epilog -> {PointSize[0.01], Red, Point[Table[{k, (-1)^k A[k]}, {k, 0, 4}]]},\n",
    "PlotLegends -> Placed[{atext, btext}, {0.4, 0.8}]]\n",
    "(* Export[\"Fig31AndreFunctions.eps\", %] *) "
   ]
  },
  {
   "cell_type": "markdown",
   "metadata": {},
   "source": [
    "<p style=\"color:brown;font-size:large\">The scaled André functions.</p>"
   ]
  },
  {
   "cell_type": "code",
   "execution_count": null,
   "metadata": {},
   "outputs": [],
   "source": [
    "atext := MaTeX[\"\\\\frac{A(s)}{s!}\"];\n",
    "btext := MaTeX[\"\\\\frac{A^{\\\\ast}(s)}{s!}\"];\n",
    "\n",
    "Plot[{A[s] / s!, As[s] /s! }, {s, -4, 6},\n",
    "PlotRange -> {-2.0, 1.5}, Filling -> {1 -> {2}},\n",
    "PlotLegends -> Placed[{atext, btext}, {0.85, 0.2}],\n",
    "Epilog -> {PointSize[0.01], Red, Point[Table[{k, A[k] / k!}, {k, 0, 6}]]} ]\n",
    "(* Export[\"Fig35ScaledAndreFunctions.eps\", %]  *)"
   ]
  },
  {
   "cell_type": "markdown",
   "metadata": {},
   "source": [
    "<h2 style='color:#5E7AFF;margin-bottom:16px'>Formula <span style='color:orange'>116</span></h2>\n",
    "<p style=\"color:brown;font-size:large\">The signed Andre numbers. A346838, A346839.</p>"
   ]
  },
  {
   "cell_type": "code",
   "execution_count": null,
   "metadata": {},
   "outputs": [],
   "source": [
    "Table[As[n], {n, 0, 11}] // FullSimplify"
   ]
  },
  {
   "cell_type": "code",
   "execution_count": null,
   "metadata": {},
   "outputs": [],
   "source": [
    "Table[As[n] / n!, {n, 0, 29}] // FullSimplify // Accumulate // N"
   ]
  },
  {
   "cell_type": "markdown",
   "metadata": {},
   "source": [
    "<h1 style=\"color:#CD5C5C;background:white; line-height: 150%;\n",
    "border-top: thick solid #CD5C5C; float: left; width: 100%;margin-top: 1em;\">\n",
    "The Seki function</h1>"
   ]
  },
  {
   "cell_type": "markdown",
   "metadata": {},
   "source": [
    "<h2 style='color:#5E7AFF;margin-bottom:16px'>Formula <span style='color:orange'>117, 118</span></h2>\n",
    "<p style=\"color:brown;font-size:large\">The unsigned Bernoulli functions.</p>"
   ]
  },
  {
   "cell_type": "code",
   "execution_count": null,
   "metadata": {},
   "outputs": [],
   "source": [
    "bs[s_] := Sin[Pi s / 2] Bsec[s];\n",
    "bt[s_] := Cos[Pi s / 2] Btan[s];\n",
    "Table[FullSimplify[bs[s] - bt[s]], {s, 1, 12}]"
   ]
  },
  {
   "cell_type": "markdown",
   "metadata": {},
   "source": [
    "<h2 style='color:#5E7AFF;margin-bottom:16px'>Formula <span style='color:orange'>119</span></h2>\n",
    "<p style=\"color:brown;font-size:large\">The Seki function.</p>"
   ]
  },
  {
   "cell_type": "code",
   "execution_count": null,
   "metadata": {},
   "outputs": [],
   "source": [
    "Seki[s_] := If[s == 0, -1, bs[s] - bt[s]];\n",
    "Clear[s]; Seki[s] // FullSimplify // TeXForm"
   ]
  },
  {
   "cell_type": "code",
   "execution_count": null,
   "metadata": {},
   "outputs": [],
   "source": [
    "atext := MaTeX[\"|B|_{\\\\tau}(s)\"];\n",
    "btext := MaTeX[\"|B|_{\\\\sigma}(s)\"];\n",
    "ctext := MaTeX[\"S(s)\\, = \\, |B|_{\\\\sigma}(s) - |B|_{\\\\tau}(s)\"];\n",
    "\n",
    "Plot[{-bt[s], bs[s], Seki[s]}, {s, -0.4, 14}, \n",
    "Filling -> {1 -> {2}}, WorkingPrecision -> 60, PlotRange -> {-0.4, 1.012},\n",
    "PlotLegends -> Placed[{atext, btext, ctext}, {0.47, 0.8}],\n",
    "Epilog -> {PointSize[0.01], Red, Point[Table[{k, Seki[k]}, {k, 1, 13}]]}]  \n",
    "(* Export[\"Fig38SekiFunction.eps\", %] *)"
   ]
  },
  {
   "cell_type": "markdown",
   "metadata": {},
   "source": [
    "<h2 style='color:#5E7AFF;margin-bottom:16px'>Formula <span style='color:orange'>120</span></h2>\n",
    "<p style=\"color:brown;font-size:large\">The Seki function via the Andr&eacute; function.</p>"
   ]
  },
  {
   "cell_type": "code",
   "execution_count": null,
   "metadata": {},
   "outputs": [],
   "source": [
    "SekiA[s_] := s Apl[s-1] / (4^s - 2^s);\n",
    "SekiA[0]  := -1; \n",
    "SekiA[-1] := -8 Catalan; \n",
    "\n",
    "Clear[s]; SekiA[s] // FullSimplify // TeXForm"
   ]
  },
  {
   "cell_type": "markdown",
   "metadata": {},
   "source": [
    "<h2 style='color:#5E7AFF;margin-bottom:16px'>Formula <span style='color:orange'>121</span></h2>\n",
    "<p style=\"color:brown;font-size:large\">The Seki function via the polylogarithm.</p>"
   ]
  },
  {
   "cell_type": "code",
   "execution_count": null,
   "metadata": {},
   "outputs": [],
   "source": [
    "SekiP[s_] := s (I^s PolyLog[1-s, -I] + (-I)^s PolyLog[1-s, I]) / (4^s - 2^s);\n",
    "SekiP[0] := -1; \n",
    "Clear[s]; SekiP[s] // FullSimplify // TeXForm"
   ]
  },
  {
   "cell_type": "code",
   "execution_count": null,
   "metadata": {},
   "outputs": [],
   "source": [
    "SekiP2[s_] := Re[(2 s (-I)^s PolyLog[1-s, I]) / (4^s - 2^s)];\n",
    "SekiP2[0]  := -1; \n",
    "\n",
    "Clear[s]; SekiP2[s] // FullSimplify // TeXForm"
   ]
  },
  {
   "cell_type": "code",
   "execution_count": null,
   "metadata": {},
   "outputs": [],
   "source": [
    "Table[Seki[n], {n, 0, 12}] // FullSimplify\n",
    "Table[SekiA[n], {n, 0, 12}] \n",
    "Table[SekiP[n], {n, 0, 12}]\n",
    "Table[SekiP2[n], {n, 0, 12}]\n",
    "%  // Numerator   // Print\n",
    "%% // Denominator // Print"
   ]
  },
  {
   "cell_type": "code",
   "execution_count": null,
   "metadata": {},
   "outputs": [],
   "source": [
    "Plot[{SekiP[s], SekiA[s], SekiP2[s], Seki[s]},{s, 0, 8}, \n",
    "WorkingPrecision -> 90,\n",
    "PlotLegends -> Placed[\"Expressions\", {Scaled[{0.9, 0.85}], {0.9, 0.85}}]]"
   ]
  },
  {
   "cell_type": "markdown",
   "metadata": {},
   "source": [
    "<h2 style='color:#5E7AFF;margin-bottom:16px'>Formula <span style='color:orange'>122</span></h2>\n",
    "<p style=\"color:brown;font-size:large\">The signed Seki function.</p>"
   ]
  },
  {
   "cell_type": "code",
   "execution_count": null,
   "metadata": {},
   "outputs": [],
   "source": [
    "SekiS[s_] := Exp[I Pi s / 2] (Exp[I Pi s] PolyLog[1 - s, -I] + PolyLog[1 - s, I]) s / (2^s - 4^s);\n",
    "SekiS[0] := 1;\n",
    "Clear[s]; SekiS[s] // FullSimplify // TeXForm"
   ]
  },
  {
   "cell_type": "code",
   "execution_count": null,
   "metadata": {},
   "outputs": [],
   "source": [
    "ReImPlot[SekiS[s], {s,0,6}, PlotRange -> {-1, 1.012},\n",
    "PlotLegends -> Placed[\"Expressions\", {Scaled[{0.9, 0.85}], {0.9, 0.85}}]]"
   ]
  },
  {
   "cell_type": "markdown",
   "metadata": {},
   "source": [
    "<p style=\"color:brown;font-size:large\">See A193472 and A193473, apart from the signs.</p>"
   ]
  },
  {
   "cell_type": "code",
   "execution_count": null,
   "metadata": {},
   "outputs": [],
   "source": [
    "Table[SekiS[n], {n, 0, 12}]\n",
    "%  // Numerator   // Print\n",
    "%% // Denominator // Print"
   ]
  },
  {
   "cell_type": "markdown",
   "metadata": {},
   "source": [
    "<h2 style='color:#5E7AFF;margin-bottom:16px'>Formula <span style='color:orange'>122a</span></h2>\n",
    "<p style=\"color:brown;font-size:large\">The scaled signed Seki numbers.</p>"
   ]
  },
  {
   "cell_type": "code",
   "execution_count": null,
   "metadata": {},
   "outputs": [],
   "source": [
    "Table[SekiS[n] / n!, {n, 0, 12}] // TeXForm"
   ]
  },
  {
   "cell_type": "code",
   "execution_count": null,
   "metadata": {},
   "outputs": [],
   "source": [
    "Table[FullSimplify[SekiS[n] / n!], {n, 0, 8}]\n",
    "%  // Numerator   // Print\n",
    "%% // Denominator // Print"
   ]
  },
  {
   "cell_type": "code",
   "execution_count": null,
   "metadata": {},
   "outputs": [],
   "source": [
    "ez[n_] := SeriesCoefficient[Sec[t] + Tan[t], {t, 0, n}];\n",
    "a[n_] := (-1)^(n-1)  If[n == 0, -1, ez[n - 1] / (4^n - 2^n)];\n",
    "Table[a[n], {n, 0, 8}] "
   ]
  },
  {
   "cell_type": "markdown",
   "metadata": {},
   "source": [
    "<h1 style=\"color:#CD5C5C;background:white; line-height: 150%;\n",
    "border-top: thick solid #CD5C5C; float: left; width: 100%;margin-top: 1em;\">\n",
    "The Swiss-knife polynomials</h1>"
   ]
  },
  {
   "cell_type": "markdown",
   "metadata": {},
   "source": [
    "<h2 style='color:#5E7AFF;margin-bottom:16px'>Formula <span style='color:orange'>123</span></h2>\n",
    "<p style=\"color:brown;font-size:large\">Swiss knife polynomials.</p> "
   ]
  },
  {
   "cell_type": "code",
   "execution_count": null,
   "metadata": {},
   "outputs": [],
   "source": [
    "Skp[-1, x_] := 1;   \n",
    "Skp[n_, x_] := Sum[Binomial[n, k] Es[k] x^(n-k), {k, 0, n}];\n",
    "\n",
    "Clear[n, x]; Skp[n, x] // TeXForm"
   ]
  },
  {
   "cell_type": "code",
   "execution_count": null,
   "metadata": {},
   "outputs": [],
   "source": [
    "SKP := Table[Expand[FullSimplify[Skp[n, x]]], {n, 0, 7}] \n",
    "SKP // MatrixForm"
   ]
  },
  {
   "cell_type": "markdown",
   "metadata": {},
   "source": [
    "<p style=\"color:brown;font-size:large\">Observe the sinusoidal character of the normalized SKP polynomials.</p>"
   ]
  },
  {
   "cell_type": "code",
   "execution_count": null,
   "metadata": {},
   "outputs": [],
   "source": [
    "NSKP[n_, x_] := Skp[n, x] / n!;"
   ]
  },
  {
   "cell_type": "code",
   "execution_count": null,
   "metadata": {},
   "outputs": [],
   "source": [
    "K0 := NSKP[0,x]; K1 := NSKP[1,x]; K2 := NSKP[2,x];\n",
    "K3 := NSKP[3,x]; K4 := NSKP[4,x]; K5 := NSKP[5,x];\n",
    "K6 := NSKP[6,x]; K7 := NSKP[47x]; \n",
    "Plot[{K1,K2,K3,K4,K5,K6,K7}, {x, -2.5, 2.5}, PlotRange -> {-0.75, 0.75},\n",
    "PlotLegends -> \"Expressions\"]\n",
    "(* Export[\"Fig20SwissKnifePolynomials.eps\", %] *)"
   ]
  },
  {
   "cell_type": "markdown",
   "metadata": {},
   "source": [
    "<h2 style='color:#5E7AFF;margin-bottom:16px'>Formula <span style='color:orange'>124</span></h2>\n",
    "<p style=\"color:brown;font-size:large\">Worpitzky representation of the SK polynomials.</p>"
   ]
  },
  {
   "cell_type": "code",
   "execution_count": null,
   "metadata": {},
   "outputs": [],
   "source": [
    "a[k_] := List[1, 1, 1, 0, -1, -1, -1, 0][[Mod[k, 8] + 1]];\n",
    "Table[a[n], {n, 0, 12}]"
   ]
  },
  {
   "cell_type": "code",
   "execution_count": null,
   "metadata": {},
   "outputs": [],
   "source": [
    "Skpoly[-1, x_] := 1;\n",
    "Skpoly[n_, x_] := Sum[a[k]*2^(-Floor[k/2]) \n",
    "                  Sum[(-1)^v Binomial[k, v] (x + v + 1)^n, \n",
    "                  {v, 0, k}], {k, 0, n}]"
   ]
  },
  {
   "cell_type": "code",
   "execution_count": null,
   "metadata": {},
   "outputs": [],
   "source": [
    "Table[Expand[FullSimplify[Skpoly[n, x]]], {n, 0, 7}] // MatrixForm"
   ]
  },
  {
   "cell_type": "markdown",
   "metadata": {},
   "source": [
    "<h2 style='color:#5E7AFF;margin-bottom:16px'>Formula <span style='color:orange'>125, 126</span></h2>\n",
    "<p style=\"color:brown;font-size:large\">Recurrence of the SK polynomials.</p>"
   ]
  },
  {
   "cell_type": "code",
   "execution_count": null,
   "metadata": {},
   "outputs": [],
   "source": [
    "Clear[n, x, K]\n",
    "c := {1}\n",
    "P := 1\n",
    "Print[P]\n",
    "For[n = 1, n < 8, n++,\n",
    "    c = Table[(c[[k+1]] n) / (n - 2 k), {k, 0, Floor[(n-1)/2]}];\n",
    "    If[EvenQ[n], AppendTo[c, -Sum[c[[k+1]], {k, 0, Floor[(n-1)/2]}]]];\n",
    "    P = Sum[c[[k+1]] x^(n - 2 k), {k, 0, Floor[n/2]}];\n",
    "    Print[P]\n",
    "]"
   ]
  },
  {
   "cell_type": "markdown",
   "metadata": {},
   "source": [
    "<h1 style=\"color:#CD5C5C;background:white; line-height: 150%;\n",
    "border-top: thick solid #CD5C5C; float: left; width: 100%;margin-top: 1em;\">\n",
    "Asymptotics for the Bernoulli function</h1>"
   ]
  },
  {
   "cell_type": "markdown",
   "metadata": {},
   "source": [
    "<h2 style='color:#5E7AFF;margin-bottom:16px'>Formula <span style='color:orange'>127</span></h2>"
   ]
  },
  {
   "cell_type": "code",
   "execution_count": null,
   "metadata": {},
   "outputs": [],
   "source": [
    "R[K_, s_] := Exp[1/2 + Sum[BernoulliB[n + 1]/((n + 1) n s^n), {n, 1, K}]];\n",
    "R5[s_] := Exp[1/2 + s^(-1) / 12 - s^(-3) / 360 + s^(-5) / 1260];\n",
    "R[5, s] "
   ]
  },
  {
   "cell_type": "markdown",
   "metadata": {},
   "source": [
    "<h2 style='color:#5E7AFF;margin-bottom:16px'>Formula <span style='color:orange'>128</span></h2>\n",
    "<p style=\"color:brown;font-size:large\">For even positive integer n:</p>"
   ]
  },
  {
   "cell_type": "code",
   "execution_count": null,
   "metadata": {},
   "outputs": [],
   "source": [
    "Basyn[s_] := 4 Pi (s / (2 Pi E))^(s + 1/2) R[5, s];\n",
    "Clear[n]; Basyn[n] // FullSimplify "
   ]
  },
  {
   "cell_type": "code",
   "execution_count": null,
   "metadata": {},
   "outputs": [],
   "source": [
    "Table[Basyn[n], {n, 20, 30, 2}] // N\n",
    "Table[Abs[BernoulliB[n]], {n, 20, 30, 2}] // N"
   ]
  },
  {
   "cell_type": "markdown",
   "metadata": {},
   "source": [
    "<h2 style='color:#5E7AFF;margin-bottom:16px'>Formula <span style='color:orange'>129</span></h2>\n",
    "<p style=\"color:brown;font-size:large\">For positive real s:</p>"
   ]
  },
  {
   "cell_type": "code",
   "execution_count": null,
   "metadata": {},
   "outputs": [],
   "source": [
    "Basy[K_, s_] := 4 Pi (s/(2 Pi Exp[1]))^(s + 1/2) R[K, s] (-Cos[s Pi / 2]);\n",
    "Clear[s]; Basy[5, s] // FullSimplify (* for K=5 *)"
   ]
  },
  {
   "cell_type": "code",
   "execution_count": null,
   "metadata": {},
   "outputs": [],
   "source": [
    "Basy5[s_] := - 2 (Exp[(2 - 7 (s^2 - 30 s^4 + 360 s^6))/(2520 s^5)] \n",
    "              (2 Pi)^(1/2 - s) s^(1/2 + s) Cos[(Pi s) / 2]);\n",
    "Clear[s]; Basy5[s] "
   ]
  },
  {
   "cell_type": "code",
   "execution_count": null,
   "metadata": {},
   "outputs": [],
   "source": [
    "Table[Basy5[n], {n, 20, 30, 2}] // N\n",
    "Table[BernoulliB[n], {n, 20, 30, 2}] // N"
   ]
  },
  {
   "cell_type": "code",
   "execution_count": null,
   "metadata": {},
   "outputs": [],
   "source": [
    "Plot[{Basy[5, s], B[s]}, {s, 1, 13},\n",
    "PlotLegends -> Placed[\"Expressions\", {Scaled[{0.2, 0.1}], {0.2, 0.1}}],\n",
    "WorkingPrecision -> 30, PlotTheme -> {\"Thick\", \"DashedLines\"}]"
   ]
  },
  {
   "cell_type": "code",
   "execution_count": null,
   "metadata": {},
   "outputs": [],
   "source": [
    "SekiAsy[K_, s_] := 4 Pi (s/(2 Pi Exp[1]))^(s + 1/2) R[K, s];\n",
    "Clear[s]; SekiAsy[5, s] // FullSimplify "
   ]
  },
  {
   "cell_type": "code",
   "execution_count": null,
   "metadata": {},
   "outputs": [],
   "source": [
    "SekiAsy5[s_] := (2^(3/2 - s) Pi^(1/2 - s) s^(1/2 + s) \n",
    "                Exp[(2 - 7 (s^2 - 30 s^4 + 360 s^6))/(2520 s^5)]);\n",
    "Clear[s]; SekiAsy5[s] // TeXForm"
   ]
  },
  {
   "cell_type": "code",
   "execution_count": null,
   "metadata": {},
   "outputs": [],
   "source": [
    "atext := MaTeX[\"\\\\text{S}_{\\\\text{asy5}}(s)\"];\n",
    "btext := MaTeX[\"\\\\text{S}(s)\"];\n",
    "\n",
    "Plot[{SekiP[s], SekiAsy5[s]}, {s, 1, 13},\n",
    "PlotLegends -> Placed[{btext, atext}, {0.55, 0.85}],\n",
    "WorkingPrecision -> 30, PlotTheme -> {\"Thick\", \"DashedLines\"}]\n",
    "(* Export[\"Fig33SekiApprox.eps\", %] *)"
   ]
  },
  {
   "cell_type": "markdown",
   "metadata": {},
   "source": [
    "<h2 style='color:#5E7AFF;margin-bottom:16px'>Formula <span style='color:orange'>130</span></h2>\n",
    "<p style=\"color:brown;font-size:large\">Asymptotic expansion of the Euler function.</p>"
   ]
  },
  {
   "cell_type": "code",
   "execution_count": null,
   "metadata": {},
   "outputs": [],
   "source": [
    "Easy[K_, s_] := -4 ((2 s) / (Pi Exp[1]))^(s + 1/2) R[K, s]*(-Cos[s Pi / 2]);\n",
    "TeXForm[Easy[K, s]]"
   ]
  },
  {
   "cell_type": "code",
   "execution_count": null,
   "metadata": {
    "scrolled": false
   },
   "outputs": [],
   "source": [
    "atext := MaTeX[\"E_{\\\\sigma \\\\text{ asy5}}(s)\"];\n",
    "btext := MaTeX[\"E_{\\\\sigma}(s)\"];\n",
    "Easy5[s_] := Easy[5, s]; \n",
    "\n",
    "Plot[{Esec[s], Easy5[s]}, {s, 0, 6},\n",
    "WorkingPrecision -> 30, PlotRange -> {-10, 10}, \n",
    "PlotLegends -> Placed[{btext, atext}, {0.25, 0.2}],\n",
    "PlotTheme -> {\"Thick\", \"DashedLines\"}]\n",
    "(* Export[\"Fig34EulerApprox.eps\", %] *)"
   ]
  },
  {
   "cell_type": "markdown",
   "metadata": {},
   "source": [
    "<h2 style='color:#5E7AFF;margin-bottom:16px'>Formula <span style='color:orange'>131</span></h2>\n",
    "<p style=\"color:brown;font-size:large\">Asymptotic expansion of the logarithm of the Andre function.</p>"
   ]
  },
  {
   "cell_type": "code",
   "execution_count": null,
   "metadata": {},
   "outputs": [],
   "source": [
    "LogAasy[s_] := Log[4] + (1/2 + s) Log[2 s / Pi] + \n",
    "                ((2/7) - s^2 + 30 s^4 - 360 s^6) / (360 s^5);\n",
    "LogAasy[s] // TeXForm"
   ]
  },
  {
   "cell_type": "code",
   "execution_count": null,
   "metadata": {},
   "outputs": [],
   "source": [
    "Exp[LogAasy[s]]"
   ]
  },
  {
   "cell_type": "code",
   "execution_count": null,
   "metadata": {},
   "outputs": [],
   "source": [
    "Plot[{Log[A[s]], LogAasy[s]}, {s, 1/2, 4}, WorkingPrecision -> 30,\n",
    "PlotTheme -> {\"Thick\", \"DashedLines\"},\n",
    "PlotLegends -> Placed[\"Expressions\", {Scaled[{0.25, 0.85}], {0.25, 0.85}}]]"
   ]
  },
  {
   "cell_type": "code",
   "execution_count": null,
   "metadata": {},
   "outputs": [],
   "source": [
    "Plot[{A[s], Exp[LogAasy[s]]}, {s, 1/2, 4}, WorkingPrecision -> 30,\n",
    "PlotTheme -> {\"Thick\", \"DashedLines\"},\n",
    "PlotLegends -> Placed[\"Expressions\", {Scaled[{0.25, 0.85}], {0.25, 0.85}}]]"
   ]
  },
  {
   "cell_type": "code",
   "execution_count": null,
   "metadata": {},
   "outputs": [],
   "source": [
    "Plot[{LogAasy[s] / Log[A[s]], 1}, {s, 9/2, 11}, \n",
    "PlotRange -> {0.99994, 1.00012}, WorkingPrecision -> 40, \n",
    "PlotLegends -> Placed[\"Expressions\", {Scaled[{0.95, 0.85}], {0.95, 0.85}}]]\n",
    "(* Export[\"FigXXAndreLogApprox.eps\", %] *)"
   ]
  },
  {
   "cell_type": "markdown",
   "metadata": {},
   "source": [
    "<h2 style='color:#5E7AFF;margin-bottom:16px'>Formula <span style='color:orange'>132</span></h2>"
   ]
  },
  {
   "cell_type": "code",
   "execution_count": null,
   "metadata": {},
   "outputs": [],
   "source": [
    "Todd = Series[z / (1 - Exp[-z]), {z, 0, 6} ]"
   ]
  },
  {
   "cell_type": "markdown",
   "metadata": {},
   "source": [
    "<h1 style=\"color:#CD5C5C;background:white; line-height: 150%;\n",
    "border-top: thick solid #CD5C5C; float: left; width: 100%;margin-top: 1em;\">\n",
    "Applications of the Swiss-knife polynomials</h1>"
   ]
  },
  {
   "cell_type": "markdown",
   "metadata": {},
   "source": [
    "<p style=\"color:brown;font-size:large\">A122045, Euler secant numbers</p>"
   ]
  },
  {
   "cell_type": "code",
   "execution_count": null,
   "metadata": {},
   "outputs": [],
   "source": [
    "Table[(-1)^n FullSimplify[Skp[n, 0]], {n, 0, 12}]        "
   ]
  },
  {
   "cell_type": "markdown",
   "metadata": {},
   "source": [
    "<p style=\"color:brown;font-size:large\">A155585, 2^n*E(n, 1)</p>"
   ]
  },
  {
   "cell_type": "code",
   "execution_count": null,
   "metadata": {},
   "outputs": [],
   "source": [
    "Table[FullSimplify[Skp[n, 1]], {n, 0, 12}]               "
   ]
  },
  {
   "cell_type": "markdown",
   "metadata": {},
   "source": [
    "<p style=\"color:brown;font-size:large\">A163982, -2^n*(E(n, 1/2) + E(n, 1))</p>"
   ]
  },
  {
   "cell_type": "code",
   "execution_count": null,
   "metadata": {},
   "outputs": [],
   "source": [
    "Table[FullSimplify[-Skp[n, 0]  - Skp[n, 1]], {n, 0, 12}] "
   ]
  },
  {
   "cell_type": "markdown",
   "metadata": {},
   "source": [
    "<p style=\"color:brown;font-size:large\">A163747, 2^n*(E(n, 1/2) - E(n, 1)).</p>"
   ]
  },
  {
   "cell_type": "code",
   "execution_count": null,
   "metadata": {},
   "outputs": [],
   "source": [
    "Table[FullSimplify[Skp[n, 0]   - Skp[n, 1]], {n, 0, 12}]"
   ]
  },
  {
   "cell_type": "markdown",
   "metadata": {},
   "source": [
    "<p style=\"color:brown;font-size:large\">A304980, (2^n - 4^n) B[n] / n + E[n]</p>"
   ]
  },
  {
   "cell_type": "code",
   "execution_count": null,
   "metadata": {},
   "outputs": [],
   "source": [
    "Table[FullSimplify[Skp[n, 0] - Skp[n-1, 1]], {n, 1, 12}] \n",
    "Table[(2^n - 4^n) BernoulliB[n] / n + EulerE[n], {n, 1, 12}]  "
   ]
  },
  {
   "cell_type": "markdown",
   "metadata": {},
   "source": [
    "<p style=\"color:brown;font-size:large\">Euler zeta numbers, A099612/A099617, 2^n*|E(n, 1/2) - E(n,1)| / n! </p>"
   ]
  },
  {
   "cell_type": "code",
   "execution_count": null,
   "metadata": {},
   "outputs": [],
   "source": [
    "Table[Abs[FullSimplify[Skp[n, Mod[n, 2]]] / n!], {n, 0, 8}]\n",
    "% // Numerator // Print\n",
    "%% // Denominator // Print\n",
    "Table[2^n Abs[EulerE[n, 1/2] - EulerE[n, 1]]/ n!, {n, 0, 8}]"
   ]
  },
  {
   "cell_type": "markdown",
   "metadata": {},
   "source": [
    "<p style=\"color:brown;font-size:large\">Andre numbers, A000111</p>"
   ]
  },
  {
   "cell_type": "code",
   "execution_count": null,
   "metadata": {},
   "outputs": [],
   "source": [
    "Table[Abs[FullSimplify[Skp[n, Mod[n, 2]]]], {n, 0, 10}]"
   ]
  },
  {
   "cell_type": "markdown",
   "metadata": {},
   "source": [
    "<p style=\"color:brown;font-size:large\">Extended Euler numbers</p>"
   ]
  },
  {
   "cell_type": "code",
   "execution_count": null,
   "metadata": {},
   "outputs": [],
   "source": [
    "Table[FullSimplify[Skp[n, Mod[n, 2]]], {n, 0, 10}]"
   ]
  },
  {
   "cell_type": "markdown",
   "metadata": {},
   "source": [
    "<p style=\"color:brown;font-size:large\">Euler secant, A028296</p>"
   ]
  },
  {
   "cell_type": "code",
   "execution_count": null,
   "metadata": {},
   "outputs": [],
   "source": [
    "Table[FullSimplify[Skp[2n, 0]], {n, 0, 8}]"
   ]
  },
  {
   "cell_type": "markdown",
   "metadata": {},
   "source": [
    "<p style=\"color:brown;font-size:large\">Euler tangent, A000182</p>"
   ]
  },
  {
   "cell_type": "code",
   "execution_count": null,
   "metadata": {},
   "outputs": [],
   "source": [
    "Table[FullSimplify[Skp[2n + 1, 1]], {n, 0, 8}]"
   ]
  },
  {
   "cell_type": "markdown",
   "metadata": {},
   "source": [
    "<p style=\"color:brown;font-size:large\">A336898 / A336899</p>"
   ]
  },
  {
   "cell_type": "code",
   "execution_count": null,
   "metadata": {},
   "outputs": [],
   "source": [
    "alpha[n_] := If[n == 0, 1, n / (4^n - 2^n)]\n",
    "\n",
    "Table[alpha[n], {n, 0, 10}]  \n",
    "%  // Numerator   // Print\n",
    "%% // Denominator // Print"
   ]
  },
  {
   "cell_type": "markdown",
   "metadata": {},
   "source": [
    "<p style=\"color:brown;font-size:large\">Bernoulli, A164555/A027642</p>"
   ]
  },
  {
   "cell_type": "code",
   "execution_count": null,
   "metadata": {},
   "outputs": [],
   "source": [
    "Table[FullSimplify[Skp[n - 1, 1] alpha[n]], {n, 0, 10}]\n",
    "% // Numerator // Print\n",
    "%% // Denominator // Print"
   ]
  },
  {
   "cell_type": "markdown",
   "metadata": {},
   "source": [
    "<p style=\"color:brown;font-size:large\">Bernoulli tangent, n even, A000367/A002445</p>"
   ]
  },
  {
   "cell_type": "code",
   "execution_count": null,
   "metadata": {},
   "outputs": [],
   "source": [
    "Table[FullSimplify[Skp[2n - 1, 1] alpha[2n]], {n, 0, 8}]\n",
    "%  // Numerator // Print\n",
    "%% // Denominator // Print"
   ]
  },
  {
   "cell_type": "markdown",
   "metadata": {},
   "source": [
    "<p style=\"color:brown;font-size:large\">Bernoulli secant, n odd, A160143/A193476</p>"
   ]
  },
  {
   "cell_type": "code",
   "execution_count": null,
   "metadata": {},
   "outputs": [],
   "source": [
    "Table[FullSimplify[Skp[2n, 0] alpha[2n + 1]], {n, 0, 7}]\n",
    "%  // Numerator // Print\n",
    "%% // Denominator // Print"
   ]
  },
  {
   "cell_type": "markdown",
   "metadata": {},
   "source": [
    "<p style=\"color:brown;font-size:large\">Bernoulli extended, A193472/A193473</p>"
   ]
  },
  {
   "cell_type": "code",
   "execution_count": null,
   "metadata": {},
   "outputs": [],
   "source": [
    "Table[FullSimplify[Skp[n-1, Mod[n-1, 2]] alpha[n]], {n, 0, 8}]\n",
    "%  // Numerator // Print\n",
    "%% // Denominator // Print"
   ]
  },
  {
   "cell_type": "markdown",
   "metadata": {},
   "source": [
    "<p style=\"color:brown;font-size:large\">Genocchi, A226158</p>"
   ]
  },
  {
   "cell_type": "code",
   "execution_count": null,
   "metadata": {},
   "outputs": [],
   "source": [
    "Table[FullSimplify[-Skp[n-1, 1] n / 2^(n-1)], {n, 0, 12}]"
   ]
  },
  {
   "cell_type": "markdown",
   "metadata": {},
   "source": [
    "<p style=\"color:brown;font-size:large\">Springer, A188458</p>"
   ]
  },
  {
   "cell_type": "code",
   "execution_count": null,
   "metadata": {},
   "outputs": [],
   "source": [
    "Table[FullSimplify[Skp[n, 1/2] 2^n], {n, 0, 8}]"
   ]
  },
  {
   "cell_type": "markdown",
   "metadata": {},
   "source": [
    "<p style=\"color:brown;font-size:large\">A001586 A212435</p>"
   ]
  },
  {
   "cell_type": "code",
   "execution_count": null,
   "metadata": {},
   "outputs": [],
   "source": [
    "Table[FullSimplify[Skp[n, -1/2] 2^n], {n, 0, 8}]"
   ]
  },
  {
   "cell_type": "markdown",
   "metadata": {},
   "source": [
    "<h1 style=\"color:#CD5C5C;background:white; line-height: 150%;\n",
    "border-top: thick solid #CD5C5C; float: left; width: 100%;margin-top: 1em;\">\n",
    "F I N </h1>"
   ]
  }
 ],
 "metadata": {
  "kernelspec": {
   "display_name": "Wolfram Language 12.3",
   "language": "Wolfram Language",
   "name": "wolframlanguage12.3"
  },
  "language_info": {
   "codemirror_mode": "mathematica",
   "file_extension": ".m",
   "mimetype": "application/vnd.wolfram.m",
   "name": "Wolfram Language",
   "pygments_lexer": "mathematica",
   "version": "12.0"
  },
  "toc-autonumbering": false,
  "toc-showmarkdowntxt": true,
  "toc-showtags": false
 },
 "nbformat": 4,
 "nbformat_minor": 4
}
