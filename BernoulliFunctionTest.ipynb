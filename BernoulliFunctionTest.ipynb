{
 "cells": [
  {
   "cell_type": "markdown",
   "metadata": {},
   "source": [
    "<h1 style='color:#5E7AFF'>The Bernoulli Function</h1>\n",
    "<p>IN DEVELOPEMENT, VERY EARLY STATE</p>\n",
    "<p>This notebook is the companion of the article <a href='http://luschny.de/temp/BernoulliFunctionExpansion.pdf'>The Expansion of the Bernoulli Function</a>. Download this <a href='https://github.com/PeterLuschny/BernoulliFunction/blob/master/BernoulliFunction.ipynb'>notebook</a>. The Mathematica code is based on contributions of Vaclav Kotesovec.</p>"
   ]
  },
  {
   "cell_type": "markdown",
   "metadata": {},
   "source": [
    "<h2 style='color:#5E7AFF'>Technical setup</h2>\n",
    "<p>You can use this notebook with four different kernels:</p>\n",
    "<ul><li><a href=\"https://www.julialang.org/\">Julia-Nemo</a></li><li><a href=\"https://www.sagemath.org/\">SageMath</a></li>\n",
    "<li><a href=\"https://github.com/jdemeyer/pari_jupyter\">Pari-GP</a></li>\n",
    "<li><a href=\"https://github.com/WolframResearch/WolframLanguageForJupyter\">Mathematica</a></li></ul>\n",
    "<p>Here are <a href=\"https://github.com/jupyter/jupyter/wiki/Jupyter-kernels\">other kernels</a> you could add.\n",
    "Additionally we provide Maple code. </p>"
   ]
  },
  {
   "cell_type": "code",
   "execution_count": null,
   "metadata": {},
   "outputs": [],
   "source": [
    "# We recommend to install the jupyterlab/katex-extension.\n",
    "using Nemo  # when using the Julia kernel"
   ]
  },
  {
   "cell_type": "markdown",
   "metadata": {},
   "source": [
    "<h2 style='color:#5E7AFF;margin-bottom:16px'>Formula <span style='color:orange'>1</span></h2>\n",
    "\\begin{equation}\n",
    "\\zeta(s)= \\frac{1}{s-1}+\\sum_{n=0}^\\infty \\frac{(-1)^n}{n!} \\gamma_n (s-1)^n  \n",
    "\\end{equation}"
   ]
  },
  {
   "cell_type": "markdown",
   "metadata": {},
   "source": [
    "<h2 style='color:#5E7AFF;margin-bottom:16px'>Formula <span style='color:orange'>2</span></h2>\n",
    "\\begin{equation}\n",
    "\\gamma_n \\,=\\,  -\\frac{\\pi}{2(n+1)} \\int\\limits_{-\\infty}^{+\\infty}\\,\n",
    "\\frac{\\log^{n+1} \\!\\! \\left( \\frac{1}{2} + ix \\right)}{ \\cosh^2 \\!\\pi x}\\, dx\n",
    "\\end{equation}"
   ]
  },
  {
   "cell_type": "code",
   "execution_count": null,
   "metadata": {},
   "outputs": [],
   "source": [
    "# Maple\n",
    "\n",
    "seq(gamma(n), n=0..6): evalf(%);\n",
    "gammaInt := n -> -(Pi/(2*(n+1)))*int(log(1/2+I*x)^(n+1)/cosh(Pi*x)^2, x=-infinity..infinity);\n",
    "seq(gammaInt(n), n=0..5): evalf(%,24); "
   ]
  },
  {
   "cell_type": "code",
   "execution_count": null,
   "metadata": {},
   "outputs": [],
   "source": [
    "# Mathematica\n",
    "\n",
    "Table[StieltjesGamma[n], {n, 0, 5}] // N\n",
    "\n",
    "Table[Chop[-(Pi / (2 (n + 1))) * NIntegrate[Log[1/2 + I*x]^(n + 1) / Cosh[Pi*x]^2, \n",
    "{x, -Infinity, Infinity}]], {n, 0, 5}]"
   ]
  },
  {
   "cell_type": "code",
   "execution_count": null,
   "metadata": {},
   "outputs": [],
   "source": [
    "# SageMath\n",
    "\n",
    "CC = ComplexBallField(80)\n",
    "RR = RealBallField(80)\n",
    "PI = RR.pi()\n",
    "\n",
    "def gammaInt(n):\n",
    "    f = fast_callable(log(1/2 + I*x)^(n + 1)/cosh(PI*x)^2, vars=[x], domain=CC)\n",
    "    g = CC.integral(lambda x, _: f(x), RR(-60), RR(60))\n",
    "    return (-PI/RR(2*(n+1)))*g.real()\n",
    "\n",
    "[gammaInt(n) for n in (0..5)]"
   ]
  },
  {
   "cell_type": "markdown",
   "metadata": {},
   "source": [
    "<h2 style='color:#5E7AFF;margin-bottom:16px'>Formula <span style='color:orange'>3</span></h2>\n",
    "<p style=\"color:rgb(155,0,0)\">\n",
    "\\begin{equation} \n",
    "\\beta_n \\,  = \\,  2\\pi \\! \\int\\limits_{-\\infty }^{+\\infty }{\\frac {\n",
    " \\log^{n}\\! \\left( \\frac{1}{2} + iz \\right) }\n",
    "{\\left( {{\\rm e}^{-\\pi \\,z}}+{{\\rm e}^{\\pi \\,z }} \\right) ^{2}}}\\,{dz}  \n",
    "\\end{equation}"
   ]
  },
  {
   "cell_type": "code",
   "execution_count": null,
   "metadata": {},
   "outputs": [],
   "source": [
    "# Mathematica\n",
    "\n",
    "Table[Chop[2*Pi * NIntegrate[Log[1/2 + I*z]^n / (Exp[Pi*z] + Exp[-Pi*z])^2,\n",
    "{z, -Infinity, Infinity}]] / n, {n, 0, 5}]"
   ]
  },
  {
   "cell_type": "code",
   "execution_count": null,
   "metadata": {},
   "outputs": [],
   "source": [
    "# Maple\n",
    "\n",
    "beta := n -> 4*Pi*int(ln(1/2 + I*z)^n/(exp(-Pi*z) + exp(Pi*z))^2, z=0..32);\n",
    "for n from 0 to 5 do [n], evalf(beta(n), 30) od;"
   ]
  },
  {
   "cell_type": "code",
   "execution_count": null,
   "metadata": {},
   "outputs": [],
   "source": [
    "# SageMath\n",
    "\n",
    "RR = RealBallField(80)\n",
    "CC = ComplexBallField(80)\n",
    "PI = RR.pi()\n",
    "# I = RR(I)\n",
    "   \n",
    "def beta(n):\n",
    "    f = fast_callable(log(1/2 + I*x)^n / ((exp(-PI*x) + exp(PI*x)))^2, vars=[x], domain=CC)\n",
    "    bi = CC.integral(lambda x, _: f(x), RR(0), RR(32))\n",
    "    return RR(4)*PI*bi.real()\n",
    "\n",
    "beta(1) # [-0.5772156649015328606065 +/- 7.83e-23]"
   ]
  },
  {
   "cell_type": "code",
   "execution_count": null,
   "metadata": {},
   "outputs": [],
   "source": [
    "# JuliaNemo broken\n",
    "\n",
    "RR = RealField(80)\n",
    "CC = ComplexField(80)\n",
    "PI = const_pi(CC)\n",
    "I = onei(CC)\n",
    "\n",
    "Integral(f, a, b) = Nemo.integrate(CC, f, RR(a), RR(b))\n",
    "\n",
    "function beta(n::Int) \n",
    "    function F(x::arb)\n",
    "        (z::acb) -> CC(CC(log(CC(0.5)+ real(z)))^n) / CC((exp(-PI*x) + exp(PI*x))^2)\n",
    "    end\n",
    "end\n",
    "    \n",
    "f(n) = RR(4)*PI*real(Integral(beta(n), 0, 30))\n",
    "#f(1)   \n",
    ";"
   ]
  },
  {
   "cell_type": "markdown",
   "metadata": {},
   "source": [
    "<h2 style='color:#5E7AFF;margin-bottom:16px'>Formula <span style='color:orange'>4</span></h2>\n",
    "\\begin{equation}\n",
    "\\operatorname{B}(s) \\, = \\, \\sum _{n=0}^{\\infty }\\beta_{n} \\frac {s^n}{n!}\n",
    "\\end{equation}"
   ]
  },
  {
   "cell_type": "code",
   "execution_count": null,
   "metadata": {},
   "outputs": [],
   "source": [
    "# Maple\n",
    "\n",
    "Bbeta := s -> add(beta(n)*s^n/n!, n = 0..20);"
   ]
  },
  {
   "cell_type": "markdown",
   "metadata": {},
   "source": [
    "<h2 style='color:#5E7AFF;margin-bottom:16px'>Formula <span style='color:orange'>6</span></h2>\n",
    "\\begin{equation}\n",
    " \\operatorname{B}_n \\, = \\, \\sum _{j=0}^{\\infty }\\beta_{j} \\frac {n^j}{j!}\n",
    "\\end{equation}"
   ]
  },
  {
   "cell_type": "code",
   "execution_count": null,
   "metadata": {},
   "outputs": [],
   "source": [
    "# Mathematica\n",
    "\n",
    "Normal[Series[-z * Zeta[1 - z], {z, 0, 5}]] // N\n",
    "\n",
    "# 1. - 0.577216 z + 0.0728158 z^2 + 0.00484518 z^3 - 0.000342306 z^4 - 0.0000968904 z^5 "
   ]
  },
  {
   "cell_type": "markdown",
   "metadata": {},
   "source": [
    "<h2 style='color:#5E7AFF;margin-bottom:16px'>Formula <span style='color:orange'>5</span></h2>\n",
    "\\begin{equation}\n",
    "\\operatorname{B}(s) \\, = \\, -s \\zeta(1-s)\n",
    "\\end{equation}"
   ]
  },
  {
   "cell_type": "code",
   "execution_count": null,
   "metadata": {},
   "outputs": [],
   "source": [
    "# Maple\n",
    "\n",
    "B := s -> `if`(s=0, 1, -s*Zeta(1-s)):\n",
    "\n",
    "for n from 0 to 4 do [n], [evalf(B4(n), 30), evalf(B(n),30)] od;"
   ]
  },
  {
   "cell_type": "markdown",
   "metadata": {},
   "source": [
    "<h2 style='color:#5E7AFF;margin-bottom:16px'>Formula <span style='color:orange'>7</span></h2>\n",
    "\\begin{equation}\n",
    "\\sum_{j=0}^\\infty \\gamma_j \\frac{n^j}{j!} = \\frac{1}{n}   \\text{ and }\n",
    "\\sum_{j=0}^\\infty \\beta_j \\frac{n^j}{j!} = 0 \\qquad (n > 1 \\text{ odd}).\n",
    "\\end{equation}"
   ]
  },
  {
   "cell_type": "markdown",
   "metadata": {},
   "source": [
    "<h2 style='color:#5E7AFF;margin-bottom:16px'>Formula <span style='color:orange'>8</span></h2>\n",
    "<p style=\"color:rgb(155,0,0)\">\n",
    "\\begin{equation} \n",
    "    -2  \\frac{n! \\zeta(n)}{(2 \\pi i)^{n}}\n",
    "    \\, = \\,   2 \\pi   \\sum_{j=0}^\\infty \\, \\frac{n^j}{j!}\n",
    "    \\int\\limits_{-\\infty }^{+\\infty }{\\frac {\n",
    "            \\log^{j}\\! \\left( \\frac{1}{2} + iz \\right) }\n",
    "        {\\left( {{\\rm e}^{-\\pi \\,z}}+{{\\rm e}^{\\pi \\,z }} \\right) ^{2}}}\\,{dz}\n",
    "    \\quad (n \\ge 0, \\text{ even})\n",
    "\\end{equation}"
   ]
  },
  {
   "cell_type": "markdown",
   "metadata": {},
   "source": [
    "<h2 style='color:#5E7AFF;margin-bottom:16px'>Formula <span style='color:orange'>9</span></h2>\n",
    "\\begin{equation}\n",
    "\\operatorname{B}(z)\\, =\\, 1 - \\gamma z - \\gamma_1 z^2 - \\frac{\\gamma_2}{2}\n",
    "z^3 - \\frac{\\gamma_3}{6} z^4 \\,\\ldots \n",
    "\\end{equation}"
   ]
  },
  {
   "cell_type": "markdown",
   "metadata": {},
   "source": [
    "<h2 style='color:#5E7AFF;margin-bottom:16px'>Formula <span style='color:orange'>10</span></h2>\n",
    "<p style=\"color:rgb(155,0,0)\">\n",
    "\\begin{equation}\n",
    "    \\operatorname{B}(z)  \\, = \\, 1 + \\beta_1 z +\n",
    "    \\frac{\\beta_2}{2} z^2 + \\frac{\\beta_3}{6} z^3 + \\frac{\\beta_4}{24} z^4 \\,\\ldots \n",
    "\\end{equation}"
   ]
  },
  {
   "cell_type": "markdown",
   "metadata": {},
   "source": [
    "<h2 style='color:#5E7AFF;margin-bottom:16px'>Formula <span style='color:orange'>11</span></h2>\n",
    "\\begin{equation}\n",
    "\\beta_n \\ = \\ \\pi \\! \\int_{0}^{\\infty}\\,\n",
    " {\\frac{\\Re \\left(\\log^n (1/2 + iz) \\right) }{ \\cosh^2(\\pi z) }} dz \n",
    "\\end{equation}"
   ]
  },
  {
   "cell_type": "markdown",
   "metadata": {},
   "source": [
    "<h2 style='color:#5E7AFF;margin-bottom:16px'>Formula <span style='color:orange'>12</span></h2>\n",
    "\\begin{equation}\n",
    "\\sigma_n(z) \\, = \\, \\Re \\left(\\log^n (1/2 + iz) \\right)\n",
    "\\end{equation}"
   ]
  },
  {
   "cell_type": "code",
   "execution_count": null,
   "metadata": {},
   "outputs": [],
   "source": [
    "RR = RealField(80)\n",
    "CC = ComplexField(80)\n",
    "\n",
    "cigma(n, z::arb) = log(CC(RR(0.5), z))^n\n",
    "rigma(n, z::arb) = real(log(CC(RR(0.5), z))^n)\n",
    "\n",
    "cigma(1, RR(1)) |> println\n",
    "cigma(2, RR(1)) |> println\n",
    "rigma(1, RR(1)) |> println\n",
    "rigma(2, RR(1)) |> println"
   ]
  },
  {
   "cell_type": "markdown",
   "metadata": {},
   "source": [
    "<h2 style='color:#5E7AFF;margin-bottom:16px'>Formula <span style='color:orange'>13</span></h2>\n",
    "\\begin{equation}\n",
    "\\sigma_n(z) = \\sum_{ k = 0 }^{ \\lfloor n/2 \\rfloor }\n",
    "(-1)^{k} \\binom{n}{2k} a(z)^{n - 2k}\\, b(z)^{2 k}\n",
    "\\end{equation}"
   ]
  },
  {
   "cell_type": "code",
   "execution_count": null,
   "metadata": {},
   "outputs": [],
   "source": [
    "# Maple\n",
    "\n",
    "a := z -> ln(1/4 + z^2)/2:\n",
    "b := z -> arctan(2*z):\n",
    "c := z -> cosh(Pi*z):\n",
    "\n",
    "sigma := (n, z) -> add((-1)^k*binomial(n, 2*k)*b(z)^(2*k)*a(z)^(n-2*k), k=0..floor(n/2)):"
   ]
  },
  {
   "cell_type": "code",
   "execution_count": null,
   "metadata": {},
   "outputs": [],
   "source": [
    "# JuliaNemo\n",
    "\n",
    "a(z) = log(1/4 + z^2)/2\n",
    "b(z) = atan(2*z)\n",
    "c(z) = cosh(Pi*z) \n",
    "\n",
    "# Formula 13\n",
    "sigma(n, z) = sum((-1)^k*binomial(n,2*k)*b(z)^(2*k)*a(z)^(n-2*k) for k in 0:div(n,2)) \n",
    "\n",
    "sigma(1, 1) |> println\n",
    "sigma(2, 1) |> println"
   ]
  },
  {
   "cell_type": "markdown",
   "metadata": {},
   "source": [
    "<h2 style='color:#5E7AFF;margin-bottom:16px'>Formula <span style='color:orange'>14</span></h2>\n",
    "\\begin{equation}\n",
    "\\beta_n \\,=\\, \\pi  \\! \\int_{0}^{\\infty} \\frac{\\sigma_n(z)}{\\cosh^2(\\pi z)}\\, dz \n",
    "\\end{equation}"
   ]
  },
  {
   "cell_type": "code",
   "execution_count": null,
   "metadata": {},
   "outputs": [],
   "source": [
    "# Maple \n",
    "\n",
    "beta := proc(n) local z;\n",
    "   Pi*int(sigma(n, z)/cosh(Pi*z)^2, z=0..30);\n",
    "   evalf(%, 30) \n",
    "end:\n",
    "\n",
    "beta(0); beta(1); beta(2); beta(3);"
   ]
  },
  {
   "cell_type": "code",
   "execution_count": null,
   "metadata": {},
   "outputs": [],
   "source": [
    "# JuliaNemo\n",
    "\n",
    "beta(n) = Pi*integral(z -> sigma(n,z)/cosh(Pi*z)^2, 0:30)\n",
    "\n",
    "[beta(i) for i in 0:3] |> println"
   ]
  },
  {
   "cell_type": "markdown",
   "metadata": {},
   "source": [
    "<h2 style='color:#5E7AFF;margin-bottom:16px'>Formula <span style='color:orange'>15</span></h2>\n",
    "\\begin{equation}\n",
    "\\gamma_n \\,=\\, - \\frac{\\pi}{n+1} \\int_{0}^{\\infty}\n",
    "\\frac{\\sigma_{n+1}(z)}{\\cosh^2(\\pi z)}\\, dz \n",
    "\\end{equation}"
   ]
  },
  {
   "cell_type": "markdown",
   "metadata": {},
   "source": [
    "<h2 style='color:#5E7AFF;margin-bottom:16px'>Formula <span style='color:orange'>16</span></h2>\n",
    "\\begin{equation}\n",
    "\\gamma \\, =\\, - \\pi \\int_{0}^{\\infty} \\frac{\\log(z^2+1/4) }{2 \\cosh^2(\\pi z)} \\, dz \n",
    "\\end{equation}"
   ]
  },
  {
   "cell_type": "code",
   "execution_count": null,
   "metadata": {},
   "outputs": [],
   "source": [
    "# Mathematica \n",
    "\n",
    "NIntegrate[-Log[(z^2 + 1/4)^(1/4)] Sech[Pi z]^2, {z, -Infinity, Infinity}]\n",
    "N[EulerGamma / Pi]"
   ]
  },
  {
   "cell_type": "code",
   "execution_count": null,
   "metadata": {},
   "outputs": [],
   "source": [
    "# Maple\n",
    "\n",
    "# Formula 16\n",
    "gammapi := int(-log((z^2+1/4)^(1/4))*sech(Pi*z)^2, z = -10..10);\n",
    "evalf(gammapi, 20);\n",
    "evalf(gamma/Pi, 20);\n",
    "\n",
    "# Figure\n",
    "with(plots):\n",
    "p := plot(-log((z^2+1/4)^(1/4))*sech(Pi*z)^2, z=-1..1):\n",
    "\n",
    "display({p}, title = \"ln(2)/2\\n\", titlefont = [\"HELVETICA\", 14],\n",
    "caption = \"-log((x^2+1/4)^(1/4))*sech(Pi*x)^2\\n Euler's gamma is \n",
    "Pi times the integral of this function over the whole real line.\",\n",
    "captionfont = [\"HELVETICA\", 16]);"
   ]
  },
  {
   "cell_type": "markdown",
   "metadata": {},
   "source": [
    "<h2 style='color:#5E7AFF;margin-bottom:16px'>Formula <span style='color:orange'>17 &mdash; 21</span></h2>\n",
    "$$ \\beta_1\\, =\\, \\pi \\int_{0}^{\\infty} \\frac{a}{c^2} \\, dz \\\\ $$\n",
    "$$ \\beta_2\\, =\\, \\pi \\int_{0}^{\\infty} \\frac{a^2 - b^2}{ c^2} \\,dz \\\\ $$\n",
    "$$ \\beta_3\\, =\\, \\pi \\int_{0}^{\\infty} \\frac{a^3 - 3 a b^2 }{ c^2} \\,dz \\\\ $$\n",
    "$$ \\beta_4\\, =\\, \\pi \\int_{0}^{\\infty} \\frac{a^4 - 6 a^2b^2 + b^4}{c^2} \\,dz \\\\ $$\n",
    "$$ \\beta_5\\, =\\, \\pi \\int_{0}^{\\infty} \\frac{a^5 - 10 a^3b^2 + 5ab^4}{c^2} \\,dz $$"
   ]
  },
  {
   "cell_type": "code",
   "execution_count": null,
   "metadata": {},
   "outputs": [],
   "source": [
    "# Maple\n",
    "\n",
    "# Formula 17 -- 21\n",
    "s := n -> add((-1)^k*binomial(n, 2*k)*b^(2*k)*a^(n-2*k), k = 0..floor(n/2));\n",
    "for n from 0 to 5 do [n], simplify(expand(s(n)))/c^2 od;   "
   ]
  },
  {
   "cell_type": "code",
   "execution_count": null,
   "metadata": {},
   "outputs": [],
   "source": [
    "# Mathematica\n",
    "\n",
    "With[{a = Log[z^2 + 1/4] / 2, b = ArcTan[2 z], c = Cosh[Pi z] }, \n",
    " {Pi NIntegrate[ a / c^2, {z, 0, Infinity}],\n",
    "  Pi NIntegrate[ (a^2 - b^2) / c^2, {z, 0, Infinity}], \n",
    "  Pi NIntegrate[ (a^3 - 3 a b ^ 2) / c^2, {z, 0, Infinity}],\n",
    "  Pi NIntegrate[ (a^4 - 6 a^2 b^2 + b^4) / c^2, {z, 0, Infinity}], \n",
    "  Pi NIntegrate[ (a^5 - 10 a^3 b^2 + 5 a b^4) / c^2, {z, 0, Infinity}] }]\n",
    "\n",
    "Table[Pi NIntegrate[Re[Log[1/2 + I z]^n] / Cosh[Pi z]^2, {z, 0, Infinity}], {n, 1, 5}] // Chop"
   ]
  },
  {
   "cell_type": "markdown",
   "metadata": {},
   "source": [
    "<h2 style='color:#5E7AFF;margin-bottom:16px'>Formula <span style='color:orange'>22</span></h2>\n",
    "\\begin{equation}\n",
    "\\zeta(s, v) = \\sum_{k \\ge 0} (k+v) ^{-s}\n",
    "\\end{equation}"
   ]
  },
  {
   "cell_type": "markdown",
   "metadata": {},
   "source": [
    "<h2 style='color:#5E7AFF;margin-bottom:16px'>Formula <span style='color:orange'>23</span></h2>\n",
    "\\begin{equation}\n",
    "\\operatorname{B}(s, v) = - s \\, \\zeta(1-s, v)\n",
    "\\end{equation}"
   ]
  },
  {
   "cell_type": "markdown",
   "metadata": {},
   "source": [
    "<h2 style='color:#5E7AFF;margin-bottom:16px'>Formula <span style='color:orange'>24</span></h2>\n",
    "\\begin{equation}\n",
    " \\operatorname{B}(n, x) =  \\operatorname{B}_{n}(x), \\quad (n \\ge 0)\n",
    "\\end{equation}"
   ]
  },
  {
   "cell_type": "markdown",
   "metadata": {},
   "source": [
    "<h2 style='color:#5E7AFF;margin-bottom:16px'>Formula <span style='color:orange'>26</span></h2>\n",
    "\\begin{equation}\n",
    "b(s, v) = - \\frac{s\\, !}{(2 \\pi)^s} \\operatorname{Li}_s(e^{2 \\pi i v})\n",
    "\\end{equation}"
   ]
  },
  {
   "cell_type": "code",
   "execution_count": null,
   "metadata": {},
   "outputs": [],
   "source": [
    "# Maple \n",
    "bLi := (s, v) -> -s!*(2*Pi)^(-s)*polylog(s, exp(2*Pi*I*v))\n",
    "\n",
    "bLi(s, v);\n",
    "seq(2*bLi(2*n, 1/2), n = 2..6);  ???\n",
    "seq(bernoulli(2*n, 1/2), n = 2..6);"
   ]
  },
  {
   "cell_type": "code",
   "execution_count": null,
   "metadata": {},
   "outputs": [],
   "source": [
    "# Mathematica \n",
    "\n",
    "bLi[s_, v_] := -s! (2 Pi)^(-s) PolyLog[s, Exp[2 Pi I v]];\n",
    "\n",
    "Table[2 bLi[2 n, 1/2], {n, 2, 6}] // N\n",
    "Table[BernoulliB[2 n, 1/2], {n, 2, 6}] // N"
   ]
  },
  {
   "cell_type": "markdown",
   "metadata": {},
   "source": [
    "<h2 style='color:#5E7AFF;margin-bottom:16px'>Formula <span style='color:orange'>25</span></h2>\n",
    "<p style=\"color:rgb(155,0,0)\">\n",
    "\\begin{equation} \n",
    "\\operatorname{P}(s, v) = {\\rm e}^{-i \\pi s/2}\\, b(s, v)\n",
    "+ {\\rm e}^{i \\pi s/2} \\, b(s, 1-v)\n",
    "\\end{equation}"
   ]
  },
  {
   "cell_type": "code",
   "execution_count": null,
   "metadata": {},
   "outputs": [],
   "source": [
    "# Maple\n",
    "\n",
    "P := (s, v) -> exp(-I*Pi*s/2)*bLi(s,v) + exp(I*Pi*s/2)*bLi(s,1-v):\n",
    "P(s, v);\n",
    "seq(Re(P(n, 0.4)), n=0..9);\n",
    "seq(bernoulli(n, 0.4), n=0..9);"
   ]
  },
  {
   "cell_type": "code",
   "execution_count": null,
   "metadata": {},
   "outputs": [],
   "source": [
    "# Mathematica\n",
    "\n",
    "P[s_, v_ ] := Exp[-I Pi s / 2] bLi[s, v] + Exp[I Pi s / 2] bLi[s, 1 - v];"
   ]
  },
  {
   "cell_type": "markdown",
   "metadata": {},
   "source": [
    "<h2 style='color:#5E7AFF;margin-bottom:16px'>Formula <span style='color:orange'>27</span></h2>\n",
    "<p style=\"color:rgb(155,0,0)\">\n",
    "\\begin{equation}\n",
    "\\operatorname{B}(s, v) = \\operatorname{P}(s, v), \\  \\  \\text{for }  0 \\le v \\le 1  \\text{ and }  s > 1 \n",
    "\\end{equation}"
   ]
  },
  {
   "cell_type": "code",
   "execution_count": null,
   "metadata": {},
   "outputs": [],
   "source": [
    "# Maple\n",
    "\n",
    "# Interpolating Bernoulli polynomials (continous deformation)\n",
    "plot([bernoulli(2,x), P(2.25,x), P(2.5,x), P(2.75,x), bernoulli(3,x)], x = 0..1);   "
   ]
  },
  {
   "cell_type": "markdown",
   "metadata": {},
   "source": [
    "<h2 style='color:#5E7AFF;margin-bottom:16px'>Formula <span style='color:orange'>28</span></h2>\n",
    "<p style=\"color:rgb(155,0,0)\">\n",
    "\\begin{equation} \n",
    "(s-1)\\zeta(s) \\, = \\, 2 \\pi \\int_{-\\infty}^\\infty\\frac{(1/2+iy)^{1-s}}{(e^{\\pi y} + e^ {-\\pi y})^2}\\, dy\n",
    "\\end{equation}"
   ]
  },
  {
   "cell_type": "markdown",
   "metadata": {},
   "source": [
    "<h2 style='color:#5E7AFF;margin-bottom:16px'>Formula <span style='color:orange'>29</span></h2>\n",
    "<p style=\"color:rgb(155,0,0)\">\n",
    "\\begin{equation} \n",
    "\\operatorname{B}(s) \\, = \\, 2 \\pi \\int_{-\\infty}^\\infty\\frac{(1/2+iz)^{s}}\n",
    "{(e^{\\pi z} + e^ {-\\pi z})^2}\\, dz\n",
    "\\end{equation}"
   ]
  },
  {
   "cell_type": "markdown",
   "metadata": {},
   "source": [
    "<h2 style='color:#5E7AFF;margin-bottom:16px'>Formula <span style='color:orange'>30</span></h2>\n",
    "<p style=\"color:rgb(155,0,0)\">\n",
    "\\begin{equation} \n",
    "\\operatorname{B}(s, v) \\, = \\, 2 \\pi \\int_{-\\infty}^\\infty\\frac{(v-1/2 + i z)^{s}}\n",
    "{(e^{- \\pi z} + e^ {\\pi z})^2}\\, dz\n",
    "\\end{equation}"
   ]
  },
  {
   "cell_type": "markdown",
   "metadata": {},
   "source": [
    "<h2 style='color:#5E7AFF;margin-bottom:16px'>Formula <span style='color:orange'>31</span></h2>\n",
    "<p style=\"color:rgb(155,0,0)\">\n",
    "\\begin{equation} \n",
    "    \\operatorname{B}^{(n)}(s) = (-1)^n \\left( n \\zeta^{(n-1)}(1-s)\n",
    "    - s \\zeta^{(n)}(1-s) \\right) \n",
    "\\end{equation}"
   ]
  },
  {
   "cell_type": "markdown",
   "metadata": {},
   "source": [
    "<h2 style='color:#5E7AFF;margin-bottom:16px'>Formula <span style='color:orange'>32</span></h2>\n",
    "\\begin{equation}\n",
    "\\operatorname{B}^{(n)}(0) = \\beta_n  = - n \\, \\gamma_{n-1}  \\quad ( n \\ge 1) \n",
    "\\end{equation}"
   ]
  },
  {
   "cell_type": "markdown",
   "metadata": {},
   "source": [
    "<h2 style='color:#5E7AFF;margin-bottom:16px'>Formula <span style='color:orange'>33</span></h2>\n",
    "\\begin{equation}\n",
    "\\zeta^{(n)}(s, v) = \\frac{\\partial^n}{\\partial s^n}\\, \\zeta(s, v)\n",
    "\\end{equation}"
   ]
  },
  {
   "cell_type": "markdown",
   "metadata": {},
   "source": [
    "<h2 style='color:#5E7AFF;margin-bottom:16px'>Formula <span style='color:orange'>34</span></h2>\n",
    "\\begin{equation}\n",
    "B^{(n)}(s, v) =  (-1)^n \\, (n \\, \\zeta^{(n-1)}(1-s, v) - s\\, \\zeta^{(n)}(1-s, v)) \n",
    "\\end{equation}"
   ]
  },
  {
   "cell_type": "code",
   "execution_count": null,
   "metadata": {},
   "outputs": [],
   "source": [
    "Bder := (n, s) -> (-1)^n*(n*Zeta(n-1, 1-s) - s*Zeta(n, 1-s));\n",
    "Bder(1,s);\n",
    "series(Bder(1,s), s, 8);"
   ]
  },
  {
   "cell_type": "markdown",
   "metadata": {},
   "source": [
    "<h2 style='color:#5E7AFF;margin-bottom:16px'>Formula <span style='color:orange'>35</span></h2>\n",
    "\\begin{equation}\n",
    "\\operatorname{g}_n = - \\Gamma(n) \\,\\operatorname{B}^{(n)}(0,n)  \\qquad (n \\ge 1 )\n",
    "\\end{equation}"
   ]
  },
  {
   "cell_type": "markdown",
   "metadata": {},
   "source": [
    "<h2 style='color:#5E7AFF;margin-bottom:16px'>Examples</h2><pre>\n",
    "g[1] =     gamma \n",
    "g[2] =   2 gamma[1] \n",
    "g[3] =   6 gamma[2]    -3 log(2)^2 \n",
    "g[4] =  24 gamma[3]   -12 log(2)^3 -   8 log(3)^3 \n",
    "g[5] = 120 gamma[4]  -540 log(2)^4 -  40 log(3)^4 \n",
    "g[6] = 720 gamma[5] -6120 log(2)^5 - 240 log(3)^5 - 144 log(5)^5</pre>"
   ]
  },
  {
   "cell_type": "code",
   "execution_count": null,
   "metadata": {},
   "outputs": [],
   "source": [
    "function g(n) \n",
    "    if n = 0 then return 1\n",
    "    function alpha(n, k)\n",
    "        if k = 1 then return gamma(n) \n",
    "    return alpha(n, k-1) - log(k-1)^n /(k-1) \n",
    "return n! alpha(n-1, n)"
   ]
  },
  {
   "cell_type": "markdown",
   "metadata": {},
   "source": [
    "<h2 style='color:#5E7AFF;margin-bottom:16px'>Formula <span style='color:orange'>36</span></h2>\n",
    "\\begin{equation}\n",
    "\\operatorname{g}_n = \\operatorname{T}_{n, 0}\\, \\gamma_{n-1} - \\sum_{k=1}^{n-1} \\operatorname{T}_{n, k} \\log^{n-1}(k)\n",
    "\\end{equation}"
   ]
  },
  {
   "cell_type": "markdown",
   "metadata": {},
   "source": [
    "<pre>\n",
    "[1]      1 \n",
    "[2]      2, 0\n",
    "[3]      6, 0,         3\n",
    "[4]     24, 0,        12,      8\n",
    "[5]    120, 0,       540,     40, 0\n",
    "[6]    720, 0,      6120,    240, 0,   144\n",
    "[7]   5040, 0,     83160,   1680, 0,  1008,   840\n",
    "[8]  40320, 0,   1310400,  13440, 0,  8064,  6720,  5760\n",
    "[9] 362880, 0, 321012720, 120960, 0, 72576, 60480, 51840, 0</pre>"
   ]
  },
  {
   "cell_type": "code",
   "execution_count": null,
   "metadata": {},
   "outputs": [],
   "source": [
    "# Mathematica\n",
    "\n",
    "N[{\n",
    "    StieltjesGamma[0], \n",
    "    2 * StieltjesGamma[1], \n",
    "    6 * StieltjesGamma[2] - 3 * Log[2]^2,\n",
    "    24 * StieltjesGamma[3] - 12 * Log[2]^3 - 8 * Log[3]^3,\n",
    "    120 * StieltjesGamma[4] - 540 * Log[2]^4 - 40 * Log[3]^4,\n",
    "    720 * StieltjesGamma[5] - 6120 * Log[2]^5 - 240 * Log[3]^5 - 144 * Log[5]^5\n",
    "}, 50]"
   ]
  },
  {
   "cell_type": "markdown",
   "metadata": {},
   "source": [
    "<h2 style='color:#5E7AFF;margin-bottom:16px'>Formula <span style='color:orange'>37</span></h2>\n",
    "\\begin{equation}\n",
    "\\operatorname{T}_{n, p} = n! \\sum_{v=1}^{\\lambda_p(n-1)} \\frac{v^{n-1}}{p^v}\n",
    "\\end{equation}"
   ]
  },
  {
   "cell_type": "code",
   "execution_count": null,
   "metadata": {},
   "outputs": [],
   "source": [
    "ser[n_] := Expand[Series[Zeta[s, n],{s, 1, n}]];\n",
    "c[n_] := Expand[(-1)^n Coefficient[ser[n], s-1, n-1]];\n",
    "Table[N[c[n], 24], {n,0,6}]"
   ]
  },
  {
   "cell_type": "markdown",
   "metadata": {},
   "source": [
    "<h2 style='color:#5E7AFF;margin-bottom:16px'>Formula <span style='color:orange'>38</span></h2>\n",
    "\\begin{equation}\n",
    "\\zeta(s,v)=\\frac{1}{s-1}+\\sum_{n=0}^\\infty \\frac{(-1)^n}{n!} \\gamma_n(v) (s-1)^n\n",
    "\\end{equation}"
   ]
  },
  {
   "cell_type": "markdown",
   "metadata": {},
   "source": [
    "<h2 style='color:#5E7AFF;margin-bottom:16px'>Formula <span style='color:orange'>39</span></h2>\n",
    "<p style=\"color:rgb(155,0,0)\">\n",
    "\\begin{equation}\n",
    " \\frac{\\gamma_{n}(v)}{\\Gamma(v)}  = (-1)^n\n",
    " \\lim_{s \\rightarrow 0} \\left( n\\, \\zeta^{(n-1)}(1-s,v) - s\\, \\zeta^{(n)}(1-s,v) \\right) \n",
    "\\end{equation}"
   ]
  },
  {
   "cell_type": "markdown",
   "metadata": {},
   "source": [
    "<h2 style='color:#5E7AFF;margin-bottom:16px'>Formula <span style='color:orange'>40</span></h2>\n",
    "\\begin{equation}\n",
    "\\operatorname{B}^{(n)}(0, n ) = - n \\, \\gamma_{n-1}(n) \\qquad ( n \\ge 1) \n",
    "\\end{equation}"
   ]
  },
  {
   "cell_type": "markdown",
   "metadata": {},
   "source": [
    "<h2 style='color:#5E7AFF;margin-bottom:16px'>Formula <span style='color:orange'>41</span></h2>\n",
    "\\begin{equation}\n",
    " \\gamma_{n-1}(1) - \\gamma_{n-1}(n) \\ = \\,\n",
    " \\frac{1}{n!}\\,\\sum_{k=1}^{n-1} \\operatorname{T}_{n, k} \\log^{n-1}(k)\n",
    "\\end{equation}"
   ]
  },
  {
   "cell_type": "markdown",
   "metadata": {},
   "source": [
    "<h2 style='color:#5E7AFF;margin-bottom:16px'>Formula <span style='color:orange'>42</span></h2>\n",
    "\\begin{equation}\n",
    "\\operatorname{B}(s, v) = 1 - s \\sum_{n=0}^{\\infty} \\gamma_n(v) \\frac{s^n}{n!}\n",
    "\\end{equation}"
   ]
  },
  {
   "cell_type": "markdown",
   "metadata": {},
   "source": [
    "<h2 style='color:#5E7AFF;margin-bottom:16px'>Formula <span style='color:orange'>43</span></h2>\n",
    "<p style=\"color:rgb(155,0,0)\">\n",
    "\\begin{equation}\n",
    "\\beta_s(v) = 2 \\pi \\!\\int_{-\\infty}^{+\\infty}\n",
    "\\!\\frac{\\, \\left(\\log\\!\\big(v - \\frac12 + ix\\big) \\right)^s \\,}{ \\left( e^{-\\pi x} + e^{ \\pi x} \\right)^2 }\\,dx\n",
    "\\end{equation}"
   ]
  },
  {
   "cell_type": "code",
   "execution_count": null,
   "metadata": {},
   "outputs": [],
   "source": [
    "# Maple\n",
    "\n",
    "IntBeta := (s, v) -> int(log(v - 1/2 + I*z)^s / (exp(-Pi*z) + exp(Pi*z))^2, z = -10..10 ):\n",
    "IntBeta(s, v);\n",
    "\n",
    "GenBeta := (s,v) -> evalf(2*Pi*IntBeta(s,v)):\n",
    "GenBeta(s, v);\n",
    "\n",
    "for n from 0 to 5 do [n], evalf(GenBeta(n,1/2), 24) od;"
   ]
  },
  {
   "cell_type": "markdown",
   "metadata": {},
   "source": [
    "<h2 style='color:#5E7AFF;margin-bottom:16px'>Formula <span style='color:orange'>44</span></h2>\n",
    "<p style=\"color:rgb(155,0,0)\">\n",
    "\\begin{equation}\n",
    "\\operatorname{B}(s,v) \\, = \\, \\sum _{n=0}^{\\infty }\\beta_{n}(v) \\frac {s^n}{n!}\\, \n",
    "\\end{equation}"
   ]
  },
  {
   "cell_type": "markdown",
   "metadata": {},
   "source": [
    "<h2 style='color:#5E7AFF;margin-bottom:16px'>Formula <span style='color:orange'>45</span></h2>\n",
    "<p style=\"color:rgb(155,0,0)\">\n",
    "\\begin{equation}\n",
    "- \\operatorname{B}'(0) =  \\gamma \n",
    "\\end{equation}"
   ]
  },
  {
   "cell_type": "markdown",
   "metadata": {},
   "source": [
    "<h2 style='color:#5E7AFF;margin-bottom:16px'>Definition</h2>\n",
    "The logarithmic derivative of a function\n",
    "\\begin{equation}\n",
    "\\mathcal{L}F(s) = \\frac{ {F}'(s)}{ {F}(s)}\n",
    "\\end{equation}"
   ]
  },
  {
   "cell_type": "markdown",
   "metadata": {},
   "source": [
    "<h2 style='color:#5E7AFF;margin-bottom:16px'>Formula <span style='color:orange'>46</span></h2>\n",
    "\\begin{equation}\n",
    "-\\mathcal{L}B(s)\n",
    "\\,=\\, \\mathcal{L}\\zeta(1-s) - \\frac{1}{s}\n",
    "\\end{equation}"
   ]
  },
  {
   "cell_type": "code",
   "execution_count": null,
   "metadata": {},
   "outputs": [],
   "source": [
    "# Mathematica\n",
    "\n",
    "LogDerivative[f_] := Derivative[1][Composition[Log, f]];\n",
    "LDBernoulli[s_] := 1/s - LogDerivative[Zeta][s];\n",
    "\n",
    "Normal[Series[1/s - Zeta'[1 - s] / Zeta[1 - s], {s, 0, 4}]];\n",
    "N[CoefficientList[%, s], 24] // ScientificForm\n",
    "\n",
    "# -0.577216 - 0.187546 s - 0.0516886 s^2 - 0.0147517 s^3 - 0.00452448 s^4"
   ]
  },
  {
   "cell_type": "markdown",
   "metadata": {},
   "source": [
    "<h2 style='color:#5E7AFF;margin-bottom:16px'>Formula <span style='color:orange'>47</span></h2>\n",
    "\\begin{equation}\n",
    " \\mathcal{L}B\\left(\\frac12\\right) + 2 \\, =\n",
    "\\,  - \\frac{2}{\\pi}\\int_0^{\\infty} \\log\\left|\\frac{\\zeta(\\frac{1}{2}+it)}\n",
    "{\\zeta(\\frac{1}{2})}\\right|\\ \\frac{dt}{t^2}\n",
    "\\end{equation}"
   ]
  },
  {
   "cell_type": "code",
   "execution_count": null,
   "metadata": {},
   "outputs": [],
   "source": [
    "# Mathematica\n",
    "\n",
    "N[LDBernoulli[1/2] + 2, 24]\n",
    "# 1.31390829038716720888352"
   ]
  },
  {
   "cell_type": "markdown",
   "metadata": {},
   "source": [
    "<h2 style='color:#5E7AFF;margin-bottom:16px'>Formula <span style='color:orange'>48</span></h2>\n",
    "\\begin{equation} \n",
    "\\mathcal{L}B(s) - \\mathcal{L}\\zeta(s)\n",
    "\\,=\\,   \\mathcal{L}\\Gamma(s)  + \\frac{1}{s}  - \\frac{\\pi}{2} \\tan \\left(\\frac{s \\pi}{2} \\right) -\\log(2\\pi)\n",
    "\\end{equation} "
   ]
  },
  {
   "cell_type": "code",
   "execution_count": null,
   "metadata": {},
   "outputs": [],
   "source": [
    "# Maple\n",
    "\n",
    "B := s -> `if`(s=0, 1, -s*Zeta(1-s));\n",
    "Bder := (n, s) -> (-1)^n*(n*Zeta(n-1, 1-s) - s*Zeta(n, 1-s));\n",
    "\n",
    "Lhs := s -> Bder(1, s)/B(s) - Zeta(1, s)/Zeta(0, s); \n",
    "Rhs := s -> Psi(s) + 1/s - (Pi/2)*tan(s*Pi/2) - log(2*Pi);\n",
    "seq([Lhs(n + 1/2), Rhs(n + 1/2)], n=0..6): evalf(%);"
   ]
  },
  {
   "cell_type": "markdown",
   "metadata": {},
   "source": [
    "<h2 style='color:#5E7AFF;margin-bottom:16px'>Formula <span style='color:orange'>49</span></h2>\n",
    "\\begin{equation}\n",
    "\\operatorname{\\Upsilon(s)} \\,=\\,\n",
    "\\mathcal{L}\\zeta\\left(s - 1/2 \\right)\n",
    "- \\mathcal{L}B(s)\\left(s - 1/2 \\right)\n",
    "\\end{equation}"
   ]
  },
  {
   "cell_type": "markdown",
   "metadata": {},
   "source": [
    "<p style=\"color:red\">??????</p>"
   ]
  },
  {
   "cell_type": "code",
   "execution_count": null,
   "metadata": {},
   "outputs": [],
   "source": [
    "# Maple\n",
    "\n",
    "Y := s -> Zeta(1, s-1/2)/Zeta(0, s-1/2) - Bder(1, s-1/2)/B(s-1/2);\n",
    "Y(0); evalf(%);"
   ]
  },
  {
   "cell_type": "code",
   "execution_count": null,
   "metadata": {},
   "outputs": [],
   "source": [
    "# Mathematica\n",
    "\n",
    "Y[s_] := PolyGamma[s-1/2] + (s-1/2) - (Pi/2) Tan[(s-1/2) Pi/2] - Log[2 Pi];\n",
    "Table[Chop[N[Y[s]]], {s, 0, 7}]\n",
    "Plot[Ysilon[s], {s, -35, 35}]"
   ]
  },
  {
   "cell_type": "markdown",
   "metadata": {},
   "source": [
    "<h2 style='color:#5E7AFF;margin-bottom:16px'>Series</h2>\n",
    "\\begin{equation}\n",
    "\\mathcal{L}B(s) = \\beta_{{1}} +(\\beta_{{2}} - {\\beta_{{1}}}^{2} ) \\,s +(\\beta_{{3}} - 3\\,\\beta_{{1}}\\beta_{{2}} + 2\\,{\\beta_{{1}}}^{3}) \\,s^2/2 + \n",
    "\\\\ (\\beta_{{4}} - 3\\, {\\beta_{{2}}}^{2} -4\\,\\beta_{{1}}\\beta_{{3}} +12\\,{\\beta_{{1}}}^{2}\\beta_{{2}} -6\\,{\\beta_{{1}}}^{4} ) \\,s^3/6 \\ + \\ O(s^4) \n",
    "\\end{equation}"
   ]
  },
  {
   "cell_type": "markdown",
   "metadata": {},
   "source": [
    "<h2 style='color:#5E7AFF;margin-bottom:16px'>Formula <span style='color:orange'>50</span></h2>\n",
    "\n",
    "$$ \\mathcal{L}B(s)  =  \\sum_{n \\ge 1} b_n s^{n-1} $$ \n",
    "\n",
    "\\begin{equation}\n",
    "b_n = [ s^n ]   \\log \\bigg( \\sum_{n \\ge 0} \\beta_n  \\frac{s^n}{n!} \\bigg)\n",
    "\\end{equation}"
   ]
  },
  {
   "cell_type": "code",
   "execution_count": null,
   "metadata": {},
   "outputs": [],
   "source": [
    "# Maple\n",
    "# Bernoulli cumulants (50)\n",
    "\n",
    "b := s -> sum(beta(n)*s^n/n!, n=0..4); \n",
    "beta(0):=1;\n",
    "taylor(diff(b(s),s)/b(s),s=0): expand(%):\n",
    "collect(%,s): simplify(%): b:=%:\n",
    "seq(print(sort(n!*coeff(b,s,n))), n=0..3);\n",
    "\n",
    "beta := n -> [1,\n",
    "-0.5772156649015328606065120900824024310421,\n",
    "0.1456316909673534497211727517498026382754,\n",
    "0.0290710895786169554535911581056375880771,\n",
    "-0.0082153376812133834646401861710135371428][n+1]:\n",
    "\n",
    "seq(print(evalf(n!*coeff(b,s,n))),n=0..3);\n",
    "\n",
    "# Maple\n",
    "# A263634 \n",
    "M := 6:\n",
    "A := add(b[i]*x^i/i!, i=1..M+1):\n",
    "S := series(log(1 + A), x, M+1):\n",
    "Q := k -> sort(expand(k!*coeff(S, x, k))):\n",
    "seq(print((Q(k))), k=1..M);"
   ]
  },
  {
   "cell_type": "code",
   "execution_count": null,
   "metadata": {},
   "outputs": [],
   "source": [
    "    [0] 1\n",
    "    [1] 1,   -1\n",
    "    [2] 1,   -3,   2\n",
    "    [3] 1, [- 3,  -4],  12, -6\n",
    "    [4] 1, [-10,  -5], [30, 20], -60, 24\n",
    "    [5] 1, [-10, -15,  -6], [30, 120, 30], [-270, -120], 360, -120"
   ]
  },
  {
   "cell_type": "markdown",
   "metadata": {},
   "source": [
    "<h2 style='color:#5E7AFF;margin-bottom:16px'>Formula <span style='color:orange'>51</span></h2>\n",
    "\\begin{equation}\n",
    "\\operatorname{W}(n,k) \\,= \\, (-1)^k  k! \\genfrac\\{\\}{0pt}{}{n+1}{k+1}\n",
    "\\end{equation}"
   ]
  },
  {
   "cell_type": "code",
   "execution_count": null,
   "metadata": {},
   "outputs": [],
   "source": [
    "# Maple\n",
    "\n",
    "Wnum := (a, n) -> add((-1)^k*k!*Stirling2(n + 1, k + 1)*a(k), k = 0..n);"
   ]
  },
  {
   "cell_type": "markdown",
   "metadata": {},
   "source": [
    "<h2 style='color:#5E7AFF;margin-bottom:16px'>Formula <span style='color:orange'>52</span></h2>\n",
    "\\begin{equation}\n",
    "b_n \\,= \\, \\sum_{k=0}^n \\,  \\operatorname{W}(n,k)\\, a_k \n",
    "\\end{equation}"
   ]
  },
  {
   "cell_type": "code",
   "execution_count": null,
   "metadata": {},
   "outputs": [],
   "source": [
    "# Maple\n",
    "\n",
    "Wtrans := proc(a, n) add(Wnum(n, k)*a(k), k=0..n) end:\n",
    "\n",
    "for n from 0 to 4 do Wtrans(a, n) od;"
   ]
  },
  {
   "cell_type": "markdown",
   "metadata": {},
   "source": [
    "<h2 style='color:#5E7AFF;margin-bottom:16px'>Formula <span style='color:orange'>53</span></h2>\n",
    "<p style=\"color:rgb(155,0,0)\">\n",
    "\\begin{equation}\n",
    "\\operatorname{W}\\!\\!_{m}(a) \\, = \\,\n",
    "\\sum_{n=0}^m (-1)^n \\binom{m}{n} x^{m-n}\n",
    "\\sum_{k=0}^n \\operatorname{W}(n,k) a_k \n",
    "\\end{equation}"
   ]
  },
  {
   "cell_type": "code",
   "execution_count": null,
   "metadata": {},
   "outputs": [],
   "source": [
    "# Maple\n",
    "\n",
    "W := proc(f, m) add((-1)^n*binomial(m, n)*x^(m - n)*Wtrans(a, n), n = 0..m) end:\n",
    "\n",
    "a := k -> 1/(k + 1);\n",
    "seq(print(W(a, n), bernoulli(n, x)), n=0..9);"
   ]
  },
  {
   "cell_type": "markdown",
   "metadata": {},
   "source": [
    "$$ \\mathtt{a_{{0}}} \\\\ $$ \n",
    "$$ \\mathtt{a_{{0}}x - (a_{{0}} - a_{{1}}}) \\\\ $$ \n",
    "$$ \\mathtt{a_{{0}}{x}^{2} -  2\\!\\left( a_{{0}} - a_{{1}} \\right)  x         +          \\left(a_{{0}} - 3a_{{1}}+2a_{{2}} \\right) }  \\\\ $$ \n",
    "$$ \\mathtt{a_{{0}}{x}^{3} -  3\\!\\left( a_{{0}} - a_{{1}} \\right)  {x}^{2} +  3\\! \\left( a_{{0}} - 3a_{{1}} + 2a_{{2}} \\right) x - \\left(a_{{0}} - 7a_{{1}} + 12a_{{2}} - 6a_{{3}} \\right) } \\\\ $$ \n",
    "$$ \\mathtt{a_{{0}}{x}^{4}-4\\!\\left(a_{{0}}-a_{{1}}\\right){x}^{3}+6\\!\\left(a_{{0}}-3a_{{1}}+2a_{{2}}\\right){x}^{2}-4\\!\\left(a_{{0}}-7a_{{1}}+12a_{{2}}-6a_{{3}} \\right)\\!x}\\mathtt{+\\left(a_{{0}}-15a_{{1}}+50a_{{2}}-60a_{{3}}+24a_{{4}}\\right)} $$ \n"
   ]
  },
  {
   "cell_type": "markdown",
   "metadata": {},
   "source": [
    "<h2 style='color:#5E7AFF;margin-bottom:16px'>Formula <span style='color:orange'>54</span></h2>\n",
    "\\begin{equation}\n",
    "\\operatorname{W}\\!\\!_{m}(a) \\, = \\, \\sum_{n=0}^m a_n \\sum_{k=0}^n (-1)^{k} \\binom{n}{k}  (x-k-1)^m \n",
    "\\end{equation}"
   ]
  },
  {
   "cell_type": "code",
   "execution_count": null,
   "metadata": {},
   "outputs": [],
   "source": [
    "# Maple\n",
    "\n",
    "W2 := proc(a, m) add(a(n)*add((-1)^k*binomial(n, k)*(x - k - 1)^m, k = 0..n)) end:\n",
    "\n",
    "a := k -> 1/(k + 1);\n",
    "seq(print(W2(a, n), bernoulli(n, x)), n=0..9);"
   ]
  },
  {
   "cell_type": "markdown",
   "metadata": {},
   "source": [
    "<h2 style='color:#5E7AFF;margin-bottom:16px'>Formula <span style='color:orange'>55</span></h2>\n",
    "\\begin{equation}\n",
    "\\operatorname{B}_m \\, = \\, (-1)^m \\sum_{n=0}^m \\frac{1}{n+1}\n",
    " \\sum_{k=0}^n (-1)^{k} \\binom{n}{k} k^m, \\quad m \\ge 0\n",
    "\\end{equation}"
   ]
  },
  {
   "cell_type": "code",
   "execution_count": null,
   "metadata": {},
   "outputs": [],
   "source": []
  },
  {
   "cell_type": "markdown",
   "metadata": {},
   "source": [
    "<h2 style='color:#5E7AFF;margin-bottom:16px'>Formula <span style='color:orange'>56</span></h2>\n",
    "<p style=\"color:rgb(155,0,0)\">\n",
    "\\begin{equation}\n",
    "\\operatorname{B}(s,v)\\,\n",
    "=\\,\\sum_{n=0}^\\infty\\frac{1}{\\,n+1\\,}\n",
    "\\sum_{k=0}^n (-1)^k \\binom{n}{k}(k+v)^{s} \n",
    "\\end{equation}"
   ]
  },
  {
   "cell_type": "markdown",
   "metadata": {},
   "source": [
    "<h2 style='color:#5E7AFF;margin-bottom:16px'>Formula <span style='color:orange'>57</span></h2>\n",
    "\\begin{equation}\n",
    "\\beta_{s}(v) \\,=\\,  \\sum_{n=0}^\\infty\\frac{1}{\\,n+1\\,\n",
    " }\\sum_{k=0}^n (-1)^k \\binom{n}{k} (\\ln(k+v))^{s} \n",
    "\\end{equation}"
   ]
  },
  {
   "cell_type": "markdown",
   "metadata": {},
   "source": [
    "<h2 style='color:#5E7AFF;margin-bottom:16px'>Formula <span style='color:orange'>58</span></h2>\n",
    "\\begin{equation}\n",
    "    {\\tau(s)}  = \\tau^{-s} + ( -\\tau)^{-s} \n",
    "\\end{equation}"
   ]
  },
  {
   "cell_type": "code",
   "execution_count": null,
   "metadata": {},
   "outputs": [],
   "source": [
    "tau := s -> (2*Pi*I)^(-s) + (-2*Pi*I)^(-s);\n",
    "plot([tau(s), tau(1-s)], s=-1..2);"
   ]
  },
  {
   "cell_type": "markdown",
   "metadata": {},
   "source": [
    "<h2 style='color:#5E7AFF;margin-bottom:16px'>Formula <span style='color:orange'>59</span></h2>\n",
    "<p style=\"color:rgb(155,0,0)\">\n",
    "\\begin{equation}\n",
    "\\zeta\\!\\left(1 - s\\right) =   \\zeta\\!\\left(s\\right)  \\tau(s) \\,  \\Gamma(s)\n",
    "\\qquad (s \\in \\mathbb{C} \\setminus \\{0, 1 \\} )\n",
    "\\end{equation}"
   ]
  },
  {
   "cell_type": "code",
   "execution_count": null,
   "metadata": {},
   "outputs": [],
   "source": []
  },
  {
   "cell_type": "markdown",
   "metadata": {},
   "source": [
    "<h2 style='color:#5E7AFF;margin-bottom:16px'>Formula <span style='color:orange'>60</span></h2>\n",
    "\\begin{equation}\n",
    "\\operatorname{B}(s) = - \\zeta(s)\\, \\tau(s)\\, s! \n",
    "\\end{equation}"
   ]
  },
  {
   "cell_type": "code",
   "execution_count": null,
   "metadata": {},
   "outputs": [],
   "source": [
    "L := limit(-factorial(s)*Zeta(s)*tau(s), s = 1, complex);\n",
    "B2 := s -> `if`(s=1, L, -factorial(s)*Zeta(s)*tau(s)):\n",
    "seq(B2(n), n=0..12);"
   ]
  },
  {
   "cell_type": "markdown",
   "metadata": {},
   "source": [
    "<h2 style='color:#5E7AFF;margin-bottom:16px'>Formula <span style='color:orange'>61</span></h2> \n",
    "<p style=\"color:rgb(155,0,0)\">\n",
    " \\begin{equation} \n",
    "      \\operatorname{B}(s) =  \\frac{\\operatorname{B}(1-s)}{1-s}\n",
    "      \\tau(s)\\, s! \n",
    "\\end{equation}"
   ]
  },
  {
   "cell_type": "code",
   "execution_count": null,
   "metadata": {},
   "outputs": [],
   "source": [
    "# Maple\n",
    "\n",
    "Flhs := s -> B(s)/B(1 - s);\n",
    "Frhs := s -> s!*tau(s)/(1 - s);\n",
    "Frrhs := s -> ((s/2)!/((1 - s)/2)!)*Pi^(1/2 - s);\n",
    "plot([Flhs(s), Frhs(s), Frrhs(s)], s = -8..8);"
   ]
  },
  {
   "cell_type": "markdown",
   "metadata": {},
   "source": [
    "<h2 style='color:#5E7AFF;margin-bottom:16px'>Formula <span style='color:orange'>62</span></h2>\n",
    "\\begin{equation}\n",
    "\\operatorname{B}(1-s) \\, \\left( \\frac{s}{2} \\right) ! \\ \\pi^{-s/2} \\,  = \\,\n",
    "\\operatorname{B}(s) \\left( \\frac{1-s}{2} \\right)! \\ \\pi^{-(1-s)/2}\n",
    "\\end{equation}"
   ]
  },
  {
   "cell_type": "code",
   "execution_count": null,
   "metadata": {},
   "outputs": [],
   "source": [
    "Flhs := s -> B(1-s)*(s/2)!*Pi^(-s/2);\n",
    "Frhs := s -> B(s)*((1 - s)/2)!*Pi^(-(1-s)/2);\n",
    "plot([Flhs(s), -Frhs(s)], s=-8..9);"
   ]
  },
  {
   "cell_type": "markdown",
   "metadata": {},
   "source": [
    "<h2 style='color:#5E7AFF;margin-bottom:16px'>Formula <span style='color:orange'>63</span></h2>\n",
    "\\begin{equation}\n",
    "\\xi(s) \\,  = \\, \\left( \\frac{s}{2} \\right) !  \\ \\pi^{-s/2}\\, (s-1) \\zeta(s)\n",
    "\\end{equation}"
   ]
  },
  {
   "cell_type": "code",
   "execution_count": null,
   "metadata": {},
   "outputs": [],
   "source": [
    "xi := s -> (s/2)!*Pi^(-s/2)*(s - 1)*Zeta(s):\n",
    "xideriv :=  n -> limit(diff(xi(s), s$n), s = 0):"
   ]
  },
  {
   "cell_type": "markdown",
   "metadata": {},
   "source": [
    "<h2 style='color:#5E7AFF;margin-bottom:16px'>Formula <span style='color:orange'>64</span></h2>\n",
    "<p style=\"color:rgb(155,0,0)\">\n",
    "\\begin{equation}\n",
    "\\operatorname{B}(s) \\, = \\, \\xi(s) \\,\n",
    "\\frac{ \\pi^{(1-s)/2}}{\\left( (1-s)/2 \\right)! }\n",
    "\\end{equation}"
   ]
  },
  {
   "cell_type": "code",
   "execution_count": null,
   "metadata": {},
   "outputs": [],
   "source": [
    "# Formula 52\n",
    "B3 := s -> `if`(s=1, B1, (B(1-s)/(1-s))*tau(s)*factorial(s)):\n",
    "plot([B3(s), -Bfe(s)], s=-1..3);\n",
    "\n",
    "F55rhs := s -> xi(s)*Pi^((1-s)/2)/((1-s)/2)!;\n",
    "plot([B(s), F55rhs(s)], s=-8..9);"
   ]
  },
  {
   "cell_type": "markdown",
   "metadata": {},
   "source": [
    "<h2 style='color:#5E7AFF;margin-bottom:16px'>Formula <span style='color:orange'>65</span></h2>\n",
    "<p style=\"color:rgb(155,0,0)\">\n",
    "\\begin{equation}\n",
    "\\operatorname{B}(1-s)  \\,  = \\, \\xi(s) \\,\n",
    "\\frac{ \\pi^{s/2} }{ \\left( s/2 \\right)! }\n",
    "\\end{equation}"
   ]
  },
  {
   "cell_type": "code",
   "execution_count": null,
   "metadata": {},
   "outputs": [],
   "source": [
    "Frhs := s -> xi(s)*Pi^(s/2)/(s/2)!:\n",
    "plot([B(1-s), F56rhs(s)], s = -8..9);"
   ]
  },
  {
   "cell_type": "markdown",
   "metadata": {},
   "source": [
    "<h2 style='color:#5E7AFF;margin-bottom:16px'>Formula <span style='color:orange'>66</span></h2>\n",
    "\\begin{equation}\n",
    "\\operatorname{H}_{\\zeta}(s) = \\frac12 \\prod_{\\Im {\\rho} > 0 } \\left(\\left(1 - \\frac{s}{\\rho} \\right)\\left(1 - \\frac{s}{1-\\rho} \\right)\\right)\n",
    "\\end{equation}"
   ]
  },
  {
   "cell_type": "code",
   "execution_count": null,
   "metadata": {},
   "outputs": [],
   "source": []
  },
  {
   "cell_type": "markdown",
   "metadata": {},
   "source": [
    "<h2 style='color:#5E7AFF;margin-bottom:16px'>Formula <span style='color:orange'>67</span></h2>\n",
    "\\begin{equation}\n",
    "\\zeta(s) = \\frac{\\pi^\\frac{s}{2}}{(s-1)\\Gamma\\left(\\frac{s}{2}+1\\right)} \\operatorname{H}_{\\zeta}(s)\n",
    "\\end{equation}"
   ]
  },
  {
   "cell_type": "markdown",
   "metadata": {},
   "source": [
    "<h2 style='color:#5E7AFF;margin-bottom:16px'>Formula <span style='color:orange'>68</span></h2>\n",
    "<p style=\"color:rgb(155,0,0)\">\n",
    "\\begin{equation}\n",
    "\\operatorname{B}(s) =  \\frac{\\pi^{(1-s)/2}}{((1-s)/2)!} \\operatorname{H}_{\\zeta}(s)\n",
    "\\end{equation}"
   ]
  },
  {
   "cell_type": "code",
   "execution_count": null,
   "metadata": {},
   "outputs": [],
   "source": [
    "# Maple\n",
    "\n",
    "Frhs := s -> xi(s)*Pi^(s/2)/(s/2)!;\n",
    "plot([B(1-s), Frhs(s)], s = -8..9);"
   ]
  },
  {
   "cell_type": "markdown",
   "metadata": {},
   "source": [
    "<h2 style='color:#5E7AFF;margin-bottom:16px'>Formula <span style='color:orange'>69</span></h2>\n",
    "\\begin{equation}\n",
    "\\zeta^{*}(s) = \\zeta(s)(1- 2^{1-s})\n",
    "\\end{equation}"
   ]
  },
  {
   "cell_type": "code",
   "execution_count": null,
   "metadata": {},
   "outputs": [],
   "source": [
    "# Maple \n",
    "# alternating Zeta\n",
    "\n",
    "altZeta1 := limit(Zeta(s)*(1-2^(1-s)), s=1, complex);\n",
    "\n",
    "altZeta := s -> `if`(s=1, altZeta1, Zeta(s)*(1-2^(1-s))):\n",
    "seq(altZeta(n), n=0..9);"
   ]
  },
  {
   "cell_type": "markdown",
   "metadata": {},
   "source": [
    "<h2 style='color:#5E7AFF;margin-bottom:16px'>Formula <span style='color:orange'>70</span></h2>\n",
    "\\begin{equation}\n",
    "\\operatorname{B}^{*}(s) = -s \\zeta^{*}(1-s)\n",
    "\\end{equation}"
   ]
  },
  {
   "cell_type": "code",
   "execution_count": null,
   "metadata": {},
   "outputs": [],
   "source": [
    "# Maple  \n",
    "# alternating Bernoulli function\n",
    "\n",
    "altB := s -> -s*altZeta(1-s):"
   ]
  },
  {
   "cell_type": "markdown",
   "metadata": {},
   "source": [
    "<h2 style='color:#5E7AFF;margin-bottom:16px'>Formula <span style='color:orange'>71</span></h2>\n",
    "\\begin{equation}\n",
    "\\operatorname{B}^{*}(s) = \\operatorname{B}(s) \\left( 1-2^{s} \\right)\n",
    "\\end{equation}"
   ]
  },
  {
   "cell_type": "code",
   "execution_count": null,
   "metadata": {},
   "outputs": [],
   "source": [
    "# Maple  \n",
    "# alternating Bernoulli function\n",
    "\n",
    "altB2 := s -> B(s)*(1 - 2^s):"
   ]
  },
  {
   "cell_type": "markdown",
   "metadata": {},
   "source": [
    "<h2 style='color:#5E7AFF;margin-bottom:16px'>Formula <span style='color:orange'>72</span></h2>\n",
    "<p style=\"color:rgb(155,0,0)\">\n",
    "\\begin{equation}\n",
    "    \\operatorname{B}^{*}(s) = {s!}\\ \\zeta(s)\\, \\tau(s) \\left(2^{s} -1 \\right)\n",
    "\\end{equation}"
   ]
  },
  {
   "cell_type": "code",
   "execution_count": null,
   "metadata": {},
   "outputs": [],
   "source": [
    "# Maple\n",
    "\n",
    "altB2 := s -> s!*Zeta(s)*tau(s)*(2^s - 1):\n",
    "seq([altB(n + 1/2), altB2(n + 1/2)], n = 0..6);"
   ]
  },
  {
   "cell_type": "markdown",
   "metadata": {},
   "source": [
    "<h2 style='color:#5E7AFF;margin-bottom:16px'>Formula <span style='color:orange'>73</span></h2>\n",
    "\\begin{equation}\n",
    "\\operatorname{B}^{*}_n = \\operatorname{B}^{*}(n)\n",
    "\\end{equation}"
   ]
  },
  {
   "cell_type": "code",
   "execution_count": null,
   "metadata": {},
   "outputs": [],
   "source": [
    "# Maple\n",
    "\n",
    "altBnum := n -> altB(n):\n",
    "seq(altBnum(n), n=0..16);"
   ]
  },
  {
   "cell_type": "markdown",
   "metadata": {},
   "source": [
    "<h2 style='color:#5E7AFF;margin-bottom:16px'>Formula <span style='color:orange'>x</span></h2>\n",
    "\\begin{equation}\n",
    "\\operatorname{G}(s) = 2 \\operatorname{B}^{*}(s)\n",
    "\\end{equation}"
   ]
  },
  {
   "cell_type": "code",
   "execution_count": null,
   "metadata": {},
   "outputs": [],
   "source": [
    "# Maple\n",
    "\n",
    "# Genocchi numbers A226158\n",
    "# Twice the alternating Bernoulli numbers\n",
    "Genocchi := s -> 2*altB(s):\n",
    "seq(Genocchi(n), n = 0..12);\n",
    "\n",
    "# Expressed by Euler polynomials\n",
    "seq(-n*euler(n-1, 1), n = 1..12); "
   ]
  },
  {
   "cell_type": "markdown",
   "metadata": {},
   "source": [
    "<h2 style='color:#5E7AFF;margin-bottom:16px'>Formula <span style='color:orange'>74</span></h2>\n",
    "\\begin{equation}\n",
    "\\zeta^{*}(s, x) \\, =\\, \\sum_{n=0}^{\\infty} \\frac{(-1)^n}{(n+x)^s},  \\quad \\text{for } \\Re(s) > 0\n",
    "\\end{equation}"
   ]
  },
  {
   "cell_type": "markdown",
   "metadata": {},
   "source": [
    "<h2 style='color:#5E7AFF;margin-bottom:16px'>Formula <span style='color:orange'>75</span></h2>\n",
    "\\begin{equation}\n",
    "\\zeta^{*}(s, x) \\, =\\, 2^{-s} \\left(\\zeta(s, x/2) - \\zeta(s, (x+1)/2)  \\right)\n",
    "\\end{equation}"
   ]
  },
  {
   "cell_type": "code",
   "execution_count": null,
   "metadata": {},
   "outputs": [],
   "source": [
    "# Maple\n",
    "# alternating Hurwitz Zeta\n",
    "\n",
    "altHZeta1 := x -> limit(Zeta(0,s,x)*(1-2^(1-s)), s=1, complex):\n",
    "altHZeta := (s, x) -> `if`(x=1, altZeta(s),\n",
    "                      `if`(s=1, altHZeta1, \n",
    "                      2^(-s)*(Zeta(0,s,x/2) - Zeta(0,s,(x+1)/2)))):\n",
    "seq(altHZeta(n, 1), n=3..9);"
   ]
  },
  {
   "cell_type": "markdown",
   "metadata": {},
   "source": [
    "<h2 style='color:#5E7AFF;margin-bottom:16px'>Formula <span style='color:orange'>76</span></h2>\n",
    "\\begin{equation}\n",
    "\\operatorname{B}^{*}_n(x) \\, = \\, -n \\zeta^{*}(1 - n, x)  \n",
    "\\end{equation}"
   ]
  },
  {
   "cell_type": "code",
   "execution_count": null,
   "metadata": {},
   "outputs": [],
   "source": [
    "# Maple\n",
    "# alternating Bernoulli polynomials\n",
    "\n",
    "altBpoly := (n, x) -> -n*altHZeta(1-n, x):"
   ]
  },
  {
   "cell_type": "markdown",
   "metadata": {},
   "source": [
    "<h2 style='color:#5E7AFF;margin-bottom:16px'>Formula <span style='color:orange'>77</span></h2>\n",
    "<p style=\"color:rgb(155,0,0)\">\n",
    "\\begin{equation} \n",
    " 2   \\operatorname{B}^{*}_{n}(x) \\,\n",
    "= \\, 2^n \\left( \\operatorname{B}_n\\left(\\frac{x}{2}\\right) -\n",
    "\\operatorname{B}_n\\left( \\frac{x+1}{2}\\right) \\right)\n",
    "\\end{equation}"
   ]
  },
  {
   "cell_type": "code",
   "execution_count": null,
   "metadata": {},
   "outputs": [],
   "source": [
    "# Maple\n",
    "# Genocchi polynomials\n",
    "\n",
    "Gpoly := (n, x) -> 2^n*(bernoulli(n, x/2) - bernoulli(n, (x+1)/2));\n",
    "\n",
    "for n from 0 to 6 do\n",
    "print(sort(expand(2*altBpoly(n, x))), sort(expand(Gpoly(n, x)))) od;"
   ]
  },
  {
   "cell_type": "code",
   "execution_count": null,
   "metadata": {},
   "outputs": [],
   "source": [
    "# Maple\n",
    "\n",
    "altBnum2 := n -> 2^(n-1)*(bernoulli(n, 1/2) - bernoulli(n, 1)):\n",
    "\n",
    "seq(altBnum(n), n=0..16);\n",
    "seq(altBnum2(n), n=0..16);\n",
    "seq(altBpoly(n,1), n=0..16);"
   ]
  },
  {
   "cell_type": "markdown",
   "metadata": {},
   "source": [
    "<h2 style='color:#5E7AFF;margin-bottom:16px'>Formula <span style='color:orange'>78</span></h2>\n",
    "\\begin{equation} \n",
    "    \\operatorname{E}_{n}(x) \\, = \\, 2 \\zeta^{*}(-n, x) \\,\n",
    "    = \\, -\\frac{2}{n+1}\\operatorname{B}^{*}_{n+1}(x)\n",
    "\\end{equation}"
   ]
  },
  {
   "cell_type": "code",
   "execution_count": null,
   "metadata": {},
   "outputs": [],
   "source": [
    "# Maple\n",
    "# Euler polynomials via Zeta function\n",
    "\n",
    "Epoly := (n, x) -> 2^(n + 1)*(Zeta(0, -n, x/2) - Zeta(0, -n, (x+1)/2)):\n",
    "\n",
    "for n from 0 to 6 do\n",
    "    print(simplify(Epoly(n, x)),\n",
    "    euler(n,x),\n",
    "    simplify(2*altHZeta(-n, x)),\n",
    "    simplify(-(2/(n + 1))*altBpoly(n + 1, x) ))\n",
    "od;\n",
    "\n",
    "seq(euler(n), n=0..16);"
   ]
  },
  {
   "cell_type": "markdown",
   "metadata": {},
   "source": [
    "<h2 style='color:#5E7AFF;margin-bottom:16px'>Formula <span style='color:orange'>79</span></h2>\n",
    "\\begin{equation}\n",
    "\\operatorname{E}_{n} =\n",
    "2^n \\operatorname{E}_{n}\\left( \\frac12\\right)\n",
    "= -\\frac{2^{n+1}}{n+1}\\operatorname{B}^{*}_{n+1}\\left(\\frac12\\right) \n",
    "\\end{equation}"
   ]
  },
  {
   "cell_type": "code",
   "execution_count": null,
   "metadata": {},
   "outputs": [],
   "source": [
    "# Maple\n",
    "# Euler numbers via alternating Bernoulli function\n",
    "\n",
    "Enum := n -> -2^(n+1)*altBpoly(n+1,1/2)/(n+1):\n",
    "\n",
    "seq(Enum(n), n=0..16);\n",
    "seq(2^n*euler(n, 1/2), n=0..16);"
   ]
  },
  {
   "cell_type": "markdown",
   "metadata": {},
   "source": [
    "<h2 style='color:#5E7AFF;margin-bottom:16px'>Formula <span style='color:orange'>80</span></h2>\n",
    "\n",
    "\\begin{equation} \\textcolor{formula}{\n",
    "    |\\operatorname{B}(s)|  \\,  \\sim \\, 4\\,\\pi\\, \\left( \\frac {s}{2 \\pi \\rm e} \\right)^{s+1/2}\n",
    "    \\exp\\left(\\frac12 + \\frac{s^{-1}}{12} - \\frac{s^{-3}}{360} + \\frac{s^{-5}}{1260}\\right) }\n",
    "\\end{equation}"
   ]
  },
  {
   "cell_type": "code",
   "execution_count": null,
   "metadata": {},
   "outputs": [],
   "source": [
    "# Maple\n",
    "\n",
    "Basy := s -> -(-1)^binomial(s,2)*4*Pi*((s/(2*Pi*exp(1)))^(s+1/2)*exp(1/2+s^(-1)/12-s^(-3)/360+s^(-5)/1260)):\n",
    "evalf(Basy(100), 32); evalf(bernoulli(100), 32);"
   ]
  },
  {
   "cell_type": "markdown",
   "metadata": {},
   "source": [
    "<h2 style='color:#5E7AFF;margin-bottom:16px'>Formula <span style='color:orange'>81</span></h2>\n",
    "$$ T(z) = \\frac{z}{1 - e^{-z}} $$ "
   ]
  },
  {
   "cell_type": "code",
   "execution_count": null,
   "metadata": {},
   "outputs": [],
   "source": [
    "# Maple\n",
    "# Todd function, generating function of the Bernoulli numbers\n",
    "T := z -> z/(1 - exp(-z));\n",
    "ser := series(T, z, 13);\n",
    "seq(n!*coefficient(ser, z, n), n = 0..12);"
   ]
  },
  {
   "cell_type": "markdown",
   "metadata": {},
   "source": [
    "<h2 style='color:#5E7AFF;margin-bottom:16px'>Graphics Maple</h2>"
   ]
  },
  {
   "cell_type": "code",
   "execution_count": null,
   "metadata": {},
   "outputs": [],
   "source": [
    "with(plots):\n",
    "complexplot3d(log(B(z)), z = 1/2 - 32*I .. 6.99 + 32*I);\n",
    "complexplot3d(log(B(z)*(1-2^z)), z = 1/2 - 32*I .. 6.99 + 32*I);\n",
    "complexplot3d(log(B(z)), z = -1/2 - 32*I .. -6.99 + 32*I);\n",
    "complexplot3d(log(B(z)/(1-2^z)), z = 1/2 - 32*I .. 6.99 + 32*I);\n",
    "complexplot3d(log((I^z/(2*Pi)^z + (-I)^z/(2*Pi)^z)), z = 0 - 12*I .. 6.98 + 12*I);\n",
    "complexplot3d(log(xi(z)), z = 1/2 - 32*I .. 12.99 + 32*I);\n",
    "# complexplot3d(log(f(z)), z = 1/2 - 32*I .. 12.99 + 32*I);\n",
    "complexplot3d(log(Y(z)), z = 1/2 - 32*I .. 6.99 + 32*I);\n",
    "plot(-Zeta(z)*((I^z/(2*Pi)^z + (-I)^z/(2*Pi)^z)), z = -2..3 );"
   ]
  },
  {
   "cell_type": "markdown",
   "metadata": {},
   "source": [
    "<h2 style='color:#5E7AFF;margin-bottom:16px'>Graphics Mathematica</h2>"
   ]
  },
  {
   "cell_type": "code",
   "execution_count": null,
   "metadata": {},
   "outputs": [],
   "source": [
    "(*v*)"
   ]
  },
  {
   "cell_type": "markdown",
   "metadata": {},
   "source": [
    "<h2 style='color:#5E7AFF;margin-bottom:16px'>Tables</h2>"
   ]
  },
  {
   "cell_type": "code",
   "execution_count": null,
   "metadata": {},
   "outputs": [],
   "source": [
    "# $$ beta_n  \\qquad b_n = \\frac{\\beta_n}{n!} $$ \n",
    "# Maple           \n",
    "\n",
    "[ 0]  +1.00000000000000000000000e+00   +1.00000000000000000000000e+00\n",
    "[ 1]  -5.77215664901532860606512e-01   -5.77215664901532860606512e-01\n",
    "[ 2]  +1.45631690967353449721173e-01   +7.28158454836767248605864e-02\n",
    "[ 3]  +2.90710895786169554535912e-02   +4.84518159643615924226519e-03\n",
    "[ 4]  -8.21533768121338346464019e-03   -3.42305736717224311026674e-04\n",
    "[ 5]  -1.16268503273365002873409e-02   -9.68904193944708357278404e-05\n",
    "[ 6]  -4.75994290380637621052001e-03   -6.61103181084218918127779e-06\n",
    "[ 7]  +1.67138541801139726910695e-03   +3.31624090875277235933919e-07\n",
    "[ 8]  +4.21831653646200836859278e-03   +1.04620945844791874221051e-07\n",
    "[ 9]  +3.16911018422735558641847e-03   +8.73321810027379736116201e-09\n",
    "[10]  +3.43947744180880481779146e-04   +9.47827778276235895555407e-11\n",
    "[11]  -2.25866096399971274152095e-03   -5.65842192760870796637242e-11\n",
    "[12]  -3.24221327452684232007482e-03   -6.76868986351369665586675e-12\n",
    "[13]  -2.17454785736682251359552e-03   -3.49211593667203185445522e-13\n",
    "[14]  +3.84493292452642224040106e-04   +4.41042474175775338023724e-15\n",
    "[15]  +3.13813893088949918755710e-03   +2.39978622177099917550506e-15\n",
    "[16]  +4.53549848512386314628695e-03   +2.16773122007268285496389e-16\n",
    "[17]  +3.39484659125248617003234e-03   +9.54446607636696517342499e-18\n",
    "[18]  -4.72986667978530060590399e-04   -7.38767666053863649781558e-20\n",
    "[19]  -5.83999975483580370526234e-03   -4.80085078248806522761766e-20\n",
    "[20]  -1.00721090609471125811119e-02   -4.13995673771330564126948e-21\n",
    "[21]  -9.79321479174274843741249e-03   -1.91682015939912339496482e-22\n",
    "[22]  -2.29763093463200254783750e-03   -2.04415431222621660772759e-24\n",
    "[23]  +1.24567903906919471380695e-02   +4.81849850110735344392922e-25\n",
    "[24]  +2.98550901697978987031938e-02   +4.81185705151256647946111e-26\n",
    "[25]  +3.97127819725890390476549e-02   +2.56026331031881493660913e-27\n",
    "[26]  +2.79393907712007094428316e-02   +6.92784089530466712388013e-29\n",
    "[27]  -1.77336950032031696506289e-02   -1.62860755048558674407104e-30\n",
    "[28]  -9.73794335813190698522061e-02   -3.19393756115325557604211e-31\n",
    "[29]  -1.85601987419318254285110e-01   -2.09915158936342552768549e-32\n",
    "[30]  -2.21134553114167174032372e-01   -8.33674529544144047562508e-34\n",
    "[31]  -1.10289594522767989385320e-01   -1.34125937721921866750473e-35\n",
    "[32]  +2.40426431930087325860325e-01   +9.13714389129817199794565e-37\n",
    "[33]  +8.48223060577873259185100e-01   +9.76842144689316562821221e-38\n",
    "[34]  +1.53362895967472747676942e+00   +5.19464288745573322360277e-39\n",
    "[35]  +1.78944248075279625487765e+00   +1.73174959516100441594633e-40\n",
    "[36]  +7.33429569739007257407068e-01   +1.97162023326628724184554e-42\n",
    "[37]  -2.68183987622201934815062e+00   -1.94848008275558832944550e-43\n",
    "[38]  -8.96900252642345710339731e+00   -1.71484028164349789185891e-44\n",
    "[39]  -1.67295744090075569567376e+01   -8.20162325795024844398325e-46\n",
    "[40]  -2.07168737077169487591557e+01   -2.53909617003982347034561e-47\n",
    "[41]  -1.01975839351792340684642e+01   -3.04837480681247325379474e-49\n",
    "[42]  +3.02221435698546147289327e+01   +2.15103288078139524274228e-50\n",
    "[43]  +1.13468181875436585038896e+02   +1.87813767783170614584043e-51\n",
    "[44]  +2.31656933743621048467685e+02   +8.71456987091534575015368e-53\n",
    "[45]  +3.23493565027658727705394e+02   +2.70429325494165277375631e-54\n",
    "[46]  +2.33327851136153134645751e+02   +4.24030297482975157602467e-56\n",
    "[47]  -3.10666033627557393250479e+02   -1.20123014394335413203436e-57\n",
    "[48]  -1.63390919914361991588774e+03   -1.31619164554817482023699e-58\n",
    "[49]  -3.85544150839888666284589e+03   -6.33824832920169119558284e-60\n",
    "[50]  -6.29221938159892345466820e+03   -2.06884990450560309799972e-61 "
   ]
  },
  {
   "cell_type": "code",
   "execution_count": null,
   "metadata": {},
   "outputs": [],
   "source": []
  }
 ],
 "metadata": {
  "kernelspec": {
   "display_name": "Julia 1.4.0",
   "language": "julia",
   "name": "julia-1.4"
  },
  "language_info": {
   "file_extension": ".jl",
   "mimetype": "application/julia",
   "name": "julia",
   "version": "1.4.0"
  }
 },
 "nbformat": 4,
 "nbformat_minor": 4
}
